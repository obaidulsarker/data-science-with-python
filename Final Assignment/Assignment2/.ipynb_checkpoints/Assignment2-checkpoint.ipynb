{
 "cells": [
  {
   "cell_type": "code",
   "execution_count": 1,
   "id": "091ea060",
   "metadata": {},
   "outputs": [],
   "source": [
    "# Import necessary libraries\n",
    "import pandas as pd\n",
    "import numpy as np\n",
    "import re\n",
    "from sklearn.model_selection import train_test_split\n",
    "from sklearn.feature_extraction.text import TfidfVectorizer\n",
    "from sklearn.linear_model import LogisticRegression\n",
    "from sklearn.ensemble import RandomForestClassifier\n",
    "from sklearn.svm import SVC\n",
    "from sklearn.naive_bayes import MultinomialNB\n",
    "from sklearn.ensemble import GradientBoostingClassifier\n",
    "from sklearn.metrics import accuracy_score, precision_score, recall_score, f1_score, confusion_matrix\n",
    "from sklearn.model_selection import GridSearchCV, RandomizedSearchCV\n",
    "from sklearn.pipeline import Pipeline\n",
    "from sklearn.base import TransformerMixin\n",
    "import matplotlib.pyplot as plt\n",
    "import seaborn as sns"
   ]
  },
  {
   "cell_type": "code",
   "execution_count": 2,
   "id": "12660e67",
   "metadata": {},
   "outputs": [],
   "source": [
    "# Load dataset\n",
    "df = pd.read_csv('data/amazon.csv') # Replace with actual dataset path"
   ]
  },
  {
   "cell_type": "code",
   "execution_count": 3,
   "id": "e6013d7d",
   "metadata": {},
   "outputs": [
    {
     "name": "stdout",
     "output_type": "stream",
     "text": [
      "<class 'pandas.core.frame.DataFrame'>\n",
      "RangeIndex: 20000 entries, 0 to 19999\n",
      "Data columns (total 2 columns):\n",
      " #   Column      Non-Null Count  Dtype \n",
      "---  ------      --------------  ----- \n",
      " 0   reviewText  20000 non-null  object\n",
      " 1   Positive    20000 non-null  int64 \n",
      "dtypes: int64(1), object(1)\n",
      "memory usage: 312.6+ KB\n"
     ]
    }
   ],
   "source": [
    "df.info()"
   ]
  },
  {
   "cell_type": "code",
   "execution_count": 4,
   "id": "e2ff24b2",
   "metadata": {},
   "outputs": [
    {
     "data": {
      "text/html": [
       "<div>\n",
       "<style scoped>\n",
       "    .dataframe tbody tr th:only-of-type {\n",
       "        vertical-align: middle;\n",
       "    }\n",
       "\n",
       "    .dataframe tbody tr th {\n",
       "        vertical-align: top;\n",
       "    }\n",
       "\n",
       "    .dataframe thead th {\n",
       "        text-align: right;\n",
       "    }\n",
       "</style>\n",
       "<table border=\"1\" class=\"dataframe\">\n",
       "  <thead>\n",
       "    <tr style=\"text-align: right;\">\n",
       "      <th></th>\n",
       "      <th>reviewText</th>\n",
       "      <th>Positive</th>\n",
       "    </tr>\n",
       "  </thead>\n",
       "  <tbody>\n",
       "    <tr>\n",
       "      <th>0</th>\n",
       "      <td>This is a one of the best apps acording to a b...</td>\n",
       "      <td>1</td>\n",
       "    </tr>\n",
       "    <tr>\n",
       "      <th>1</th>\n",
       "      <td>This is a pretty good version of the game for ...</td>\n",
       "      <td>1</td>\n",
       "    </tr>\n",
       "    <tr>\n",
       "      <th>2</th>\n",
       "      <td>this is a really cool game. there are a bunch ...</td>\n",
       "      <td>1</td>\n",
       "    </tr>\n",
       "    <tr>\n",
       "      <th>3</th>\n",
       "      <td>This is a silly game and can be frustrating, b...</td>\n",
       "      <td>1</td>\n",
       "    </tr>\n",
       "    <tr>\n",
       "      <th>4</th>\n",
       "      <td>This is a terrific game on any pad. Hrs of fun...</td>\n",
       "      <td>1</td>\n",
       "    </tr>\n",
       "  </tbody>\n",
       "</table>\n",
       "</div>"
      ],
      "text/plain": [
       "                                          reviewText  Positive\n",
       "0  This is a one of the best apps acording to a b...         1\n",
       "1  This is a pretty good version of the game for ...         1\n",
       "2  this is a really cool game. there are a bunch ...         1\n",
       "3  This is a silly game and can be frustrating, b...         1\n",
       "4  This is a terrific game on any pad. Hrs of fun...         1"
      ]
     },
     "execution_count": 4,
     "metadata": {},
     "output_type": "execute_result"
    }
   ],
   "source": [
    "df.head()"
   ]
  },
  {
   "cell_type": "code",
   "execution_count": 5,
   "id": "1d0018aa",
   "metadata": {},
   "outputs": [
    {
     "data": {
      "text/plain": [
       "reviewText    0\n",
       "Positive      0\n",
       "dtype: int64"
      ]
     },
     "execution_count": 5,
     "metadata": {},
     "output_type": "execute_result"
    }
   ],
   "source": [
    "df.isnull().sum()"
   ]
  },
  {
   "cell_type": "code",
   "execution_count": 6,
   "id": "ab9a1bab",
   "metadata": {},
   "outputs": [],
   "source": [
    "# Text preprocessing\n",
    "class TextPreprocessor(TransformerMixin):\n",
    "    def transform(self, X, **transform_params):\n",
    "        return [self._clean_text(text) for text in X]\n",
    "    \n",
    "    def fit(self, X, y=None, **fit_params):\n",
    "        return self\n",
    "    \n",
    "    def _clean_text(self, text):\n",
    "        text = text.lower()\n",
    "        text = re.sub(r'[^a-zA-Z\\s]', '', text)\n",
    "        text = ' '.join([word for word in text.split() if word not in stop_words])\n",
    "        return text"
   ]
  },
  {
   "cell_type": "code",
   "execution_count": 7,
   "id": "2ab255b4",
   "metadata": {},
   "outputs": [],
   "source": [
    "# List of stop words\n",
    "stop_words = set(['the', 'and', 'is', 'in', 'to', 'of', 'for', 'it', 'on', 'with', 'as', 'this', 'that', 'are'])\n"
   ]
  },
  {
   "cell_type": "code",
   "execution_count": 8,
   "id": "d938e15f",
   "metadata": {},
   "outputs": [],
   "source": [
    "# Applying text preprocessing\n",
    "preprocessor = TextPreprocessor()\n",
    "df['cleaned_reviewText'] = preprocessor.transform(df['reviewText'])\n"
   ]
  },
  {
   "cell_type": "code",
   "execution_count": 9,
   "id": "4c676644",
   "metadata": {},
   "outputs": [
    {
     "data": {
      "text/html": [
       "<div>\n",
       "<style scoped>\n",
       "    .dataframe tbody tr th:only-of-type {\n",
       "        vertical-align: middle;\n",
       "    }\n",
       "\n",
       "    .dataframe tbody tr th {\n",
       "        vertical-align: top;\n",
       "    }\n",
       "\n",
       "    .dataframe thead th {\n",
       "        text-align: right;\n",
       "    }\n",
       "</style>\n",
       "<table border=\"1\" class=\"dataframe\">\n",
       "  <thead>\n",
       "    <tr style=\"text-align: right;\">\n",
       "      <th></th>\n",
       "      <th>reviewText</th>\n",
       "      <th>Positive</th>\n",
       "      <th>cleaned_reviewText</th>\n",
       "    </tr>\n",
       "  </thead>\n",
       "  <tbody>\n",
       "    <tr>\n",
       "      <th>0</th>\n",
       "      <td>This is a one of the best apps acording to a b...</td>\n",
       "      <td>1</td>\n",
       "      <td>a one best apps acording a bunch people i agre...</td>\n",
       "    </tr>\n",
       "    <tr>\n",
       "      <th>1</th>\n",
       "      <td>This is a pretty good version of the game for ...</td>\n",
       "      <td>1</td>\n",
       "      <td>a pretty good version game being free there lo...</td>\n",
       "    </tr>\n",
       "    <tr>\n",
       "      <th>2</th>\n",
       "      <td>this is a really cool game. there are a bunch ...</td>\n",
       "      <td>1</td>\n",
       "      <td>a really cool game there a bunch levels you ca...</td>\n",
       "    </tr>\n",
       "    <tr>\n",
       "      <th>3</th>\n",
       "      <td>This is a silly game and can be frustrating, b...</td>\n",
       "      <td>1</td>\n",
       "      <td>a silly game can be frustrating but lots fun d...</td>\n",
       "    </tr>\n",
       "    <tr>\n",
       "      <th>4</th>\n",
       "      <td>This is a terrific game on any pad. Hrs of fun...</td>\n",
       "      <td>1</td>\n",
       "      <td>a terrific game any pad hrs fun my grandkids l...</td>\n",
       "    </tr>\n",
       "  </tbody>\n",
       "</table>\n",
       "</div>"
      ],
      "text/plain": [
       "                                          reviewText  Positive  \\\n",
       "0  This is a one of the best apps acording to a b...         1   \n",
       "1  This is a pretty good version of the game for ...         1   \n",
       "2  this is a really cool game. there are a bunch ...         1   \n",
       "3  This is a silly game and can be frustrating, b...         1   \n",
       "4  This is a terrific game on any pad. Hrs of fun...         1   \n",
       "\n",
       "                                  cleaned_reviewText  \n",
       "0  a one best apps acording a bunch people i agre...  \n",
       "1  a pretty good version game being free there lo...  \n",
       "2  a really cool game there a bunch levels you ca...  \n",
       "3  a silly game can be frustrating but lots fun d...  \n",
       "4  a terrific game any pad hrs fun my grandkids l...  "
      ]
     },
     "execution_count": 9,
     "metadata": {},
     "output_type": "execute_result"
    }
   ],
   "source": [
    "df.head()"
   ]
  },
  {
   "cell_type": "code",
   "execution_count": 10,
   "id": "5254c76a",
   "metadata": {},
   "outputs": [],
   "source": [
    "# Splitting the dataset\n",
    "X_train, X_test, y_train, y_test = train_test_split(df['cleaned_reviewText'], df['Positive'], test_size=0.2, random_state=42)\n"
   ]
  },
  {
   "cell_type": "code",
   "execution_count": 11,
   "id": "80feac7a",
   "metadata": {},
   "outputs": [],
   "source": [
    "# 3. Model Selection\n",
    "models = {\n",
    "    'Logistic Regression': LogisticRegression(max_iter=1000),\n",
    "    'Random Forest': RandomForestClassifier(),\n",
    "    'SVM': SVC(),\n",
    "    'Naïve Bayes': MultinomialNB(),\n",
    "    'Gradient Boosting': GradientBoostingClassifier()\n",
    "}"
   ]
  },
  {
   "cell_type": "code",
   "execution_count": 12,
   "id": "52683519",
   "metadata": {},
   "outputs": [],
   "source": [
    "# Vectorization and training pipeline\n",
    "pipeline = Pipeline([\n",
    "    ('tfidf', TfidfVectorizer()),\n",
    "    ('clf', LogisticRegression())\n",
    "])"
   ]
  },
  {
   "cell_type": "code",
   "execution_count": 13,
   "id": "57c136d6",
   "metadata": {},
   "outputs": [
    {
     "name": "stdout",
     "output_type": "stream",
     "text": [
      "Logistic Regression Results:\n",
      "Accuracy: 0.90\n",
      "Precision: 0.91\n",
      "Recall: 0.96\n",
      "F1 Score: 0.93\n",
      "Confusion Matrix:\n",
      "[[ 653  305]\n",
      " [ 108 2934]]\n",
      "\n",
      "Random Forest Results:\n",
      "Accuracy: 0.87\n",
      "Precision: 0.86\n",
      "Recall: 0.98\n",
      "F1 Score: 0.92\n",
      "Confusion Matrix:\n",
      "[[ 480  478]\n",
      " [  53 2989]]\n",
      "\n",
      "SVM Results:\n",
      "Accuracy: 0.90\n",
      "Precision: 0.91\n",
      "Recall: 0.96\n",
      "F1 Score: 0.94\n",
      "Confusion Matrix:\n",
      "[[ 677  281]\n",
      " [ 107 2935]]\n",
      "\n",
      "Naïve Bayes Results:\n",
      "Accuracy: 0.79\n",
      "Precision: 0.78\n",
      "Recall: 1.00\n",
      "F1 Score: 0.88\n",
      "Confusion Matrix:\n",
      "[[ 112  846]\n",
      " [   7 3035]]\n",
      "\n",
      "Gradient Boosting Results:\n",
      "Accuracy: 0.85\n",
      "Precision: 0.86\n",
      "Recall: 0.97\n",
      "F1 Score: 0.91\n",
      "Confusion Matrix:\n",
      "[[ 467  491]\n",
      " [  94 2948]]\n",
      "\n"
     ]
    }
   ],
   "source": [
    "# 4. Model Training and 5. Formal Evaluation\n",
    "results = {}\n",
    "\n",
    "for name, model in models.items():\n",
    "    pipeline.set_params(clf=model)\n",
    "    pipeline.fit(X_train, y_train)\n",
    "    y_pred = pipeline.predict(X_test)\n",
    "    \n",
    "    accuracy = accuracy_score(y_test, y_pred)\n",
    "    precision = precision_score(y_test, y_pred)\n",
    "    recall = recall_score(y_test, y_pred)\n",
    "    f1 = f1_score(y_test, y_pred)\n",
    "    cm = confusion_matrix(y_test, y_pred)\n",
    "    \n",
    "    results[name] = {\n",
    "        'accuracy': accuracy,\n",
    "        'precision': precision,\n",
    "        'recall': recall,\n",
    "        'f1': f1,\n",
    "        'confusion_matrix': cm\n",
    "    }\n",
    "    \n",
    "    print(f\"{name} Results:\")\n",
    "    print(f\"Accuracy: {accuracy:.2f}\")\n",
    "    print(f\"Precision: {precision:.2f}\")\n",
    "    print(f\"Recall: {recall:.2f}\")\n",
    "    print(f\"F1 Score: {f1:.2f}\")\n",
    "    print(f\"Confusion Matrix:\\n{cm}\\n\")"
   ]
  },
  {
   "cell_type": "code",
   "execution_count": null,
   "id": "1a6bb4cf",
   "metadata": {},
   "outputs": [],
   "source": [
    "# 6. Hyperparameter Tuning for Logistic Regression as an example\n",
    "gb_param_grid = {\n",
    "    'clf__n_estimators': [50, 100, 150],\n",
    "    'clf__learning_rate': [0.01, 0.1, 0.2],\n",
    "    'clf__max_depth': [3, 5, 7],\n",
    "    'clf__min_samples_split': [2, 5, 10],\n",
    "    'clf__min_samples_leaf': [1, 2, 4]\n",
    "}\n",
    "\n",
    "# Update pipeline for Gradient Boosting\n",
    "pipeline.set_params(clf=GradientBoostingClassifier())\n",
    "\n",
    "# Perform Grid Search\n",
    "grid_search = GridSearchCV(pipeline, gb_param_grid, cv=5, scoring='accuracy')\n",
    "grid_search.fit(X_train, y_train)"
   ]
  },
  {
   "cell_type": "code",
   "execution_count": null,
   "id": "01846098",
   "metadata": {},
   "outputs": [],
   "source": [
    "# Best parameters and results\n",
    "best_params = grid_search.best_params_\n",
    "best_score = grid_search.best_score_"
   ]
  },
  {
   "cell_type": "code",
   "execution_count": null,
   "id": "b5ddeb7c",
   "metadata": {},
   "outputs": [],
   "source": [
    "print(f\"Best parameters for Logistic Regression: {best_params}\")\n",
    "print(f\"Best cross-validated score: {best_score:.2f}\")"
   ]
  },
  {
   "cell_type": "code",
   "execution_count": null,
   "id": "f4795874",
   "metadata": {},
   "outputs": [],
   "source": [
    "# 7. Comparative Analysis\n",
    "# Plotting metrics for comparison\n",
    "metrics = ['accuracy', 'precision', 'recall', 'f1']\n",
    "for metric in metrics:\n",
    "    scores = [results[model][metric] for model in models]\n",
    "    plt.figure(figsize=(10, 5))\n",
    "    sns.barplot(x=list(models.keys()), y=scores)\n",
    "    plt.title(f'Comparison of {metric.capitalize()}')\n",
    "    plt.ylabel(metric.capitalize())\n",
    "    plt.xlabel('Model')\n",
    "    plt.show()"
   ]
  },
  {
   "cell_type": "code",
   "execution_count": null,
   "id": "780bba22",
   "metadata": {},
   "outputs": [],
   "source": []
  }
 ],
 "metadata": {
  "kernelspec": {
   "display_name": "Python 3 (ipykernel)",
   "language": "python",
   "name": "python3"
  },
  "language_info": {
   "codemirror_mode": {
    "name": "ipython",
    "version": 3
   },
   "file_extension": ".py",
   "mimetype": "text/x-python",
   "name": "python",
   "nbconvert_exporter": "python",
   "pygments_lexer": "ipython3",
   "version": "3.11.5"
  }
 },
 "nbformat": 4,
 "nbformat_minor": 5
}
