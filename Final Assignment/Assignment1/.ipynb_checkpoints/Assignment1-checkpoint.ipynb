{
 "cells": [
  {
   "cell_type": "code",
   "execution_count": 78,
   "id": "b3291be6",
   "metadata": {},
   "outputs": [],
   "source": [
    "#!pip install xgboost"
   ]
  },
  {
   "cell_type": "code",
   "execution_count": 154,
   "id": "11045a62",
   "metadata": {},
   "outputs": [],
   "source": [
    "import pandas as pd\n",
    "import numpy as np\n",
    "import matplotlib.pyplot as plt\n",
    "import seaborn as sns\n",
    "from sklearn.model_selection import train_test_split\n",
    "from sklearn.preprocessing import StandardScaler, LabelEncoder\n",
    "from sklearn.impute import SimpleImputer\n",
    "import re\n",
    "\n",
    "\n",
    "from sklearn.linear_model import LogisticRegression\n",
    "from sklearn.ensemble import RandomForestClassifier\n",
    "from sklearn.svm import SVC\n",
    "from xgboost import XGBClassifier\n",
    "from sklearn.metrics import accuracy_score, precision_score, recall_score, f1_score, confusion_matrix\n"
   ]
  },
  {
   "cell_type": "markdown",
   "id": "1eac2dbb",
   "metadata": {},
   "source": [
    "### Load dataset"
   ]
  },
  {
   "cell_type": "code",
   "execution_count": 155,
   "id": "71f757a7",
   "metadata": {},
   "outputs": [],
   "source": [
    "# Load the dataset\n",
    "file_path = 'data\\Bank Data.csv'\n",
    "df = pd.read_csv(file_path)"
   ]
  },
  {
   "cell_type": "markdown",
   "id": "1bd537d7",
   "metadata": {},
   "source": [
    "### Data Exploration and Preprocessing:"
   ]
  },
  {
   "cell_type": "code",
   "execution_count": 156,
   "id": "c017863e",
   "metadata": {},
   "outputs": [
    {
     "data": {
      "text/plain": [
       "(50000, 27)"
      ]
     },
     "execution_count": 156,
     "metadata": {},
     "output_type": "execute_result"
    }
   ],
   "source": [
    "df.shape"
   ]
  },
  {
   "cell_type": "code",
   "execution_count": 157,
   "id": "30ee339b",
   "metadata": {},
   "outputs": [
    {
     "name": "stdout",
     "output_type": "stream",
     "text": [
      "<class 'pandas.core.frame.DataFrame'>\n",
      "RangeIndex: 50000 entries, 0 to 49999\n",
      "Data columns (total 27 columns):\n",
      " #   Column                    Non-Null Count  Dtype  \n",
      "---  ------                    --------------  -----  \n",
      " 0   ID                        50000 non-null  object \n",
      " 1   Customer_ID               50000 non-null  object \n",
      " 2   Month                     50000 non-null  object \n",
      " 3   Name                      44985 non-null  object \n",
      " 4   Age                       50000 non-null  object \n",
      " 5   SSN                       50000 non-null  object \n",
      " 6   Occupation                50000 non-null  object \n",
      " 7   Annual_Income             50000 non-null  object \n",
      " 8   Monthly_Inhand_Salary     42502 non-null  float64\n",
      " 9   Num_Bank_Accounts         50000 non-null  int64  \n",
      " 10  Num_Credit_Card           50000 non-null  int64  \n",
      " 11  Interest_Rate             50000 non-null  int64  \n",
      " 12  Num_of_Loan               50000 non-null  object \n",
      " 13  Type_of_Loan              44296 non-null  object \n",
      " 14  Delay_from_due_date       50000 non-null  int64  \n",
      " 15  Num_of_Delayed_Payment    46502 non-null  object \n",
      " 16  Changed_Credit_Limit      50000 non-null  object \n",
      " 17  Num_Credit_Inquiries      48965 non-null  float64\n",
      " 18  Credit_Mix                50000 non-null  object \n",
      " 19  Outstanding_Debt          50000 non-null  object \n",
      " 20  Credit_Utilization_Ratio  50000 non-null  float64\n",
      " 21  Credit_History_Age        45530 non-null  object \n",
      " 22  Payment_of_Min_Amount     50000 non-null  object \n",
      " 23  Total_EMI_per_month       50000 non-null  float64\n",
      " 24  Amount_invested_monthly   47729 non-null  object \n",
      " 25  Payment_Behaviour         50000 non-null  object \n",
      " 26  Monthly_Balance           49438 non-null  object \n",
      "dtypes: float64(4), int64(4), object(19)\n",
      "memory usage: 10.3+ MB\n",
      "None\n"
     ]
    }
   ],
   "source": [
    "# Display basic information\n",
    "print(df.info())"
   ]
  },
  {
   "cell_type": "code",
   "execution_count": 158,
   "id": "b21c063c",
   "metadata": {},
   "outputs": [
    {
     "name": "stdout",
     "output_type": "stream",
     "text": [
      "       Monthly_Inhand_Salary  Num_Bank_Accounts  Num_Credit_Card  \\\n",
      "count           42502.000000       50000.000000     50000.000000   \n",
      "mean             4182.004291          16.838260        22.921480   \n",
      "std              3174.109304         116.396848       129.314804   \n",
      "min               303.645417          -1.000000         0.000000   \n",
      "25%              1625.188333           3.000000         4.000000   \n",
      "50%              3086.305000           6.000000         5.000000   \n",
      "75%              5934.189094           7.000000         7.000000   \n",
      "max             15204.633333        1798.000000      1499.000000   \n",
      "\n",
      "       Interest_Rate  Delay_from_due_date  Num_Credit_Inquiries  \\\n",
      "count   50000.000000         50000.000000          48965.000000   \n",
      "mean       68.772640            21.052640             30.080200   \n",
      "std       451.602363            14.860397            196.984121   \n",
      "min         1.000000            -5.000000              0.000000   \n",
      "25%         8.000000            10.000000              4.000000   \n",
      "50%        13.000000            18.000000              7.000000   \n",
      "75%        20.000000            28.000000             10.000000   \n",
      "max      5799.000000            67.000000           2593.000000   \n",
      "\n",
      "       Credit_Utilization_Ratio  Total_EMI_per_month  \n",
      "count              50000.000000         50000.000000  \n",
      "mean                  32.279581          1491.304305  \n",
      "std                    5.106238          8595.647887  \n",
      "min                   20.509652             0.000000  \n",
      "25%                   28.061040            32.222388  \n",
      "50%                   32.280390            74.733349  \n",
      "75%                   36.468591           176.157491  \n",
      "max                   48.540663         82398.000000  \n"
     ]
    }
   ],
   "source": [
    "print(df.describe())"
   ]
  },
  {
   "cell_type": "code",
   "execution_count": 159,
   "id": "3ba6ae20",
   "metadata": {},
   "outputs": [],
   "source": [
    "# Drop Unncessary features\n",
    "df.drop(['ID','Customer_ID','Name', 'SSN'], axis=1, inplace=True)"
   ]
  },
  {
   "cell_type": "code",
   "execution_count": 160,
   "id": "2ee93875",
   "metadata": {},
   "outputs": [
    {
     "data": {
      "text/plain": [
       "array(['No', 'Yes', 'NM'], dtype=object)"
      ]
     },
     "execution_count": 160,
     "metadata": {},
     "output_type": "execute_result"
    }
   ],
   "source": [
    "df['Payment_of_Min_Amount'].unique()"
   ]
  },
  {
   "cell_type": "code",
   "execution_count": 161,
   "id": "6de0dd87",
   "metadata": {},
   "outputs": [],
   "source": [
    " # Define a function to remove non-numeric characters from a string\n",
    "def remove_non_numeric(x):\n",
    "    # Replace non-numeric characters with an empty string\n",
    "    cleaned_str = re.sub(r'[^0-9.-]', '', str(x))\n",
    "    return cleaned_str"
   ]
  },
  {
   "cell_type": "code",
   "execution_count": 162,
   "id": "105d5ebd",
   "metadata": {
    "scrolled": true
   },
   "outputs": [],
   "source": [
    "df['Annual_Income'] = df['Annual_Income'].apply(remove_non_numeric).apply(pd.to_numeric, errors='coerce')\n",
    "df['Num_of_Delayed_Payment'] = df['Num_of_Delayed_Payment'].apply(remove_non_numeric).apply(pd.to_numeric, errors='coerce')\n",
    "df['Changed_Credit_Limit'] = df['Changed_Credit_Limit'].apply(remove_non_numeric).apply(pd.to_numeric, errors='coerce')\n",
    "df['Amount_invested_monthly'] = df['Amount_invested_monthly'].apply(remove_non_numeric).apply(pd.to_numeric, errors='coerce')\n",
    "df['Monthly_Balance'] = df['Monthly_Balance'].apply(remove_non_numeric).apply(pd.to_numeric, errors='coerce')\n",
    "df['Outstanding_Debt'] = df['Outstanding_Debt'].apply(remove_non_numeric).apply(pd.to_numeric, errors='coerce')\n",
    "df['Num_of_Loan'] = df['Num_of_Loan'].apply(remove_non_numeric).apply(pd.to_numeric, errors='coerce')\n",
    "df['Age'] = df['Age'].apply(remove_non_numeric).apply(pd.to_numeric, errors='coerce')"
   ]
  },
  {
   "cell_type": "code",
   "execution_count": 163,
   "id": "2d9d4a0f",
   "metadata": {},
   "outputs": [],
   "source": [
    "# Convert columns to numeric\n",
    "df['Annual_Income'] = pd.to_numeric(df['Annual_Income'])\n",
    "df['Outstanding_Debt'] = pd.to_numeric(df['Outstanding_Debt'])\n",
    "\n",
    "df['Num_of_Loan'] = pd.to_numeric(df['Num_of_Loan'])\n",
    "df['Num_of_Delayed_Payment'] = pd.to_numeric(df['Num_of_Delayed_Payment'])\n",
    "df['Changed_Credit_Limit'] = pd.to_numeric(df['Changed_Credit_Limit'])\n",
    "df['Outstanding_Debt'] = pd.to_numeric(df['Outstanding_Debt'])\n",
    "\n",
    "df['Num_Credit_Inquiries'] = pd.to_numeric(df['Num_Credit_Inquiries'])\n",
    "df['Amount_invested_monthly'] = pd.to_numeric(df['Amount_invested_monthly'])\n",
    "df['Monthly_Balance'] = pd.to_numeric(df['Monthly_Balance'])"
   ]
  },
  {
   "cell_type": "code",
   "execution_count": 164,
   "id": "fd6577b0",
   "metadata": {},
   "outputs": [
    {
     "data": {
      "text/html": [
       "<div>\n",
       "<style scoped>\n",
       "    .dataframe tbody tr th:only-of-type {\n",
       "        vertical-align: middle;\n",
       "    }\n",
       "\n",
       "    .dataframe tbody tr th {\n",
       "        vertical-align: top;\n",
       "    }\n",
       "\n",
       "    .dataframe thead th {\n",
       "        text-align: right;\n",
       "    }\n",
       "</style>\n",
       "<table border=\"1\" class=\"dataframe\">\n",
       "  <thead>\n",
       "    <tr style=\"text-align: right;\">\n",
       "      <th></th>\n",
       "      <th>Month</th>\n",
       "      <th>Age</th>\n",
       "      <th>Occupation</th>\n",
       "      <th>Annual_Income</th>\n",
       "      <th>Monthly_Inhand_Salary</th>\n",
       "      <th>Num_Bank_Accounts</th>\n",
       "      <th>Num_Credit_Card</th>\n",
       "      <th>Interest_Rate</th>\n",
       "      <th>Num_of_Loan</th>\n",
       "      <th>Type_of_Loan</th>\n",
       "      <th>...</th>\n",
       "      <th>Num_Credit_Inquiries</th>\n",
       "      <th>Credit_Mix</th>\n",
       "      <th>Outstanding_Debt</th>\n",
       "      <th>Credit_Utilization_Ratio</th>\n",
       "      <th>Credit_History_Age</th>\n",
       "      <th>Payment_of_Min_Amount</th>\n",
       "      <th>Total_EMI_per_month</th>\n",
       "      <th>Amount_invested_monthly</th>\n",
       "      <th>Payment_Behaviour</th>\n",
       "      <th>Monthly_Balance</th>\n",
       "    </tr>\n",
       "  </thead>\n",
       "  <tbody>\n",
       "    <tr>\n",
       "      <th>0</th>\n",
       "      <td>September</td>\n",
       "      <td>23</td>\n",
       "      <td>Scientist</td>\n",
       "      <td>19114.12</td>\n",
       "      <td>1824.843333</td>\n",
       "      <td>3</td>\n",
       "      <td>4</td>\n",
       "      <td>3</td>\n",
       "      <td>4</td>\n",
       "      <td>Auto Loan, Credit-Builder Loan, Personal Loan,...</td>\n",
       "      <td>...</td>\n",
       "      <td>2022.0</td>\n",
       "      <td>Good</td>\n",
       "      <td>809.98</td>\n",
       "      <td>35.030402</td>\n",
       "      <td>22 Years and 9 Months</td>\n",
       "      <td>No</td>\n",
       "      <td>49.574949</td>\n",
       "      <td>236.642682</td>\n",
       "      <td>Low_spent_Small_value_payments</td>\n",
       "      <td>186.266702</td>\n",
       "    </tr>\n",
       "    <tr>\n",
       "      <th>1</th>\n",
       "      <td>October</td>\n",
       "      <td>24</td>\n",
       "      <td>Scientist</td>\n",
       "      <td>19114.12</td>\n",
       "      <td>1824.843333</td>\n",
       "      <td>3</td>\n",
       "      <td>4</td>\n",
       "      <td>3</td>\n",
       "      <td>4</td>\n",
       "      <td>Auto Loan, Credit-Builder Loan, Personal Loan,...</td>\n",
       "      <td>...</td>\n",
       "      <td>4.0</td>\n",
       "      <td>Good</td>\n",
       "      <td>809.98</td>\n",
       "      <td>33.053114</td>\n",
       "      <td>22 Years and 10 Months</td>\n",
       "      <td>No</td>\n",
       "      <td>49.574949</td>\n",
       "      <td>21.465380</td>\n",
       "      <td>High_spent_Medium_value_payments</td>\n",
       "      <td>361.444004</td>\n",
       "    </tr>\n",
       "    <tr>\n",
       "      <th>2</th>\n",
       "      <td>November</td>\n",
       "      <td>24</td>\n",
       "      <td>Scientist</td>\n",
       "      <td>19114.12</td>\n",
       "      <td>1824.843333</td>\n",
       "      <td>3</td>\n",
       "      <td>4</td>\n",
       "      <td>3</td>\n",
       "      <td>4</td>\n",
       "      <td>Auto Loan, Credit-Builder Loan, Personal Loan,...</td>\n",
       "      <td>...</td>\n",
       "      <td>4.0</td>\n",
       "      <td>Good</td>\n",
       "      <td>809.98</td>\n",
       "      <td>33.811894</td>\n",
       "      <td>NaN</td>\n",
       "      <td>No</td>\n",
       "      <td>49.574949</td>\n",
       "      <td>148.233938</td>\n",
       "      <td>Low_spent_Medium_value_payments</td>\n",
       "      <td>264.675446</td>\n",
       "    </tr>\n",
       "    <tr>\n",
       "      <th>3</th>\n",
       "      <td>December</td>\n",
       "      <td>24</td>\n",
       "      <td>Scientist</td>\n",
       "      <td>19114.12</td>\n",
       "      <td>NaN</td>\n",
       "      <td>3</td>\n",
       "      <td>4</td>\n",
       "      <td>3</td>\n",
       "      <td>4</td>\n",
       "      <td>Auto Loan, Credit-Builder Loan, Personal Loan,...</td>\n",
       "      <td>...</td>\n",
       "      <td>4.0</td>\n",
       "      <td>Good</td>\n",
       "      <td>809.98</td>\n",
       "      <td>32.430559</td>\n",
       "      <td>23 Years and 0 Months</td>\n",
       "      <td>No</td>\n",
       "      <td>49.574949</td>\n",
       "      <td>39.082511</td>\n",
       "      <td>High_spent_Medium_value_payments</td>\n",
       "      <td>343.826873</td>\n",
       "    </tr>\n",
       "    <tr>\n",
       "      <th>4</th>\n",
       "      <td>September</td>\n",
       "      <td>28</td>\n",
       "      <td>_______</td>\n",
       "      <td>34847.84</td>\n",
       "      <td>3037.986667</td>\n",
       "      <td>2</td>\n",
       "      <td>4</td>\n",
       "      <td>6</td>\n",
       "      <td>1</td>\n",
       "      <td>Credit-Builder Loan</td>\n",
       "      <td>...</td>\n",
       "      <td>5.0</td>\n",
       "      <td>Good</td>\n",
       "      <td>605.03</td>\n",
       "      <td>25.926822</td>\n",
       "      <td>27 Years and 3 Months</td>\n",
       "      <td>No</td>\n",
       "      <td>18.816215</td>\n",
       "      <td>39.684018</td>\n",
       "      <td>High_spent_Large_value_payments</td>\n",
       "      <td>485.298434</td>\n",
       "    </tr>\n",
       "  </tbody>\n",
       "</table>\n",
       "<p>5 rows × 23 columns</p>\n",
       "</div>"
      ],
      "text/plain": [
       "       Month  Age Occupation  Annual_Income  Monthly_Inhand_Salary  \\\n",
       "0  September   23  Scientist       19114.12            1824.843333   \n",
       "1    October   24  Scientist       19114.12            1824.843333   \n",
       "2   November   24  Scientist       19114.12            1824.843333   \n",
       "3   December   24  Scientist       19114.12                    NaN   \n",
       "4  September   28    _______       34847.84            3037.986667   \n",
       "\n",
       "   Num_Bank_Accounts  Num_Credit_Card  Interest_Rate  Num_of_Loan  \\\n",
       "0                  3                4              3            4   \n",
       "1                  3                4              3            4   \n",
       "2                  3                4              3            4   \n",
       "3                  3                4              3            4   \n",
       "4                  2                4              6            1   \n",
       "\n",
       "                                        Type_of_Loan  ...  \\\n",
       "0  Auto Loan, Credit-Builder Loan, Personal Loan,...  ...   \n",
       "1  Auto Loan, Credit-Builder Loan, Personal Loan,...  ...   \n",
       "2  Auto Loan, Credit-Builder Loan, Personal Loan,...  ...   \n",
       "3  Auto Loan, Credit-Builder Loan, Personal Loan,...  ...   \n",
       "4                                Credit-Builder Loan  ...   \n",
       "\n",
       "   Num_Credit_Inquiries  Credit_Mix  Outstanding_Debt  \\\n",
       "0                2022.0        Good            809.98   \n",
       "1                   4.0        Good            809.98   \n",
       "2                   4.0        Good            809.98   \n",
       "3                   4.0        Good            809.98   \n",
       "4                   5.0        Good            605.03   \n",
       "\n",
       "   Credit_Utilization_Ratio      Credit_History_Age  Payment_of_Min_Amount  \\\n",
       "0                 35.030402   22 Years and 9 Months                     No   \n",
       "1                 33.053114  22 Years and 10 Months                     No   \n",
       "2                 33.811894                     NaN                     No   \n",
       "3                 32.430559   23 Years and 0 Months                     No   \n",
       "4                 25.926822   27 Years and 3 Months                     No   \n",
       "\n",
       "   Total_EMI_per_month Amount_invested_monthly  \\\n",
       "0            49.574949              236.642682   \n",
       "1            49.574949               21.465380   \n",
       "2            49.574949              148.233938   \n",
       "3            49.574949               39.082511   \n",
       "4            18.816215               39.684018   \n",
       "\n",
       "                  Payment_Behaviour  Monthly_Balance  \n",
       "0    Low_spent_Small_value_payments       186.266702  \n",
       "1  High_spent_Medium_value_payments       361.444004  \n",
       "2   Low_spent_Medium_value_payments       264.675446  \n",
       "3  High_spent_Medium_value_payments       343.826873  \n",
       "4   High_spent_Large_value_payments       485.298434  \n",
       "\n",
       "[5 rows x 23 columns]"
      ]
     },
     "execution_count": 164,
     "metadata": {},
     "output_type": "execute_result"
    }
   ],
   "source": [
    "df.head()"
   ]
  },
  {
   "cell_type": "code",
   "execution_count": 165,
   "id": "02cad891",
   "metadata": {},
   "outputs": [
    {
     "name": "stdout",
     "output_type": "stream",
     "text": [
      "<class 'pandas.core.frame.DataFrame'>\n",
      "RangeIndex: 50000 entries, 0 to 49999\n",
      "Data columns (total 23 columns):\n",
      " #   Column                    Non-Null Count  Dtype  \n",
      "---  ------                    --------------  -----  \n",
      " 0   Month                     50000 non-null  object \n",
      " 1   Age                       50000 non-null  int64  \n",
      " 2   Occupation                50000 non-null  object \n",
      " 3   Annual_Income             50000 non-null  float64\n",
      " 4   Monthly_Inhand_Salary     42502 non-null  float64\n",
      " 5   Num_Bank_Accounts         50000 non-null  int64  \n",
      " 6   Num_Credit_Card           50000 non-null  int64  \n",
      " 7   Interest_Rate             50000 non-null  int64  \n",
      " 8   Num_of_Loan               50000 non-null  int64  \n",
      " 9   Type_of_Loan              44296 non-null  object \n",
      " 10  Delay_from_due_date       50000 non-null  int64  \n",
      " 11  Num_of_Delayed_Payment    46502 non-null  float64\n",
      " 12  Changed_Credit_Limit      48941 non-null  float64\n",
      " 13  Num_Credit_Inquiries      48965 non-null  float64\n",
      " 14  Credit_Mix                50000 non-null  object \n",
      " 15  Outstanding_Debt          50000 non-null  float64\n",
      " 16  Credit_Utilization_Ratio  50000 non-null  float64\n",
      " 17  Credit_History_Age        45530 non-null  object \n",
      " 18  Payment_of_Min_Amount     50000 non-null  object \n",
      " 19  Total_EMI_per_month       50000 non-null  float64\n",
      " 20  Amount_invested_monthly   47729 non-null  float64\n",
      " 21  Payment_Behaviour         50000 non-null  object \n",
      " 22  Monthly_Balance           49438 non-null  float64\n",
      "dtypes: float64(10), int64(6), object(7)\n",
      "memory usage: 8.8+ MB\n"
     ]
    }
   ],
   "source": [
    "df.info()"
   ]
  },
  {
   "cell_type": "code",
   "execution_count": 166,
   "id": "87693468",
   "metadata": {},
   "outputs": [
    {
     "data": {
      "text/html": [
       "<div>\n",
       "<style scoped>\n",
       "    .dataframe tbody tr th:only-of-type {\n",
       "        vertical-align: middle;\n",
       "    }\n",
       "\n",
       "    .dataframe tbody tr th {\n",
       "        vertical-align: top;\n",
       "    }\n",
       "\n",
       "    .dataframe thead th {\n",
       "        text-align: right;\n",
       "    }\n",
       "</style>\n",
       "<table border=\"1\" class=\"dataframe\">\n",
       "  <thead>\n",
       "    <tr style=\"text-align: right;\">\n",
       "      <th></th>\n",
       "      <th>Month</th>\n",
       "      <th>Occupation</th>\n",
       "      <th>Type_of_Loan</th>\n",
       "      <th>Credit_Mix</th>\n",
       "      <th>Credit_History_Age</th>\n",
       "      <th>Payment_of_Min_Amount</th>\n",
       "      <th>Payment_Behaviour</th>\n",
       "    </tr>\n",
       "  </thead>\n",
       "  <tbody>\n",
       "    <tr>\n",
       "      <th>count</th>\n",
       "      <td>50000</td>\n",
       "      <td>50000</td>\n",
       "      <td>44296</td>\n",
       "      <td>50000</td>\n",
       "      <td>45530</td>\n",
       "      <td>50000</td>\n",
       "      <td>50000</td>\n",
       "    </tr>\n",
       "    <tr>\n",
       "      <th>unique</th>\n",
       "      <td>4</td>\n",
       "      <td>16</td>\n",
       "      <td>6260</td>\n",
       "      <td>4</td>\n",
       "      <td>399</td>\n",
       "      <td>3</td>\n",
       "      <td>7</td>\n",
       "    </tr>\n",
       "    <tr>\n",
       "      <th>top</th>\n",
       "      <td>September</td>\n",
       "      <td>_______</td>\n",
       "      <td>Not Specified</td>\n",
       "      <td>Standard</td>\n",
       "      <td>20 Years and 1 Months</td>\n",
       "      <td>Yes</td>\n",
       "      <td>Low_spent_Small_value_payments</td>\n",
       "    </tr>\n",
       "    <tr>\n",
       "      <th>freq</th>\n",
       "      <td>12500</td>\n",
       "      <td>3438</td>\n",
       "      <td>704</td>\n",
       "      <td>18379</td>\n",
       "      <td>254</td>\n",
       "      <td>26158</td>\n",
       "      <td>12694</td>\n",
       "    </tr>\n",
       "  </tbody>\n",
       "</table>\n",
       "</div>"
      ],
      "text/plain": [
       "            Month Occupation   Type_of_Loan Credit_Mix     Credit_History_Age  \\\n",
       "count       50000      50000          44296      50000                  45530   \n",
       "unique          4         16           6260          4                    399   \n",
       "top     September    _______  Not Specified   Standard  20 Years and 1 Months   \n",
       "freq        12500       3438            704      18379                    254   \n",
       "\n",
       "       Payment_of_Min_Amount               Payment_Behaviour  \n",
       "count                  50000                           50000  \n",
       "unique                     3                               7  \n",
       "top                      Yes  Low_spent_Small_value_payments  \n",
       "freq                   26158                           12694  "
      ]
     },
     "execution_count": 166,
     "metadata": {},
     "output_type": "execute_result"
    }
   ],
   "source": [
    "# Display statistics for categorical columns\n",
    "df.describe(include='object')"
   ]
  },
  {
   "cell_type": "markdown",
   "id": "1b683bd1",
   "metadata": {},
   "source": [
    "### Handing Missing Values"
   ]
  },
  {
   "cell_type": "code",
   "execution_count": 167,
   "id": "b399711d",
   "metadata": {},
   "outputs": [
    {
     "data": {
      "text/plain": [
       "Month                          0\n",
       "Age                            0\n",
       "Occupation                     0\n",
       "Annual_Income                  0\n",
       "Monthly_Inhand_Salary       7498\n",
       "Num_Bank_Accounts              0\n",
       "Num_Credit_Card                0\n",
       "Interest_Rate                  0\n",
       "Num_of_Loan                    0\n",
       "Type_of_Loan                5704\n",
       "Delay_from_due_date            0\n",
       "Num_of_Delayed_Payment      3498\n",
       "Changed_Credit_Limit        1059\n",
       "Num_Credit_Inquiries        1035\n",
       "Credit_Mix                     0\n",
       "Outstanding_Debt               0\n",
       "Credit_Utilization_Ratio       0\n",
       "Credit_History_Age          4470\n",
       "Payment_of_Min_Amount          0\n",
       "Total_EMI_per_month            0\n",
       "Amount_invested_monthly     2271\n",
       "Payment_Behaviour              0\n",
       "Monthly_Balance              562\n",
       "dtype: int64"
      ]
     },
     "execution_count": 167,
     "metadata": {},
     "output_type": "execute_result"
    }
   ],
   "source": [
    "# Checking for missing values\n",
    "df.isnull().sum()"
   ]
  },
  {
   "cell_type": "code",
   "execution_count": 168,
   "id": "5d22383b",
   "metadata": {},
   "outputs": [
    {
     "data": {
      "text/html": [
       "<div>\n",
       "<style scoped>\n",
       "    .dataframe tbody tr th:only-of-type {\n",
       "        vertical-align: middle;\n",
       "    }\n",
       "\n",
       "    .dataframe tbody tr th {\n",
       "        vertical-align: top;\n",
       "    }\n",
       "\n",
       "    .dataframe thead th {\n",
       "        text-align: right;\n",
       "    }\n",
       "</style>\n",
       "<table border=\"1\" class=\"dataframe\">\n",
       "  <thead>\n",
       "    <tr style=\"text-align: right;\">\n",
       "      <th></th>\n",
       "      <th>Month</th>\n",
       "      <th>Age</th>\n",
       "      <th>Occupation</th>\n",
       "      <th>Annual_Income</th>\n",
       "      <th>Monthly_Inhand_Salary</th>\n",
       "      <th>Num_Bank_Accounts</th>\n",
       "      <th>Num_Credit_Card</th>\n",
       "      <th>Interest_Rate</th>\n",
       "      <th>Num_of_Loan</th>\n",
       "      <th>Type_of_Loan</th>\n",
       "      <th>...</th>\n",
       "      <th>Num_Credit_Inquiries</th>\n",
       "      <th>Credit_Mix</th>\n",
       "      <th>Outstanding_Debt</th>\n",
       "      <th>Credit_Utilization_Ratio</th>\n",
       "      <th>Credit_History_Age</th>\n",
       "      <th>Payment_of_Min_Amount</th>\n",
       "      <th>Total_EMI_per_month</th>\n",
       "      <th>Amount_invested_monthly</th>\n",
       "      <th>Payment_Behaviour</th>\n",
       "      <th>Monthly_Balance</th>\n",
       "    </tr>\n",
       "  </thead>\n",
       "  <tbody>\n",
       "    <tr>\n",
       "      <th>0</th>\n",
       "      <td>September</td>\n",
       "      <td>23</td>\n",
       "      <td>Scientist</td>\n",
       "      <td>19114.12</td>\n",
       "      <td>1824.843333</td>\n",
       "      <td>3</td>\n",
       "      <td>4</td>\n",
       "      <td>3</td>\n",
       "      <td>4</td>\n",
       "      <td>Auto Loan, Credit-Builder Loan, Personal Loan,...</td>\n",
       "      <td>...</td>\n",
       "      <td>2022.0</td>\n",
       "      <td>Good</td>\n",
       "      <td>809.98</td>\n",
       "      <td>35.030402</td>\n",
       "      <td>22 Years and 9 Months</td>\n",
       "      <td>No</td>\n",
       "      <td>49.574949</td>\n",
       "      <td>236.642682</td>\n",
       "      <td>Low_spent_Small_value_payments</td>\n",
       "      <td>186.266702</td>\n",
       "    </tr>\n",
       "    <tr>\n",
       "      <th>1</th>\n",
       "      <td>October</td>\n",
       "      <td>24</td>\n",
       "      <td>Scientist</td>\n",
       "      <td>19114.12</td>\n",
       "      <td>1824.843333</td>\n",
       "      <td>3</td>\n",
       "      <td>4</td>\n",
       "      <td>3</td>\n",
       "      <td>4</td>\n",
       "      <td>Auto Loan, Credit-Builder Loan, Personal Loan,...</td>\n",
       "      <td>...</td>\n",
       "      <td>4.0</td>\n",
       "      <td>Good</td>\n",
       "      <td>809.98</td>\n",
       "      <td>33.053114</td>\n",
       "      <td>22 Years and 10 Months</td>\n",
       "      <td>No</td>\n",
       "      <td>49.574949</td>\n",
       "      <td>21.465380</td>\n",
       "      <td>High_spent_Medium_value_payments</td>\n",
       "      <td>361.444004</td>\n",
       "    </tr>\n",
       "    <tr>\n",
       "      <th>2</th>\n",
       "      <td>November</td>\n",
       "      <td>24</td>\n",
       "      <td>Scientist</td>\n",
       "      <td>19114.12</td>\n",
       "      <td>1824.843333</td>\n",
       "      <td>3</td>\n",
       "      <td>4</td>\n",
       "      <td>3</td>\n",
       "      <td>4</td>\n",
       "      <td>Auto Loan, Credit-Builder Loan, Personal Loan,...</td>\n",
       "      <td>...</td>\n",
       "      <td>4.0</td>\n",
       "      <td>Good</td>\n",
       "      <td>809.98</td>\n",
       "      <td>33.811894</td>\n",
       "      <td>NaN</td>\n",
       "      <td>No</td>\n",
       "      <td>49.574949</td>\n",
       "      <td>148.233938</td>\n",
       "      <td>Low_spent_Medium_value_payments</td>\n",
       "      <td>264.675446</td>\n",
       "    </tr>\n",
       "    <tr>\n",
       "      <th>3</th>\n",
       "      <td>December</td>\n",
       "      <td>24</td>\n",
       "      <td>Scientist</td>\n",
       "      <td>19114.12</td>\n",
       "      <td>NaN</td>\n",
       "      <td>3</td>\n",
       "      <td>4</td>\n",
       "      <td>3</td>\n",
       "      <td>4</td>\n",
       "      <td>Auto Loan, Credit-Builder Loan, Personal Loan,...</td>\n",
       "      <td>...</td>\n",
       "      <td>4.0</td>\n",
       "      <td>Good</td>\n",
       "      <td>809.98</td>\n",
       "      <td>32.430559</td>\n",
       "      <td>23 Years and 0 Months</td>\n",
       "      <td>No</td>\n",
       "      <td>49.574949</td>\n",
       "      <td>39.082511</td>\n",
       "      <td>High_spent_Medium_value_payments</td>\n",
       "      <td>343.826873</td>\n",
       "    </tr>\n",
       "    <tr>\n",
       "      <th>4</th>\n",
       "      <td>September</td>\n",
       "      <td>28</td>\n",
       "      <td>_______</td>\n",
       "      <td>34847.84</td>\n",
       "      <td>3037.986667</td>\n",
       "      <td>2</td>\n",
       "      <td>4</td>\n",
       "      <td>6</td>\n",
       "      <td>1</td>\n",
       "      <td>Credit-Builder Loan</td>\n",
       "      <td>...</td>\n",
       "      <td>5.0</td>\n",
       "      <td>Good</td>\n",
       "      <td>605.03</td>\n",
       "      <td>25.926822</td>\n",
       "      <td>27 Years and 3 Months</td>\n",
       "      <td>No</td>\n",
       "      <td>18.816215</td>\n",
       "      <td>39.684018</td>\n",
       "      <td>High_spent_Large_value_payments</td>\n",
       "      <td>485.298434</td>\n",
       "    </tr>\n",
       "  </tbody>\n",
       "</table>\n",
       "<p>5 rows × 23 columns</p>\n",
       "</div>"
      ],
      "text/plain": [
       "       Month  Age Occupation  Annual_Income  Monthly_Inhand_Salary  \\\n",
       "0  September   23  Scientist       19114.12            1824.843333   \n",
       "1    October   24  Scientist       19114.12            1824.843333   \n",
       "2   November   24  Scientist       19114.12            1824.843333   \n",
       "3   December   24  Scientist       19114.12                    NaN   \n",
       "4  September   28    _______       34847.84            3037.986667   \n",
       "\n",
       "   Num_Bank_Accounts  Num_Credit_Card  Interest_Rate  Num_of_Loan  \\\n",
       "0                  3                4              3            4   \n",
       "1                  3                4              3            4   \n",
       "2                  3                4              3            4   \n",
       "3                  3                4              3            4   \n",
       "4                  2                4              6            1   \n",
       "\n",
       "                                        Type_of_Loan  ...  \\\n",
       "0  Auto Loan, Credit-Builder Loan, Personal Loan,...  ...   \n",
       "1  Auto Loan, Credit-Builder Loan, Personal Loan,...  ...   \n",
       "2  Auto Loan, Credit-Builder Loan, Personal Loan,...  ...   \n",
       "3  Auto Loan, Credit-Builder Loan, Personal Loan,...  ...   \n",
       "4                                Credit-Builder Loan  ...   \n",
       "\n",
       "   Num_Credit_Inquiries  Credit_Mix  Outstanding_Debt  \\\n",
       "0                2022.0        Good            809.98   \n",
       "1                   4.0        Good            809.98   \n",
       "2                   4.0        Good            809.98   \n",
       "3                   4.0        Good            809.98   \n",
       "4                   5.0        Good            605.03   \n",
       "\n",
       "   Credit_Utilization_Ratio      Credit_History_Age  Payment_of_Min_Amount  \\\n",
       "0                 35.030402   22 Years and 9 Months                     No   \n",
       "1                 33.053114  22 Years and 10 Months                     No   \n",
       "2                 33.811894                     NaN                     No   \n",
       "3                 32.430559   23 Years and 0 Months                     No   \n",
       "4                 25.926822   27 Years and 3 Months                     No   \n",
       "\n",
       "   Total_EMI_per_month Amount_invested_monthly  \\\n",
       "0            49.574949              236.642682   \n",
       "1            49.574949               21.465380   \n",
       "2            49.574949              148.233938   \n",
       "3            49.574949               39.082511   \n",
       "4            18.816215               39.684018   \n",
       "\n",
       "                  Payment_Behaviour  Monthly_Balance  \n",
       "0    Low_spent_Small_value_payments       186.266702  \n",
       "1  High_spent_Medium_value_payments       361.444004  \n",
       "2   Low_spent_Medium_value_payments       264.675446  \n",
       "3  High_spent_Medium_value_payments       343.826873  \n",
       "4   High_spent_Large_value_payments       485.298434  \n",
       "\n",
       "[5 rows x 23 columns]"
      ]
     },
     "execution_count": 168,
     "metadata": {},
     "output_type": "execute_result"
    }
   ],
   "source": [
    "df.head()"
   ]
  },
  {
   "cell_type": "code",
   "execution_count": 169,
   "id": "a6a4fc43",
   "metadata": {
    "scrolled": true
   },
   "outputs": [
    {
     "data": {
      "text/plain": [
       "array(['Scientist', '_______', 'Teacher', 'Engineer', 'Entrepreneur',\n",
       "       'Developer', 'Lawyer', 'Media_Manager', 'Doctor', 'Journalist',\n",
       "       'Manager', 'Accountant', 'Musician', 'Mechanic', 'Writer',\n",
       "       'Architect'], dtype=object)"
      ]
     },
     "execution_count": 169,
     "metadata": {},
     "output_type": "execute_result"
    }
   ],
   "source": [
    "df['Occupation'].unique()"
   ]
  },
  {
   "cell_type": "code",
   "execution_count": 170,
   "id": "15fc0605",
   "metadata": {
    "scrolled": false
   },
   "outputs": [
    {
     "name": "stdout",
     "output_type": "stream",
     "text": [
      "['Scientist' 'Lawyer' 'Teacher' 'Engineer' 'Entrepreneur' 'Developer'\n",
      " 'Media_Manager' 'Doctor' 'Journalist' 'Manager' 'Accountant' 'Musician'\n",
      " 'Mechanic' 'Writer' 'Architect']\n"
     ]
    }
   ],
   "source": [
    "# Replace Invalid value on Occupation column\n",
    "\n",
    "# define invalid values (e.g., 'invalid' or empty string)\n",
    "invalid_values = ['_______', '']\n",
    "\n",
    "# Replace invalid values with NaN\n",
    "df['Occupation'] = df['Occupation'].replace(invalid_values, np.nan)\n",
    "\n",
    "# Replace invalid value by most frequent value\n",
    "imputer = SimpleImputer(strategy='most_frequent')\n",
    "df['Occupation'] = imputer.fit_transform(df[['Occupation']])[:, 0]\n",
    "\n",
    "print(df['Occupation'].unique())"
   ]
  },
  {
   "cell_type": "code",
   "execution_count": 171,
   "id": "ea9e8519",
   "metadata": {},
   "outputs": [
    {
     "data": {
      "text/plain": [
       "array(['Auto Loan, Credit-Builder Loan, Personal Loan, and Home Equity Loan',\n",
       "       'Credit-Builder Loan', 'Auto Loan, Auto Loan, and Not Specified',\n",
       "       ..., 'Home Equity Loan, Auto Loan, Auto Loan, and Auto Loan',\n",
       "       'Payday Loan, Student Loan, Mortgage Loan, and Not Specified',\n",
       "       'Personal Loan, Auto Loan, Mortgage Loan, Student Loan, and Student Loan'],\n",
       "      dtype=object)"
      ]
     },
     "execution_count": 171,
     "metadata": {},
     "output_type": "execute_result"
    }
   ],
   "source": [
    "df['Type_of_Loan'].unique()"
   ]
  },
  {
   "cell_type": "code",
   "execution_count": 172,
   "id": "576e2868",
   "metadata": {},
   "outputs": [
    {
     "name": "stdout",
     "output_type": "stream",
     "text": [
      "['Auto Loan, Credit-Builder Loan, Personal Loan, and Home Equity Loan'\n",
      " 'Credit-Builder Loan' 'Auto Loan, Auto Loan, and Not Specified' ...\n",
      " 'Home Equity Loan, Auto Loan, Auto Loan, and Auto Loan'\n",
      " 'Payday Loan, Student Loan, Mortgage Loan, and Not Specified'\n",
      " 'Personal Loan, Auto Loan, Mortgage Loan, Student Loan, and Student Loan']\n"
     ]
    }
   ],
   "source": [
    "# Replace Invalid value on Occupation column\n",
    "\n",
    "# define invalid values (e.g., 'invalid' or empty string)\n",
    "invalid_values = ['...', ' ','']\n",
    "\n",
    "# Replace invalid values with NaN\n",
    "df['Type_of_Loan'] = df['Type_of_Loan'].replace(invalid_values, np.nan)\n",
    "\n",
    "# Replace invalid value by most frequent value\n",
    "imputer = SimpleImputer(strategy='most_frequent')\n",
    "df['Type_of_Loan'] = imputer.fit_transform(df[['Type_of_Loan']])[:, 0]\n",
    "\n",
    "print(df['Type_of_Loan'].unique())"
   ]
  },
  {
   "cell_type": "code",
   "execution_count": 173,
   "id": "6415dcd4",
   "metadata": {},
   "outputs": [],
   "source": [
    "def get_first_part(value):\n",
    "    parts = value.split(',')  # Split by comma\n",
    "    return parts[0].strip()  # Return the first part and remove any leading/trailing whitespace"
   ]
  },
  {
   "cell_type": "code",
   "execution_count": 174,
   "id": "6b8f9231",
   "metadata": {},
   "outputs": [],
   "source": [
    "# Apply the function to 'Loan_Details' column\n",
    "df['Type_of_Loan'] = df['Type_of_Loan'].apply(get_first_part)\n"
   ]
  },
  {
   "cell_type": "code",
   "execution_count": 175,
   "id": "5528529a",
   "metadata": {},
   "outputs": [
    {
     "data": {
      "text/plain": [
       "array(['Auto Loan', 'Credit-Builder Loan', 'Not Specified',\n",
       "       'Personal Loan', 'Payday Loan', 'Mortgage Loan',\n",
       "       'Home Equity Loan', 'Debt Consolidation Loan', 'Student Loan'],\n",
       "      dtype=object)"
      ]
     },
     "execution_count": 175,
     "metadata": {},
     "output_type": "execute_result"
    }
   ],
   "source": [
    "df['Type_of_Loan'].unique()"
   ]
  },
  {
   "cell_type": "code",
   "execution_count": 176,
   "id": "33d39e98",
   "metadata": {},
   "outputs": [
    {
     "data": {
      "text/plain": [
       "array(['22 Years and 9 Months', '22 Years and 10 Months', nan,\n",
       "       '23 Years and 0 Months', '27 Years and 3 Months',\n",
       "       '27 Years and 4 Months', '27 Years and 5 Months',\n",
       "       '27 Years and 6 Months', '18 Years and 5 Months',\n",
       "       '18 Years and 6 Months', '18 Years and 7 Months',\n",
       "       '17 Years and 11 Months', '18 Years and 0 Months',\n",
       "       '18 Years and 1 Months', '18 Years and 2 Months',\n",
       "       '31 Years and 4 Months', '31 Years and 5 Months',\n",
       "       '31 Years and 7 Months', '32 Years and 7 Months',\n",
       "       '32 Years and 8 Months', '32 Years and 9 Months',\n",
       "       '32 Years and 10 Months', '31 Years and 6 Months',\n",
       "       '15 Years and 3 Months', '15 Years and 4 Months',\n",
       "       '15 Years and 5 Months', '15 Years and 6 Months',\n",
       "       '22 Years and 0 Months', '22 Years and 1 Months',\n",
       "       '22 Years and 2 Months', '22 Years and 3 Months',\n",
       "       '27 Years and 1 Months', '27 Years and 2 Months',\n",
       "       '19 Years and 10 Months', '19 Years and 11 Months',\n",
       "       '20 Years and 0 Months', '26 Years and 2 Months',\n",
       "       '26 Years and 3 Months', '26 Years and 4 Months',\n",
       "       '27 Years and 7 Months', '27 Years and 8 Months',\n",
       "       '27 Years and 9 Months', '9 Years and 7 Months',\n",
       "       '9 Years and 8 Months', '9 Years and 9 Months',\n",
       "       '9 Years and 10 Months', '18 Years and 10 Months',\n",
       "       '18 Years and 11 Months', '19 Years and 0 Months',\n",
       "       '19 Years and 1 Months', '17 Years and 6 Months',\n",
       "       '17 Years and 7 Months', '17 Years and 8 Months',\n",
       "       '17 Years and 9 Months', '29 Years and 10 Months',\n",
       "       '29 Years and 11 Months', '30 Years and 0 Months',\n",
       "       '30 Years and 1 Months', '7 Years and 1 Months',\n",
       "       '7 Years and 2 Months', '7 Years and 3 Months',\n",
       "       '27 Years and 10 Months', '27 Years and 11 Months',\n",
       "       '28 Years and 0 Months', '28 Years and 1 Months',\n",
       "       '20 Years and 1 Months', '20 Years and 2 Months',\n",
       "       '10 Years and 9 Months', '10 Years and 10 Months',\n",
       "       '10 Years and 11 Months', '11 Years and 0 Months',\n",
       "       '33 Years and 5 Months', '33 Years and 6 Months',\n",
       "       '33 Years and 7 Months', '33 Years and 8 Months',\n",
       "       '12 Years and 11 Months', '13 Years and 0 Months',\n",
       "       '13 Years and 1 Months', '13 Years and 2 Months',\n",
       "       '12 Years and 10 Months', '18 Years and 8 Months',\n",
       "       '18 Years and 9 Months', '14 Years and 4 Months',\n",
       "       '14 Years and 5 Months', '14 Years and 6 Months',\n",
       "       '14 Years and 7 Months', '30 Years and 11 Months',\n",
       "       '31 Years and 0 Months', '31 Years and 1 Months',\n",
       "       '31 Years and 2 Months', '9 Years and 4 Months',\n",
       "       '9 Years and 6 Months', '19 Years and 2 Months',\n",
       "       '19 Years and 5 Months', '19 Years and 6 Months',\n",
       "       '19 Years and 7 Months', '19 Years and 8 Months',\n",
       "       '9 Years and 5 Months', '13 Years and 9 Months',\n",
       "       '13 Years and 10 Months', '13 Years and 11 Months',\n",
       "       '22 Years and 4 Months', '26 Years and 6 Months',\n",
       "       '14 Years and 0 Months', '14 Years and 1 Months',\n",
       "       '28 Years and 7 Months', '28 Years and 8 Months',\n",
       "       '28 Years and 9 Months', '28 Years and 10 Months',\n",
       "       '8 Years and 7 Months', '8 Years and 8 Months',\n",
       "       '8 Years and 9 Months', '24 Years and 11 Months',\n",
       "       '25 Years and 0 Months', '25 Years and 1 Months',\n",
       "       '25 Years and 2 Months', '17 Years and 10 Months',\n",
       "       '1 Years and 10 Months', '1 Years and 11 Months',\n",
       "       '2 Years and 0 Months', '2 Years and 1 Months',\n",
       "       '11 Years and 7 Months', '11 Years and 8 Months',\n",
       "       '11 Years and 9 Months', '11 Years and 10 Months',\n",
       "       '31 Years and 3 Months', '20 Years and 3 Months',\n",
       "       '20 Years and 4 Months', '20 Years and 5 Months',\n",
       "       '20 Years and 6 Months', '11 Years and 1 Months',\n",
       "       '11 Years and 2 Months', '11 Years and 3 Months',\n",
       "       '11 Years and 4 Months', '14 Years and 8 Months',\n",
       "       '14 Years and 9 Months', '14 Years and 10 Months',\n",
       "       '21 Years and 4 Months', '21 Years and 5 Months',\n",
       "       '21 Years and 6 Months', '21 Years and 7 Months',\n",
       "       '1 Years and 0 Months', '1 Years and 1 Months',\n",
       "       '1 Years and 2 Months', '1 Years and 3 Months',\n",
       "       '32 Years and 4 Months', '32 Years and 5 Months',\n",
       "       '32 Years and 6 Months', '13 Years and 3 Months',\n",
       "       '13 Years and 4 Months', '13 Years and 5 Months',\n",
       "       '13 Years and 6 Months', '28 Years and 2 Months',\n",
       "       '12 Years and 0 Months', '12 Years and 1 Months',\n",
       "       '12 Years and 2 Months', '12 Years and 3 Months',\n",
       "       '25 Years and 4 Months', '25 Years and 5 Months',\n",
       "       '25 Years and 6 Months', '25 Years and 7 Months',\n",
       "       '18 Years and 3 Months', '18 Years and 4 Months',\n",
       "       '13 Years and 7 Months', '19 Years and 9 Months',\n",
       "       '31 Years and 9 Months', '31 Years and 10 Months',\n",
       "       '31 Years and 11 Months', '32 Years and 0 Months',\n",
       "       '5 Years and 10 Months', '5 Years and 11 Months',\n",
       "       '6 Years and 0 Months', '6 Years and 1 Months',\n",
       "       '3 Years and 7 Months', '3 Years and 8 Months',\n",
       "       '3 Years and 9 Months', '3 Years and 10 Months',\n",
       "       '17 Years and 1 Months', '17 Years and 2 Months',\n",
       "       '17 Years and 3 Months', '23 Years and 7 Months',\n",
       "       '23 Years and 8 Months', '23 Years and 9 Months',\n",
       "       '23 Years and 10 Months', '9 Years and 0 Months',\n",
       "       '9 Years and 2 Months', '9 Years and 3 Months',\n",
       "       '31 Years and 8 Months', '5 Years and 1 Months',\n",
       "       '5 Years and 2 Months', '5 Years and 3 Months',\n",
       "       '5 Years and 4 Months', '33 Years and 4 Months',\n",
       "       '13 Years and 8 Months', '30 Years and 5 Months',\n",
       "       '30 Years and 6 Months', '30 Years and 7 Months',\n",
       "       '30 Years and 8 Months', '26 Years and 5 Months',\n",
       "       '33 Years and 9 Months', '26 Years and 10 Months',\n",
       "       '26 Years and 11 Months', '27 Years and 0 Months',\n",
       "       '8 Years and 1 Months', '8 Years and 2 Months',\n",
       "       '8 Years and 3 Months', '8 Years and 4 Months',\n",
       "       '28 Years and 11 Months', '29 Years and 0 Months',\n",
       "       '29 Years and 1 Months', '29 Years and 2 Months',\n",
       "       '20 Years and 7 Months', '20 Years and 8 Months',\n",
       "       '20 Years and 9 Months', '20 Years and 10 Months',\n",
       "       '20 Years and 11 Months', '21 Years and 0 Months',\n",
       "       '29 Years and 3 Months', '29 Years and 4 Months',\n",
       "       '29 Years and 5 Months', '29 Years and 6 Months',\n",
       "       '14 Years and 2 Months', '14 Years and 3 Months',\n",
       "       '2 Years and 2 Months', '2 Years and 3 Months',\n",
       "       '33 Years and 10 Months', '33 Years and 11 Months',\n",
       "       '34 Years and 0 Months', '26 Years and 7 Months',\n",
       "       '26 Years and 8 Months', '29 Years and 7 Months',\n",
       "       '29 Years and 8 Months', '5 Years and 5 Months',\n",
       "       '5 Years and 6 Months', '5 Years and 7 Months',\n",
       "       '5 Years and 8 Months', '32 Years and 3 Months',\n",
       "       '6 Years and 5 Months', '6 Years and 6 Months',\n",
       "       '6 Years and 7 Months', '6 Years and 8 Months',\n",
       "       '23 Years and 1 Months', '23 Years and 2 Months',\n",
       "       '23 Years and 3 Months', '17 Years and 0 Months',\n",
       "       '23 Years and 5 Months', '23 Years and 6 Months',\n",
       "       '22 Years and 5 Months', '22 Years and 6 Months',\n",
       "       '21 Years and 1 Months', '16 Years and 0 Months',\n",
       "       '16 Years and 1 Months', '16 Years and 2 Months',\n",
       "       '16 Years and 3 Months', '21 Years and 2 Months',\n",
       "       '2 Years and 11 Months', '3 Years and 0 Months',\n",
       "       '3 Years and 1 Months', '3 Years and 2 Months',\n",
       "       '5 Years and 9 Months', '2 Years and 4 Months',\n",
       "       '16 Years and 10 Months', '16 Years and 11 Months',\n",
       "       '22 Years and 11 Months', '9 Years and 11 Months',\n",
       "       '10 Years and 0 Months', '10 Years and 1 Months',\n",
       "       '28 Years and 4 Months', '28 Years and 5 Months',\n",
       "       '28 Years and 6 Months', '19 Years and 3 Months',\n",
       "       '25 Years and 3 Months', '8 Years and 10 Months',\n",
       "       '6 Years and 3 Months', '6 Years and 4 Months',\n",
       "       '17 Years and 4 Months', '17 Years and 5 Months',\n",
       "       '12 Years and 5 Months', '12 Years and 6 Months',\n",
       "       '12 Years and 7 Months', '12 Years and 8 Months',\n",
       "       '26 Years and 9 Months', '29 Years and 9 Months',\n",
       "       '32 Years and 1 Months', '32 Years and 2 Months',\n",
       "       '21 Years and 10 Months', '21 Years and 11 Months',\n",
       "       '24 Years and 10 Months', '16 Years and 6 Months',\n",
       "       '16 Years and 7 Months', '16 Years and 8 Months',\n",
       "       '16 Years and 9 Months', '15 Years and 1 Months',\n",
       "       '15 Years and 2 Months', '23 Years and 11 Months',\n",
       "       '24 Years and 0 Months', '25 Years and 10 Months',\n",
       "       '25 Years and 11 Months', '26 Years and 0 Months',\n",
       "       '26 Years and 1 Months', '8 Years and 11 Months',\n",
       "       '19 Years and 4 Months', '6 Years and 2 Months',\n",
       "       '25 Years and 8 Months', '25 Years and 9 Months',\n",
       "       '15 Years and 11 Months', '8 Years and 5 Months',\n",
       "       '8 Years and 6 Months', '7 Years and 6 Months',\n",
       "       '7 Years and 7 Months', '7 Years and 8 Months',\n",
       "       '7 Years and 9 Months', '16 Years and 4 Months',\n",
       "       '16 Years and 5 Months', '24 Years and 1 Months',\n",
       "       '22 Years and 7 Months', '15 Years and 7 Months',\n",
       "       '15 Years and 8 Months', '15 Years and 9 Months',\n",
       "       '21 Years and 8 Months', '21 Years and 9 Months',\n",
       "       '30 Years and 9 Months', '7 Years and 11 Months',\n",
       "       '8 Years and 0 Months', '10 Years and 5 Months',\n",
       "       '10 Years and 6 Months', '10 Years and 7 Months',\n",
       "       '10 Years and 8 Months', '9 Years and 1 Months',\n",
       "       '24 Years and 4 Months', '24 Years and 5 Months',\n",
       "       '24 Years and 6 Months', '24 Years and 7 Months',\n",
       "       '3 Years and 4 Months', '3 Years and 5 Months',\n",
       "       '15 Years and 0 Months', '10 Years and 2 Months',\n",
       "       '12 Years and 4 Months', '24 Years and 3 Months',\n",
       "       '28 Years and 3 Months', '6 Years and 9 Months',\n",
       "       '6 Years and 10 Months', '0 Years and 10 Months',\n",
       "       '10 Years and 3 Months', '12 Years and 9 Months',\n",
       "       '30 Years and 2 Months', '30 Years and 4 Months',\n",
       "       '30 Years and 3 Months', '0 Years and 11 Months',\n",
       "       '11 Years and 6 Months', '7 Years and 10 Months',\n",
       "       '10 Years and 4 Months', '4 Years and 0 Months',\n",
       "       '32 Years and 11 Months', '33 Years and 0 Months',\n",
       "       '21 Years and 3 Months', '30 Years and 10 Months',\n",
       "       '23 Years and 4 Months', '3 Years and 11 Months',\n",
       "       '4 Years and 1 Months', '4 Years and 2 Months',\n",
       "       '6 Years and 11 Months', '7 Years and 0 Months',\n",
       "       '11 Years and 5 Months', '15 Years and 10 Months',\n",
       "       '11 Years and 11 Months', '14 Years and 11 Months',\n",
       "       '22 Years and 8 Months', '1 Years and 6 Months',\n",
       "       '1 Years and 7 Months', '1 Years and 8 Months',\n",
       "       '1 Years and 9 Months', '24 Years and 9 Months',\n",
       "       '5 Years and 0 Months', '7 Years and 4 Months',\n",
       "       '4 Years and 7 Months', '4 Years and 8 Months',\n",
       "       '4 Years and 9 Months', '4 Years and 10 Months',\n",
       "       '7 Years and 5 Months', '2 Years and 5 Months',\n",
       "       '2 Years and 7 Months', '2 Years and 8 Months',\n",
       "       '2 Years and 6 Months', '24 Years and 2 Months',\n",
       "       '33 Years and 1 Months', '33 Years and 2 Months',\n",
       "       '1 Years and 4 Months', '1 Years and 5 Months',\n",
       "       '24 Years and 8 Months', '4 Years and 3 Months',\n",
       "       '4 Years and 4 Months', '2 Years and 9 Months',\n",
       "       '2 Years and 10 Months', '3 Years and 3 Months',\n",
       "       '4 Years and 5 Months', '4 Years and 11 Months',\n",
       "       '33 Years and 3 Months', '3 Years and 6 Months',\n",
       "       '4 Years and 6 Months'], dtype=object)"
      ]
     },
     "execution_count": 176,
     "metadata": {},
     "output_type": "execute_result"
    }
   ],
   "source": [
    "df['Credit_History_Age'].unique()"
   ]
  },
  {
   "cell_type": "code",
   "execution_count": 177,
   "id": "174093c6",
   "metadata": {},
   "outputs": [],
   "source": [
    "def convert_to_total_months(duration):\n",
    "    if isinstance(duration, str):\n",
    "        years, months = duration.split(' Years and ')\n",
    "        years = int(years)\n",
    "        months = int(months.split(' Months')[0])\n",
    "        total_months = years * 12 + months\n",
    "        return total_months\n",
    "    else:\n",
    "        return np.nan  "
   ]
  },
  {
   "cell_type": "code",
   "execution_count": 178,
   "id": "c5726430",
   "metadata": {},
   "outputs": [],
   "source": [
    "# Apply the function to the 'Duration' column\n",
    "df['Credit_History_Age_Month'] = df['Credit_History_Age'].apply(convert_to_total_months)"
   ]
  },
  {
   "cell_type": "code",
   "execution_count": 179,
   "id": "cd677bbe",
   "metadata": {},
   "outputs": [],
   "source": [
    "df.drop(['Credit_History_Age'], axis=1, inplace=True)"
   ]
  },
  {
   "cell_type": "code",
   "execution_count": 180,
   "id": "f0e21a16",
   "metadata": {},
   "outputs": [],
   "source": [
    "# Convert the column to float and truncate to three decimal places\n",
    "#df['Monthly_Balance'] = df['Monthly_Balance'].replace('', '0')\n",
    "#df['Monthly_Balance'] = df['Monthly_Balance'].apply(lambda x: '{:.3f}'.format(float(x)))"
   ]
  },
  {
   "cell_type": "code",
   "execution_count": 181,
   "id": "bef9d14c",
   "metadata": {},
   "outputs": [
    {
     "data": {
      "text/html": [
       "<div>\n",
       "<style scoped>\n",
       "    .dataframe tbody tr th:only-of-type {\n",
       "        vertical-align: middle;\n",
       "    }\n",
       "\n",
       "    .dataframe tbody tr th {\n",
       "        vertical-align: top;\n",
       "    }\n",
       "\n",
       "    .dataframe thead th {\n",
       "        text-align: right;\n",
       "    }\n",
       "</style>\n",
       "<table border=\"1\" class=\"dataframe\">\n",
       "  <thead>\n",
       "    <tr style=\"text-align: right;\">\n",
       "      <th></th>\n",
       "      <th>Month</th>\n",
       "      <th>Age</th>\n",
       "      <th>Occupation</th>\n",
       "      <th>Annual_Income</th>\n",
       "      <th>Monthly_Inhand_Salary</th>\n",
       "      <th>Num_Bank_Accounts</th>\n",
       "      <th>Num_Credit_Card</th>\n",
       "      <th>Interest_Rate</th>\n",
       "      <th>Num_of_Loan</th>\n",
       "      <th>Type_of_Loan</th>\n",
       "      <th>...</th>\n",
       "      <th>Num_Credit_Inquiries</th>\n",
       "      <th>Credit_Mix</th>\n",
       "      <th>Outstanding_Debt</th>\n",
       "      <th>Credit_Utilization_Ratio</th>\n",
       "      <th>Payment_of_Min_Amount</th>\n",
       "      <th>Total_EMI_per_month</th>\n",
       "      <th>Amount_invested_monthly</th>\n",
       "      <th>Payment_Behaviour</th>\n",
       "      <th>Monthly_Balance</th>\n",
       "      <th>Credit_History_Age_Month</th>\n",
       "    </tr>\n",
       "  </thead>\n",
       "  <tbody>\n",
       "    <tr>\n",
       "      <th>0</th>\n",
       "      <td>September</td>\n",
       "      <td>23</td>\n",
       "      <td>Scientist</td>\n",
       "      <td>19114.12</td>\n",
       "      <td>1824.843333</td>\n",
       "      <td>3</td>\n",
       "      <td>4</td>\n",
       "      <td>3</td>\n",
       "      <td>4</td>\n",
       "      <td>Auto Loan</td>\n",
       "      <td>...</td>\n",
       "      <td>2022.0</td>\n",
       "      <td>Good</td>\n",
       "      <td>809.98</td>\n",
       "      <td>35.030402</td>\n",
       "      <td>No</td>\n",
       "      <td>49.574949</td>\n",
       "      <td>236.642682</td>\n",
       "      <td>Low_spent_Small_value_payments</td>\n",
       "      <td>186.266702</td>\n",
       "      <td>273.0</td>\n",
       "    </tr>\n",
       "    <tr>\n",
       "      <th>1</th>\n",
       "      <td>October</td>\n",
       "      <td>24</td>\n",
       "      <td>Scientist</td>\n",
       "      <td>19114.12</td>\n",
       "      <td>1824.843333</td>\n",
       "      <td>3</td>\n",
       "      <td>4</td>\n",
       "      <td>3</td>\n",
       "      <td>4</td>\n",
       "      <td>Auto Loan</td>\n",
       "      <td>...</td>\n",
       "      <td>4.0</td>\n",
       "      <td>Good</td>\n",
       "      <td>809.98</td>\n",
       "      <td>33.053114</td>\n",
       "      <td>No</td>\n",
       "      <td>49.574949</td>\n",
       "      <td>21.465380</td>\n",
       "      <td>High_spent_Medium_value_payments</td>\n",
       "      <td>361.444004</td>\n",
       "      <td>274.0</td>\n",
       "    </tr>\n",
       "    <tr>\n",
       "      <th>2</th>\n",
       "      <td>November</td>\n",
       "      <td>24</td>\n",
       "      <td>Scientist</td>\n",
       "      <td>19114.12</td>\n",
       "      <td>1824.843333</td>\n",
       "      <td>3</td>\n",
       "      <td>4</td>\n",
       "      <td>3</td>\n",
       "      <td>4</td>\n",
       "      <td>Auto Loan</td>\n",
       "      <td>...</td>\n",
       "      <td>4.0</td>\n",
       "      <td>Good</td>\n",
       "      <td>809.98</td>\n",
       "      <td>33.811894</td>\n",
       "      <td>No</td>\n",
       "      <td>49.574949</td>\n",
       "      <td>148.233938</td>\n",
       "      <td>Low_spent_Medium_value_payments</td>\n",
       "      <td>264.675446</td>\n",
       "      <td>NaN</td>\n",
       "    </tr>\n",
       "    <tr>\n",
       "      <th>3</th>\n",
       "      <td>December</td>\n",
       "      <td>24</td>\n",
       "      <td>Scientist</td>\n",
       "      <td>19114.12</td>\n",
       "      <td>NaN</td>\n",
       "      <td>3</td>\n",
       "      <td>4</td>\n",
       "      <td>3</td>\n",
       "      <td>4</td>\n",
       "      <td>Auto Loan</td>\n",
       "      <td>...</td>\n",
       "      <td>4.0</td>\n",
       "      <td>Good</td>\n",
       "      <td>809.98</td>\n",
       "      <td>32.430559</td>\n",
       "      <td>No</td>\n",
       "      <td>49.574949</td>\n",
       "      <td>39.082511</td>\n",
       "      <td>High_spent_Medium_value_payments</td>\n",
       "      <td>343.826873</td>\n",
       "      <td>276.0</td>\n",
       "    </tr>\n",
       "    <tr>\n",
       "      <th>4</th>\n",
       "      <td>September</td>\n",
       "      <td>28</td>\n",
       "      <td>Lawyer</td>\n",
       "      <td>34847.84</td>\n",
       "      <td>3037.986667</td>\n",
       "      <td>2</td>\n",
       "      <td>4</td>\n",
       "      <td>6</td>\n",
       "      <td>1</td>\n",
       "      <td>Credit-Builder Loan</td>\n",
       "      <td>...</td>\n",
       "      <td>5.0</td>\n",
       "      <td>Good</td>\n",
       "      <td>605.03</td>\n",
       "      <td>25.926822</td>\n",
       "      <td>No</td>\n",
       "      <td>18.816215</td>\n",
       "      <td>39.684018</td>\n",
       "      <td>High_spent_Large_value_payments</td>\n",
       "      <td>485.298434</td>\n",
       "      <td>327.0</td>\n",
       "    </tr>\n",
       "  </tbody>\n",
       "</table>\n",
       "<p>5 rows × 23 columns</p>\n",
       "</div>"
      ],
      "text/plain": [
       "       Month  Age Occupation  Annual_Income  Monthly_Inhand_Salary  \\\n",
       "0  September   23  Scientist       19114.12            1824.843333   \n",
       "1    October   24  Scientist       19114.12            1824.843333   \n",
       "2   November   24  Scientist       19114.12            1824.843333   \n",
       "3   December   24  Scientist       19114.12                    NaN   \n",
       "4  September   28     Lawyer       34847.84            3037.986667   \n",
       "\n",
       "   Num_Bank_Accounts  Num_Credit_Card  Interest_Rate  Num_of_Loan  \\\n",
       "0                  3                4              3            4   \n",
       "1                  3                4              3            4   \n",
       "2                  3                4              3            4   \n",
       "3                  3                4              3            4   \n",
       "4                  2                4              6            1   \n",
       "\n",
       "          Type_of_Loan  ...  Num_Credit_Inquiries  Credit_Mix  \\\n",
       "0            Auto Loan  ...                2022.0        Good   \n",
       "1            Auto Loan  ...                   4.0        Good   \n",
       "2            Auto Loan  ...                   4.0        Good   \n",
       "3            Auto Loan  ...                   4.0        Good   \n",
       "4  Credit-Builder Loan  ...                   5.0        Good   \n",
       "\n",
       "   Outstanding_Debt  Credit_Utilization_Ratio Payment_of_Min_Amount  \\\n",
       "0            809.98                 35.030402                    No   \n",
       "1            809.98                 33.053114                    No   \n",
       "2            809.98                 33.811894                    No   \n",
       "3            809.98                 32.430559                    No   \n",
       "4            605.03                 25.926822                    No   \n",
       "\n",
       "   Total_EMI_per_month  Amount_invested_monthly  \\\n",
       "0            49.574949               236.642682   \n",
       "1            49.574949                21.465380   \n",
       "2            49.574949               148.233938   \n",
       "3            49.574949                39.082511   \n",
       "4            18.816215                39.684018   \n",
       "\n",
       "                  Payment_Behaviour  Monthly_Balance  Credit_History_Age_Month  \n",
       "0    Low_spent_Small_value_payments       186.266702                     273.0  \n",
       "1  High_spent_Medium_value_payments       361.444004                     274.0  \n",
       "2   Low_spent_Medium_value_payments       264.675446                       NaN  \n",
       "3  High_spent_Medium_value_payments       343.826873                     276.0  \n",
       "4   High_spent_Large_value_payments       485.298434                     327.0  \n",
       "\n",
       "[5 rows x 23 columns]"
      ]
     },
     "execution_count": 181,
     "metadata": {},
     "output_type": "execute_result"
    }
   ],
   "source": [
    "df.head(5)"
   ]
  },
  {
   "cell_type": "code",
   "execution_count": 182,
   "id": "cec4b0ce",
   "metadata": {},
   "outputs": [
    {
     "name": "stdout",
     "output_type": "stream",
     "text": [
      "<class 'pandas.core.frame.DataFrame'>\n",
      "RangeIndex: 50000 entries, 0 to 49999\n",
      "Data columns (total 23 columns):\n",
      " #   Column                    Non-Null Count  Dtype  \n",
      "---  ------                    --------------  -----  \n",
      " 0   Month                     50000 non-null  object \n",
      " 1   Age                       50000 non-null  int64  \n",
      " 2   Occupation                50000 non-null  object \n",
      " 3   Annual_Income             50000 non-null  float64\n",
      " 4   Monthly_Inhand_Salary     42502 non-null  float64\n",
      " 5   Num_Bank_Accounts         50000 non-null  int64  \n",
      " 6   Num_Credit_Card           50000 non-null  int64  \n",
      " 7   Interest_Rate             50000 non-null  int64  \n",
      " 8   Num_of_Loan               50000 non-null  int64  \n",
      " 9   Type_of_Loan              50000 non-null  object \n",
      " 10  Delay_from_due_date       50000 non-null  int64  \n",
      " 11  Num_of_Delayed_Payment    46502 non-null  float64\n",
      " 12  Changed_Credit_Limit      48941 non-null  float64\n",
      " 13  Num_Credit_Inquiries      48965 non-null  float64\n",
      " 14  Credit_Mix                50000 non-null  object \n",
      " 15  Outstanding_Debt          50000 non-null  float64\n",
      " 16  Credit_Utilization_Ratio  50000 non-null  float64\n",
      " 17  Payment_of_Min_Amount     50000 non-null  object \n",
      " 18  Total_EMI_per_month       50000 non-null  float64\n",
      " 19  Amount_invested_monthly   47729 non-null  float64\n",
      " 20  Payment_Behaviour         50000 non-null  object \n",
      " 21  Monthly_Balance           49438 non-null  float64\n",
      " 22  Credit_History_Age_Month  45530 non-null  float64\n",
      "dtypes: float64(11), int64(6), object(6)\n",
      "memory usage: 8.8+ MB\n"
     ]
    }
   ],
   "source": [
    "df.info()"
   ]
  },
  {
   "cell_type": "code",
   "execution_count": 183,
   "id": "670ba577",
   "metadata": {},
   "outputs": [
    {
     "data": {
      "text/plain": [
       "Month                          0\n",
       "Age                            0\n",
       "Occupation                     0\n",
       "Annual_Income                  0\n",
       "Monthly_Inhand_Salary       7498\n",
       "Num_Bank_Accounts              0\n",
       "Num_Credit_Card                0\n",
       "Interest_Rate                  0\n",
       "Num_of_Loan                    0\n",
       "Type_of_Loan                   0\n",
       "Delay_from_due_date            0\n",
       "Num_of_Delayed_Payment      3498\n",
       "Changed_Credit_Limit        1059\n",
       "Num_Credit_Inquiries        1035\n",
       "Credit_Mix                     0\n",
       "Outstanding_Debt               0\n",
       "Credit_Utilization_Ratio       0\n",
       "Payment_of_Min_Amount          0\n",
       "Total_EMI_per_month            0\n",
       "Amount_invested_monthly     2271\n",
       "Payment_Behaviour              0\n",
       "Monthly_Balance              562\n",
       "Credit_History_Age_Month    4470\n",
       "dtype: int64"
      ]
     },
     "execution_count": 183,
     "metadata": {},
     "output_type": "execute_result"
    }
   ],
   "source": [
    "# Checking for missing values\n",
    "df.isnull().sum()"
   ]
  },
  {
   "cell_type": "code",
   "execution_count": 184,
   "id": "539c56e6",
   "metadata": {},
   "outputs": [
    {
     "name": "stdout",
     "output_type": "stream",
     "text": [
      "Numeric columns: Index(['Age', 'Annual_Income', 'Monthly_Inhand_Salary', 'Num_Bank_Accounts',\n",
      "       'Num_Credit_Card', 'Interest_Rate', 'Num_of_Loan',\n",
      "       'Delay_from_due_date', 'Num_of_Delayed_Payment', 'Changed_Credit_Limit',\n",
      "       'Num_Credit_Inquiries', 'Outstanding_Debt', 'Credit_Utilization_Ratio',\n",
      "       'Total_EMI_per_month', 'Amount_invested_monthly', 'Monthly_Balance',\n",
      "       'Credit_History_Age_Month'],\n",
      "      dtype='object')\n"
     ]
    }
   ],
   "source": [
    "#### Replace missing value of numeric column using median value\n",
    "\n",
    "imputer = SimpleImputer(strategy='median')\n",
    "# Identify numeric columns\n",
    "numeric_columns = df.select_dtypes(include=['number']).columns\n",
    "print(\"Numeric columns:\", numeric_columns)\n",
    "\n",
    "# Fit and transform the data\n",
    "df[numeric_columns] = imputer.fit_transform(df[numeric_columns])\n"
   ]
  },
  {
   "cell_type": "code",
   "execution_count": 185,
   "id": "b1649006",
   "metadata": {},
   "outputs": [
    {
     "data": {
      "text/plain": [
       "Month                       0\n",
       "Age                         0\n",
       "Occupation                  0\n",
       "Annual_Income               0\n",
       "Monthly_Inhand_Salary       0\n",
       "Num_Bank_Accounts           0\n",
       "Num_Credit_Card             0\n",
       "Interest_Rate               0\n",
       "Num_of_Loan                 0\n",
       "Type_of_Loan                0\n",
       "Delay_from_due_date         0\n",
       "Num_of_Delayed_Payment      0\n",
       "Changed_Credit_Limit        0\n",
       "Num_Credit_Inquiries        0\n",
       "Credit_Mix                  0\n",
       "Outstanding_Debt            0\n",
       "Credit_Utilization_Ratio    0\n",
       "Payment_of_Min_Amount       0\n",
       "Total_EMI_per_month         0\n",
       "Amount_invested_monthly     0\n",
       "Payment_Behaviour           0\n",
       "Monthly_Balance             0\n",
       "Credit_History_Age_Month    0\n",
       "dtype: int64"
      ]
     },
     "execution_count": 185,
     "metadata": {},
     "output_type": "execute_result"
    }
   ],
   "source": [
    "# Checking for missing values\n",
    "df.isnull().sum()"
   ]
  },
  {
   "cell_type": "code",
   "execution_count": 186,
   "id": "9ccd6035",
   "metadata": {},
   "outputs": [
    {
     "data": {
      "text/plain": [
       "Payment_of_Min_Amount\n",
       "Yes    26158\n",
       "No     17849\n",
       "NM      5993\n",
       "Name: count, dtype: int64"
      ]
     },
     "execution_count": 186,
     "metadata": {},
     "output_type": "execute_result"
    }
   ],
   "source": [
    "df['Payment_of_Min_Amount'].value_counts()"
   ]
  },
  {
   "cell_type": "code",
   "execution_count": 187,
   "id": "132b3df7",
   "metadata": {},
   "outputs": [
    {
     "data": {
      "text/plain": [
       "Credit_Mix\n",
       "Standard    18379\n",
       "Good        12260\n",
       "_            9805\n",
       "Bad          9556\n",
       "Name: count, dtype: int64"
      ]
     },
     "execution_count": 187,
     "metadata": {},
     "output_type": "execute_result"
    }
   ],
   "source": [
    "df['Credit_Mix'].value_counts()"
   ]
  },
  {
   "cell_type": "code",
   "execution_count": 188,
   "id": "653ff071",
   "metadata": {},
   "outputs": [
    {
     "name": "stdout",
     "output_type": "stream",
     "text": [
      "['Good' 'Standard' 'Bad']\n"
     ]
    }
   ],
   "source": [
    "# Replace Invalid value on Credit_Mix column\n",
    "\n",
    "# define invalid values (e.g., 'invalid' or empty string)\n",
    "invalid_values = ['_', '']\n",
    "\n",
    "# Replace invalid values with NaN\n",
    "df['Credit_Mix'] = df['Credit_Mix'].replace(invalid_values, np.nan)\n",
    "\n",
    "# Replace invalid value by most frequent value\n",
    "imputer = SimpleImputer(strategy='most_frequent')\n",
    "df['Credit_Mix'] = imputer.fit_transform(df[['Credit_Mix']])[:, 0]\n",
    "\n",
    "print(df['Credit_Mix'].unique())"
   ]
  },
  {
   "cell_type": "code",
   "execution_count": 189,
   "id": "b1e2a0b1",
   "metadata": {},
   "outputs": [
    {
     "data": {
      "text/plain": [
       "Payment_Behaviour\n",
       "Low_spent_Small_value_payments      12694\n",
       "High_spent_Medium_value_payments     8922\n",
       "High_spent_Large_value_payments      6844\n",
       "Low_spent_Medium_value_payments      6837\n",
       "High_spent_Small_value_payments      5651\n",
       "Low_spent_Large_value_payments       5252\n",
       "!@9#%8                               3800\n",
       "Name: count, dtype: int64"
      ]
     },
     "execution_count": 189,
     "metadata": {},
     "output_type": "execute_result"
    }
   ],
   "source": [
    "df['Payment_Behaviour'].value_counts()"
   ]
  },
  {
   "cell_type": "code",
   "execution_count": 190,
   "id": "d48016d4",
   "metadata": {},
   "outputs": [
    {
     "name": "stdout",
     "output_type": "stream",
     "text": [
      "['Low_spent_Small_value_payments' 'High_spent_Medium_value_payments'\n",
      " 'Low_spent_Medium_value_payments' 'High_spent_Large_value_payments'\n",
      " 'Low_spent_Large_value_payments' 'High_spent_Small_value_payments']\n"
     ]
    }
   ],
   "source": [
    "# Replace Invalid value on Payment_Behaviour column\n",
    "\n",
    "# define invalid values (e.g., 'invalid' or empty string)\n",
    "invalid_values = ['!@9#%8', '']\n",
    "\n",
    "# Replace invalid values with NaN\n",
    "df['Payment_Behaviour'] = df['Payment_Behaviour'].replace(invalid_values, np.nan)\n",
    "\n",
    "# Replace invalid value by most frequent value\n",
    "imputer = SimpleImputer(strategy='most_frequent')\n",
    "df['Payment_Behaviour'] = imputer.fit_transform(df[['Payment_Behaviour']])[:, 0]\n",
    "\n",
    "print(df['Payment_Behaviour'].unique())"
   ]
  },
  {
   "cell_type": "markdown",
   "id": "a8b81a57",
   "metadata": {},
   "source": [
    "#### Outlier"
   ]
  },
  {
   "cell_type": "code",
   "execution_count": 191,
   "id": "ac268248",
   "metadata": {},
   "outputs": [
    {
     "name": "stdout",
     "output_type": "stream",
     "text": [
      "<class 'pandas.core.frame.DataFrame'>\n",
      "RangeIndex: 50000 entries, 0 to 49999\n",
      "Data columns (total 23 columns):\n",
      " #   Column                    Non-Null Count  Dtype  \n",
      "---  ------                    --------------  -----  \n",
      " 0   Month                     50000 non-null  object \n",
      " 1   Age                       50000 non-null  float64\n",
      " 2   Occupation                50000 non-null  object \n",
      " 3   Annual_Income             50000 non-null  float64\n",
      " 4   Monthly_Inhand_Salary     50000 non-null  float64\n",
      " 5   Num_Bank_Accounts         50000 non-null  float64\n",
      " 6   Num_Credit_Card           50000 non-null  float64\n",
      " 7   Interest_Rate             50000 non-null  float64\n",
      " 8   Num_of_Loan               50000 non-null  float64\n",
      " 9   Type_of_Loan              50000 non-null  object \n",
      " 10  Delay_from_due_date       50000 non-null  float64\n",
      " 11  Num_of_Delayed_Payment    50000 non-null  float64\n",
      " 12  Changed_Credit_Limit      50000 non-null  float64\n",
      " 13  Num_Credit_Inquiries      50000 non-null  float64\n",
      " 14  Credit_Mix                50000 non-null  object \n",
      " 15  Outstanding_Debt          50000 non-null  float64\n",
      " 16  Credit_Utilization_Ratio  50000 non-null  float64\n",
      " 17  Payment_of_Min_Amount     50000 non-null  object \n",
      " 18  Total_EMI_per_month       50000 non-null  float64\n",
      " 19  Amount_invested_monthly   50000 non-null  float64\n",
      " 20  Payment_Behaviour         50000 non-null  object \n",
      " 21  Monthly_Balance           50000 non-null  float64\n",
      " 22  Credit_History_Age_Month  50000 non-null  float64\n",
      "dtypes: float64(17), object(6)\n",
      "memory usage: 8.8+ MB\n"
     ]
    }
   ],
   "source": [
    "df.info()"
   ]
  },
  {
   "cell_type": "code",
   "execution_count": 192,
   "id": "c85e4c32",
   "metadata": {},
   "outputs": [
    {
     "name": "stdout",
     "output_type": "stream",
     "text": [
      "<class 'pandas.core.frame.DataFrame'>\n",
      "RangeIndex: 50000 entries, 0 to 49999\n",
      "Data columns (total 23 columns):\n",
      " #   Column                    Non-Null Count  Dtype  \n",
      "---  ------                    --------------  -----  \n",
      " 0   Month                     50000 non-null  object \n",
      " 1   Age                       50000 non-null  float64\n",
      " 2   Occupation                50000 non-null  object \n",
      " 3   Annual_Income             50000 non-null  float64\n",
      " 4   Monthly_Inhand_Salary     50000 non-null  float64\n",
      " 5   Num_Bank_Accounts         50000 non-null  float64\n",
      " 6   Num_Credit_Card           50000 non-null  float64\n",
      " 7   Interest_Rate             50000 non-null  float64\n",
      " 8   Num_of_Loan               50000 non-null  float64\n",
      " 9   Type_of_Loan              50000 non-null  object \n",
      " 10  Delay_from_due_date       50000 non-null  float64\n",
      " 11  Num_of_Delayed_Payment    50000 non-null  float64\n",
      " 12  Changed_Credit_Limit      50000 non-null  float64\n",
      " 13  Num_Credit_Inquiries      50000 non-null  float64\n",
      " 14  Credit_Score              50000 non-null  object \n",
      " 15  Outstanding_Debt          50000 non-null  float64\n",
      " 16  Credit_Utilization_Ratio  50000 non-null  float64\n",
      " 17  Payment_of_Min_Amount     50000 non-null  object \n",
      " 18  Total_EMI_per_month       50000 non-null  float64\n",
      " 19  Amount_invested_monthly   50000 non-null  float64\n",
      " 20  Payment_Behaviour         50000 non-null  object \n",
      " 21  Monthly_Balance           50000 non-null  float64\n",
      " 22  Credit_History_Age_Month  50000 non-null  float64\n",
      "dtypes: float64(17), object(6)\n",
      "memory usage: 8.8+ MB\n"
     ]
    }
   ],
   "source": [
    "df.rename(columns = {'Credit_Mix':'Credit_Score'}, inplace = True)\n",
    "df.info()"
   ]
  },
  {
   "cell_type": "code",
   "execution_count": 193,
   "id": "53566d41",
   "metadata": {},
   "outputs": [
    {
     "data": {
      "text/plain": [
       "Month                           4\n",
       "Age                           928\n",
       "Occupation                     15\n",
       "Annual_Income               12989\n",
       "Monthly_Inhand_Salary       12794\n",
       "Num_Bank_Accounts             540\n",
       "Num_Credit_Card               819\n",
       "Interest_Rate                 945\n",
       "Num_of_Loan                   252\n",
       "Type_of_Loan                    9\n",
       "Delay_from_due_date            73\n",
       "Num_of_Delayed_Payment        411\n",
       "Changed_Credit_Limit         3920\n",
       "Num_Credit_Inquiries          750\n",
       "Credit_Score                    3\n",
       "Outstanding_Debt            12203\n",
       "Credit_Utilization_Ratio    50000\n",
       "Payment_of_Min_Amount           3\n",
       "Total_EMI_per_month         13144\n",
       "Amount_invested_monthly     45450\n",
       "Payment_Behaviour               6\n",
       "Monthly_Balance             49434\n",
       "Credit_History_Age_Month      399\n",
       "dtype: int64"
      ]
     },
     "execution_count": 193,
     "metadata": {},
     "output_type": "execute_result"
    }
   ],
   "source": [
    "df.nunique()"
   ]
  },
  {
   "cell_type": "code",
   "execution_count": 194,
   "id": "161cb03a",
   "metadata": {},
   "outputs": [
    {
     "data": {
      "text/html": [
       "<div>\n",
       "<style scoped>\n",
       "    .dataframe tbody tr th:only-of-type {\n",
       "        vertical-align: middle;\n",
       "    }\n",
       "\n",
       "    .dataframe tbody tr th {\n",
       "        vertical-align: top;\n",
       "    }\n",
       "\n",
       "    .dataframe thead th {\n",
       "        text-align: right;\n",
       "    }\n",
       "</style>\n",
       "<table border=\"1\" class=\"dataframe\">\n",
       "  <thead>\n",
       "    <tr style=\"text-align: right;\">\n",
       "      <th></th>\n",
       "      <th>Age</th>\n",
       "      <th>Annual_Income</th>\n",
       "      <th>Monthly_Inhand_Salary</th>\n",
       "      <th>Num_Bank_Accounts</th>\n",
       "      <th>Num_Credit_Card</th>\n",
       "      <th>Interest_Rate</th>\n",
       "      <th>Num_of_Loan</th>\n",
       "      <th>Delay_from_due_date</th>\n",
       "      <th>Num_of_Delayed_Payment</th>\n",
       "      <th>Changed_Credit_Limit</th>\n",
       "      <th>Num_Credit_Inquiries</th>\n",
       "      <th>Outstanding_Debt</th>\n",
       "      <th>Credit_Utilization_Ratio</th>\n",
       "      <th>Total_EMI_per_month</th>\n",
       "      <th>Amount_invested_monthly</th>\n",
       "      <th>Monthly_Balance</th>\n",
       "      <th>Credit_History_Age_Month</th>\n",
       "    </tr>\n",
       "  </thead>\n",
       "  <tbody>\n",
       "    <tr>\n",
       "      <th>count</th>\n",
       "      <td>50000.000000</td>\n",
       "      <td>5.000000e+04</td>\n",
       "      <td>50000.000000</td>\n",
       "      <td>50000.000000</td>\n",
       "      <td>50000.000000</td>\n",
       "      <td>50000.000000</td>\n",
       "      <td>50000.000000</td>\n",
       "      <td>50000.000000</td>\n",
       "      <td>50000.000000</td>\n",
       "      <td>50000.000000</td>\n",
       "      <td>50000.000000</td>\n",
       "      <td>50000.000000</td>\n",
       "      <td>50000.000000</td>\n",
       "      <td>50000.000000</td>\n",
       "      <td>50000.000000</td>\n",
       "      <td>5.000000e+04</td>\n",
       "      <td>50000.000000</td>\n",
       "    </tr>\n",
       "    <tr>\n",
       "      <th>mean</th>\n",
       "      <td>109.714420</td>\n",
       "      <td>1.663342e+05</td>\n",
       "      <td>4017.693225</td>\n",
       "      <td>16.838260</td>\n",
       "      <td>22.921480</td>\n",
       "      <td>68.772640</td>\n",
       "      <td>3.403360</td>\n",
       "      <td>21.052640</td>\n",
       "      <td>29.707400</td>\n",
       "      <td>10.354409</td>\n",
       "      <td>29.602440</td>\n",
       "      <td>1426.220376</td>\n",
       "      <td>32.279581</td>\n",
       "      <td>1491.304305</td>\n",
       "      <td>618.669351</td>\n",
       "      <td>-4.000000e+22</td>\n",
       "      <td>227.049920</td>\n",
       "    </tr>\n",
       "    <tr>\n",
       "      <th>std</th>\n",
       "      <td>679.696381</td>\n",
       "      <td>1.351965e+06</td>\n",
       "      <td>2952.479911</td>\n",
       "      <td>116.396848</td>\n",
       "      <td>129.314804</td>\n",
       "      <td>451.602363</td>\n",
       "      <td>66.364023</td>\n",
       "      <td>14.860397</td>\n",
       "      <td>213.664821</td>\n",
       "      <td>6.709873</td>\n",
       "      <td>194.962329</td>\n",
       "      <td>1155.134801</td>\n",
       "      <td>5.106238</td>\n",
       "      <td>8595.647887</td>\n",
       "      <td>2009.473293</td>\n",
       "      <td>3.651301e+24</td>\n",
       "      <td>95.002194</td>\n",
       "    </tr>\n",
       "    <tr>\n",
       "      <th>min</th>\n",
       "      <td>-500.000000</td>\n",
       "      <td>7.005930e+03</td>\n",
       "      <td>303.645417</td>\n",
       "      <td>-1.000000</td>\n",
       "      <td>0.000000</td>\n",
       "      <td>1.000000</td>\n",
       "      <td>-100.000000</td>\n",
       "      <td>-5.000000</td>\n",
       "      <td>-3.000000</td>\n",
       "      <td>-6.450000</td>\n",
       "      <td>0.000000</td>\n",
       "      <td>0.230000</td>\n",
       "      <td>20.509652</td>\n",
       "      <td>0.000000</td>\n",
       "      <td>0.000000</td>\n",
       "      <td>-3.333333e+26</td>\n",
       "      <td>10.000000</td>\n",
       "    </tr>\n",
       "    <tr>\n",
       "      <th>25%</th>\n",
       "      <td>25.000000</td>\n",
       "      <td>1.945333e+04</td>\n",
       "      <td>1794.304167</td>\n",
       "      <td>3.000000</td>\n",
       "      <td>4.000000</td>\n",
       "      <td>8.000000</td>\n",
       "      <td>1.000000</td>\n",
       "      <td>10.000000</td>\n",
       "      <td>9.000000</td>\n",
       "      <td>5.440000</td>\n",
       "      <td>4.000000</td>\n",
       "      <td>566.072500</td>\n",
       "      <td>28.061040</td>\n",
       "      <td>32.222388</td>\n",
       "      <td>77.031011</td>\n",
       "      <td>2.710945e+02</td>\n",
       "      <td>160.000000</td>\n",
       "    </tr>\n",
       "    <tr>\n",
       "      <th>50%</th>\n",
       "      <td>34.000000</td>\n",
       "      <td>3.757782e+04</td>\n",
       "      <td>3086.305000</td>\n",
       "      <td>6.000000</td>\n",
       "      <td>5.000000</td>\n",
       "      <td>13.000000</td>\n",
       "      <td>3.000000</td>\n",
       "      <td>18.000000</td>\n",
       "      <td>14.000000</td>\n",
       "      <td>9.410000</td>\n",
       "      <td>7.000000</td>\n",
       "      <td>1166.155000</td>\n",
       "      <td>32.280390</td>\n",
       "      <td>74.733349</td>\n",
       "      <td>135.590430</td>\n",
       "      <td>3.369732e+02</td>\n",
       "      <td>225.000000</td>\n",
       "    </tr>\n",
       "    <tr>\n",
       "      <th>75%</th>\n",
       "      <td>43.000000</td>\n",
       "      <td>7.281702e+04</td>\n",
       "      <td>5338.967500</td>\n",
       "      <td>7.000000</td>\n",
       "      <td>7.000000</td>\n",
       "      <td>20.000000</td>\n",
       "      <td>5.000000</td>\n",
       "      <td>28.000000</td>\n",
       "      <td>18.000000</td>\n",
       "      <td>14.600000</td>\n",
       "      <td>10.000000</td>\n",
       "      <td>1945.962500</td>\n",
       "      <td>36.468591</td>\n",
       "      <td>176.157491</td>\n",
       "      <td>255.917379</td>\n",
       "      <td>4.685712e+02</td>\n",
       "      <td>298.000000</td>\n",
       "    </tr>\n",
       "    <tr>\n",
       "      <th>max</th>\n",
       "      <td>8688.000000</td>\n",
       "      <td>2.413726e+07</td>\n",
       "      <td>15204.633333</td>\n",
       "      <td>1798.000000</td>\n",
       "      <td>1499.000000</td>\n",
       "      <td>5799.000000</td>\n",
       "      <td>1496.000000</td>\n",
       "      <td>67.000000</td>\n",
       "      <td>4399.000000</td>\n",
       "      <td>36.650000</td>\n",
       "      <td>2593.000000</td>\n",
       "      <td>4998.070000</td>\n",
       "      <td>48.540663</td>\n",
       "      <td>82398.000000</td>\n",
       "      <td>10000.000000</td>\n",
       "      <td>1.606518e+03</td>\n",
       "      <td>408.000000</td>\n",
       "    </tr>\n",
       "  </tbody>\n",
       "</table>\n",
       "</div>"
      ],
      "text/plain": [
       "                Age  Annual_Income  Monthly_Inhand_Salary  Num_Bank_Accounts  \\\n",
       "count  50000.000000   5.000000e+04           50000.000000       50000.000000   \n",
       "mean     109.714420   1.663342e+05            4017.693225          16.838260   \n",
       "std      679.696381   1.351965e+06            2952.479911         116.396848   \n",
       "min     -500.000000   7.005930e+03             303.645417          -1.000000   \n",
       "25%       25.000000   1.945333e+04            1794.304167           3.000000   \n",
       "50%       34.000000   3.757782e+04            3086.305000           6.000000   \n",
       "75%       43.000000   7.281702e+04            5338.967500           7.000000   \n",
       "max     8688.000000   2.413726e+07           15204.633333        1798.000000   \n",
       "\n",
       "       Num_Credit_Card  Interest_Rate   Num_of_Loan  Delay_from_due_date  \\\n",
       "count     50000.000000   50000.000000  50000.000000         50000.000000   \n",
       "mean         22.921480      68.772640      3.403360            21.052640   \n",
       "std         129.314804     451.602363     66.364023            14.860397   \n",
       "min           0.000000       1.000000   -100.000000            -5.000000   \n",
       "25%           4.000000       8.000000      1.000000            10.000000   \n",
       "50%           5.000000      13.000000      3.000000            18.000000   \n",
       "75%           7.000000      20.000000      5.000000            28.000000   \n",
       "max        1499.000000    5799.000000   1496.000000            67.000000   \n",
       "\n",
       "       Num_of_Delayed_Payment  Changed_Credit_Limit  Num_Credit_Inquiries  \\\n",
       "count            50000.000000          50000.000000          50000.000000   \n",
       "mean                29.707400             10.354409             29.602440   \n",
       "std                213.664821              6.709873            194.962329   \n",
       "min                 -3.000000             -6.450000              0.000000   \n",
       "25%                  9.000000              5.440000              4.000000   \n",
       "50%                 14.000000              9.410000              7.000000   \n",
       "75%                 18.000000             14.600000             10.000000   \n",
       "max               4399.000000             36.650000           2593.000000   \n",
       "\n",
       "       Outstanding_Debt  Credit_Utilization_Ratio  Total_EMI_per_month  \\\n",
       "count      50000.000000              50000.000000         50000.000000   \n",
       "mean        1426.220376                 32.279581          1491.304305   \n",
       "std         1155.134801                  5.106238          8595.647887   \n",
       "min            0.230000                 20.509652             0.000000   \n",
       "25%          566.072500                 28.061040            32.222388   \n",
       "50%         1166.155000                 32.280390            74.733349   \n",
       "75%         1945.962500                 36.468591           176.157491   \n",
       "max         4998.070000                 48.540663         82398.000000   \n",
       "\n",
       "       Amount_invested_monthly  Monthly_Balance  Credit_History_Age_Month  \n",
       "count             50000.000000     5.000000e+04              50000.000000  \n",
       "mean                618.669351    -4.000000e+22                227.049920  \n",
       "std                2009.473293     3.651301e+24                 95.002194  \n",
       "min                   0.000000    -3.333333e+26                 10.000000  \n",
       "25%                  77.031011     2.710945e+02                160.000000  \n",
       "50%                 135.590430     3.369732e+02                225.000000  \n",
       "75%                 255.917379     4.685712e+02                298.000000  \n",
       "max               10000.000000     1.606518e+03                408.000000  "
      ]
     },
     "execution_count": 194,
     "metadata": {},
     "output_type": "execute_result"
    }
   ],
   "source": [
    "df.describe()"
   ]
  },
  {
   "cell_type": "code",
   "execution_count": 195,
   "id": "7cab18d9",
   "metadata": {},
   "outputs": [
    {
     "data": {
      "image/png": "[encoded data removed]",
      "text/plain": [
       "<Figure size 1000x500 with 1 Axes>"
      ]
     },
     "metadata": {},
     "output_type": "display_data"
    }
   ],
   "source": [
    "# Step 1: Plot a box plot\n",
    "plt.figure(figsize=(10, 5))\n",
    "sns.boxplot(x=df['Age'])\n",
    "plt.title('Box plot of Age')\n",
    "plt.show()"
   ]
  },
  {
   "cell_type": "code",
   "execution_count": 196,
   "id": "ae166707",
   "metadata": {},
   "outputs": [],
   "source": [
    "def remove_outliers_iqr(df, column):\n",
    "    \"\"\"\n",
    "    Remove outliers from a DataFrame column using the IQR method.\n",
    "\n",
    "    Parameters:\n",
    "    df (pd.DataFrame): The input DataFrame.\n",
    "    column (str): The column from which to remove outliers.\n",
    "\n",
    "    Returns:\n",
    "    pd.DataFrame: DataFrame with outliers removed.\n",
    "    \"\"\"\n",
    "    Q1 = df[column].quantile(0.25)\n",
    "    Q3 = df[column].quantile(0.75)\n",
    "    IQR = Q3 - Q1\n",
    "    lower_bound = Q1 - 1.5 * IQR\n",
    "    upper_bound = Q3 + 1.5 * IQR\n",
    "    df_cleaned = df[(df[column] >= lower_bound) & (df[column] <= upper_bound)]\n",
    "    return df_cleaned"
   ]
  },
  {
   "cell_type": "code",
   "execution_count": 197,
   "id": "271f4515",
   "metadata": {},
   "outputs": [],
   "source": [
    "df = remove_outliers_iqr(df, 'Age')"
   ]
  },
  {
   "cell_type": "code",
   "execution_count": 198,
   "id": "96982046",
   "metadata": {},
   "outputs": [
    {
     "data": {
      "image/png": "[encoded data removed]",
      "text/plain": [
       "<Figure size 1000x500 with 1 Axes>"
      ]
     },
     "metadata": {},
     "output_type": "display_data"
    }
   ],
   "source": [
    "# Step 1: Plot a box plot\n",
    "plt.figure(figsize=(10, 5))\n",
    "sns.boxplot(x=df['Age'])\n",
    "plt.title('Box plot of Age')\n",
    "plt.show()"
   ]
  },
  {
   "cell_type": "code",
   "execution_count": 199,
   "id": "aaf18aa4",
   "metadata": {},
   "outputs": [
    {
     "data": {
      "image/png": "[encoded data removed]",
      "text/plain": [
       "<Figure size 1000x500 with 1 Axes>"
      ]
     },
     "metadata": {},
     "output_type": "display_data"
    }
   ],
   "source": [
    "plt.figure(figsize=(10, 5))\n",
    "sns.boxplot(x=df['Num_of_Loan'])\n",
    "plt.title('Box plot of Num_of_Loan')\n",
    "plt.show()"
   ]
  },
  {
   "cell_type": "code",
   "execution_count": 200,
   "id": "bc101109",
   "metadata": {},
   "outputs": [],
   "source": [
    "df = remove_outliers_iqr(df, 'Num_of_Loan')"
   ]
  },
  {
   "cell_type": "code",
   "execution_count": 201,
   "id": "bf326858",
   "metadata": {},
   "outputs": [
    {
     "data": {
      "image/png": "[encoded data removed]",
      "text/plain": [
       "<Figure size 1000x500 with 1 Axes>"
      ]
     },
     "metadata": {},
     "output_type": "display_data"
    }
   ],
   "source": [
    "plt.figure(figsize=(10, 5))\n",
    "sns.boxplot(x=df['Num_of_Loan'])\n",
    "plt.title('Box plot of Num_of_Loan')\n",
    "plt.show()"
   ]
  },
  {
   "cell_type": "code",
   "execution_count": 202,
   "id": "fb962e6c",
   "metadata": {
    "scrolled": true
   },
   "outputs": [
    {
     "data": {
      "image/png": "[encoded data removed]",
      "text/plain": [
       "<Figure size 1000x500 with 1 Axes>"
      ]
     },
     "metadata": {},
     "output_type": "display_data"
    }
   ],
   "source": [
    "plt.figure(figsize=(10, 5))\n",
    "sns.boxplot(x=df['Num_of_Delayed_Payment'])\n",
    "plt.title('Box plot of Num_of_Delayed_Payment')\n",
    "plt.show()"
   ]
  },
  {
   "cell_type": "code",
   "execution_count": 203,
   "id": "fb1a8fd3",
   "metadata": {},
   "outputs": [],
   "source": [
    "df = remove_outliers_iqr(df, 'Num_of_Delayed_Payment')"
   ]
  },
  {
   "cell_type": "code",
   "execution_count": 204,
   "id": "35f365a9",
   "metadata": {},
   "outputs": [
    {
     "data": {
      "image/png": "[encoded data removed]",
      "text/plain": [
       "<Figure size 1000x500 with 1 Axes>"
      ]
     },
     "metadata": {},
     "output_type": "display_data"
    }
   ],
   "source": [
    "plt.figure(figsize=(10, 5))\n",
    "sns.boxplot(x=df['Num_of_Delayed_Payment'])\n",
    "plt.title('Box plot of Num_of_Delayed_Payment')\n",
    "plt.show()"
   ]
  },
  {
   "cell_type": "code",
   "execution_count": 205,
   "id": "85563a51",
   "metadata": {
    "scrolled": true
   },
   "outputs": [
    {
     "data": {
      "image/png": "[encoded data removed]",
      "text/plain": [
       "<Figure size 1000x500 with 1 Axes>"
      ]
     },
     "metadata": {},
     "output_type": "display_data"
    }
   ],
   "source": [
    "plt.figure(figsize=(10, 5))\n",
    "sns.boxplot(x=df['Interest_Rate'])\n",
    "plt.title('Box plot of Interest_Rate')\n",
    "plt.show()"
   ]
  },
  {
   "cell_type": "code",
   "execution_count": 206,
   "id": "b538a96e",
   "metadata": {},
   "outputs": [],
   "source": [
    "df = remove_outliers_iqr(df, 'Interest_Rate')"
   ]
  },
  {
   "cell_type": "code",
   "execution_count": 207,
   "id": "bb0a3288",
   "metadata": {
    "scrolled": true
   },
   "outputs": [
    {
     "data": {
      "image/png": "[encoded data removed]",
      "text/plain": [
       "<Figure size 1000x500 with 1 Axes>"
      ]
     },
     "metadata": {},
     "output_type": "display_data"
    }
   ],
   "source": [
    "plt.figure(figsize=(10, 5))\n",
    "sns.boxplot(x=df['Interest_Rate'])\n",
    "plt.title('Box plot of Interest_Rate')\n",
    "plt.show()"
   ]
  },
  {
   "cell_type": "code",
   "execution_count": 208,
   "id": "c054ab8b",
   "metadata": {},
   "outputs": [],
   "source": [
    "#df = remove_outliers_iqr(df, 'Changed_Credit_Limit')\n",
    "df['Changed_Credit_Limit'] = df['Changed_Credit_Limit'].abs()\n",
    "df['Num_Bank_Accounts'] = df['Num_Bank_Accounts'].abs()\n",
    "df['Delay_from_due_date'] = df['Delay_from_due_date'].abs()\n",
    "df['Num_of_Delayed_Payment'] = df['Num_of_Delayed_Payment'].abs()"
   ]
  },
  {
   "cell_type": "code",
   "execution_count": 209,
   "id": "7274fdff",
   "metadata": {},
   "outputs": [
    {
     "data": {
      "image/png": "[encoded data removed]",
      "text/plain": [
       "<Figure size 1000x500 with 1 Axes>"
      ]
     },
     "metadata": {},
     "output_type": "display_data"
    }
   ],
   "source": [
    "plt.figure(figsize=(10, 5))\n",
    "sns.boxplot(x=df['Changed_Credit_Limit'])\n",
    "plt.title('Box plot of Changed_Credit_Limit')\n",
    "plt.show()"
   ]
  },
  {
   "cell_type": "code",
   "execution_count": 210,
   "id": "f32456c1",
   "metadata": {
    "scrolled": true
   },
   "outputs": [
    {
     "data": {
      "text/plain": [
       "(45190, 23)"
      ]
     },
     "execution_count": 210,
     "metadata": {},
     "output_type": "execute_result"
    }
   ],
   "source": [
    "df.shape"
   ]
  },
  {
   "cell_type": "code",
   "execution_count": 211,
   "id": "15efab46",
   "metadata": {},
   "outputs": [
    {
     "data": {
      "text/html": [
       "<div>\n",
       "<style scoped>\n",
       "    .dataframe tbody tr th:only-of-type {\n",
       "        vertical-align: middle;\n",
       "    }\n",
       "\n",
       "    .dataframe tbody tr th {\n",
       "        vertical-align: top;\n",
       "    }\n",
       "\n",
       "    .dataframe thead th {\n",
       "        text-align: right;\n",
       "    }\n",
       "</style>\n",
       "<table border=\"1\" class=\"dataframe\">\n",
       "  <thead>\n",
       "    <tr style=\"text-align: right;\">\n",
       "      <th></th>\n",
       "      <th>Age</th>\n",
       "      <th>Annual_Income</th>\n",
       "      <th>Monthly_Inhand_Salary</th>\n",
       "      <th>Num_Bank_Accounts</th>\n",
       "      <th>Num_Credit_Card</th>\n",
       "      <th>Interest_Rate</th>\n",
       "      <th>Num_of_Loan</th>\n",
       "      <th>Delay_from_due_date</th>\n",
       "      <th>Num_of_Delayed_Payment</th>\n",
       "      <th>Changed_Credit_Limit</th>\n",
       "      <th>Num_Credit_Inquiries</th>\n",
       "      <th>Outstanding_Debt</th>\n",
       "      <th>Credit_Utilization_Ratio</th>\n",
       "      <th>Total_EMI_per_month</th>\n",
       "      <th>Amount_invested_monthly</th>\n",
       "      <th>Monthly_Balance</th>\n",
       "      <th>Credit_History_Age_Month</th>\n",
       "    </tr>\n",
       "  </thead>\n",
       "  <tbody>\n",
       "    <tr>\n",
       "      <th>count</th>\n",
       "      <td>45190.000000</td>\n",
       "      <td>4.519000e+04</td>\n",
       "      <td>45190.000000</td>\n",
       "      <td>45190.000000</td>\n",
       "      <td>45190.000000</td>\n",
       "      <td>45190.000000</td>\n",
       "      <td>45190.000000</td>\n",
       "      <td>45190.000000</td>\n",
       "      <td>45190.000000</td>\n",
       "      <td>45190.000000</td>\n",
       "      <td>45190.000000</td>\n",
       "      <td>45190.000000</td>\n",
       "      <td>45190.000000</td>\n",
       "      <td>45190.000000</td>\n",
       "      <td>45190.000000</td>\n",
       "      <td>4.519000e+04</td>\n",
       "      <td>45190.000000</td>\n",
       "    </tr>\n",
       "    <tr>\n",
       "      <th>mean</th>\n",
       "      <td>33.814428</td>\n",
       "      <td>1.659418e+05</td>\n",
       "      <td>4016.622552</td>\n",
       "      <td>16.694711</td>\n",
       "      <td>22.792189</td>\n",
       "      <td>14.524098</td>\n",
       "      <td>3.529741</td>\n",
       "      <td>21.054791</td>\n",
       "      <td>13.397898</td>\n",
       "      <td>10.432801</td>\n",
       "      <td>29.867869</td>\n",
       "      <td>1424.478437</td>\n",
       "      <td>32.278691</td>\n",
       "      <td>1483.895882</td>\n",
       "      <td>615.460048</td>\n",
       "      <td>-4.425758e+22</td>\n",
       "      <td>227.112392</td>\n",
       "    </tr>\n",
       "    <tr>\n",
       "      <th>std</th>\n",
       "      <td>10.762992</td>\n",
       "      <td>1.345711e+06</td>\n",
       "      <td>2954.106824</td>\n",
       "      <td>115.915328</td>\n",
       "      <td>128.642697</td>\n",
       "      <td>8.753212</td>\n",
       "      <td>2.446495</td>\n",
       "      <td>14.820163</td>\n",
       "      <td>6.037027</td>\n",
       "      <td>6.598303</td>\n",
       "      <td>196.146863</td>\n",
       "      <td>1152.192000</td>\n",
       "      <td>5.107786</td>\n",
       "      <td>8572.689308</td>\n",
       "      <td>2001.306750</td>\n",
       "      <td>3.840689e+24</td>\n",
       "      <td>95.056473</td>\n",
       "    </tr>\n",
       "    <tr>\n",
       "      <th>min</th>\n",
       "      <td>14.000000</td>\n",
       "      <td>7.005930e+03</td>\n",
       "      <td>303.645417</td>\n",
       "      <td>0.000000</td>\n",
       "      <td>0.000000</td>\n",
       "      <td>1.000000</td>\n",
       "      <td>0.000000</td>\n",
       "      <td>0.000000</td>\n",
       "      <td>0.000000</td>\n",
       "      <td>0.000000</td>\n",
       "      <td>0.000000</td>\n",
       "      <td>0.230000</td>\n",
       "      <td>20.509652</td>\n",
       "      <td>0.000000</td>\n",
       "      <td>0.000000</td>\n",
       "      <td>-3.333333e+26</td>\n",
       "      <td>10.000000</td>\n",
       "    </tr>\n",
       "    <tr>\n",
       "      <th>25%</th>\n",
       "      <td>25.000000</td>\n",
       "      <td>1.942898e+04</td>\n",
       "      <td>1791.391667</td>\n",
       "      <td>3.000000</td>\n",
       "      <td>4.000000</td>\n",
       "      <td>7.000000</td>\n",
       "      <td>2.000000</td>\n",
       "      <td>10.000000</td>\n",
       "      <td>9.000000</td>\n",
       "      <td>5.430000</td>\n",
       "      <td>4.000000</td>\n",
       "      <td>565.260000</td>\n",
       "      <td>28.063710</td>\n",
       "      <td>32.193352</td>\n",
       "      <td>77.287976</td>\n",
       "      <td>2.706896e+02</td>\n",
       "      <td>161.000000</td>\n",
       "    </tr>\n",
       "    <tr>\n",
       "      <th>50%</th>\n",
       "      <td>33.000000</td>\n",
       "      <td>3.757083e+04</td>\n",
       "      <td>3086.305000</td>\n",
       "      <td>6.000000</td>\n",
       "      <td>5.000000</td>\n",
       "      <td>13.000000</td>\n",
       "      <td>3.000000</td>\n",
       "      <td>18.000000</td>\n",
       "      <td>14.000000</td>\n",
       "      <td>9.410000</td>\n",
       "      <td>7.000000</td>\n",
       "      <td>1167.045000</td>\n",
       "      <td>32.277403</td>\n",
       "      <td>74.606950</td>\n",
       "      <td>135.590430</td>\n",
       "      <td>3.369732e+02</td>\n",
       "      <td>225.000000</td>\n",
       "    </tr>\n",
       "    <tr>\n",
       "      <th>75%</th>\n",
       "      <td>42.000000</td>\n",
       "      <td>7.281486e+04</td>\n",
       "      <td>5337.947500</td>\n",
       "      <td>7.000000</td>\n",
       "      <td>7.000000</td>\n",
       "      <td>20.000000</td>\n",
       "      <td>5.000000</td>\n",
       "      <td>28.000000</td>\n",
       "      <td>18.000000</td>\n",
       "      <td>14.600000</td>\n",
       "      <td>10.000000</td>\n",
       "      <td>1945.030000</td>\n",
       "      <td>36.471459</td>\n",
       "      <td>175.377781</td>\n",
       "      <td>255.905203</td>\n",
       "      <td>4.686204e+02</td>\n",
       "      <td>298.000000</td>\n",
       "    </tr>\n",
       "    <tr>\n",
       "      <th>max</th>\n",
       "      <td>56.000000</td>\n",
       "      <td>2.413726e+07</td>\n",
       "      <td>15204.633333</td>\n",
       "      <td>1798.000000</td>\n",
       "      <td>1499.000000</td>\n",
       "      <td>34.000000</td>\n",
       "      <td>9.000000</td>\n",
       "      <td>67.000000</td>\n",
       "      <td>28.000000</td>\n",
       "      <td>36.650000</td>\n",
       "      <td>2593.000000</td>\n",
       "      <td>4998.070000</td>\n",
       "      <td>48.540663</td>\n",
       "      <td>82398.000000</td>\n",
       "      <td>10000.000000</td>\n",
       "      <td>1.606518e+03</td>\n",
       "      <td>408.000000</td>\n",
       "    </tr>\n",
       "  </tbody>\n",
       "</table>\n",
       "</div>"
      ],
      "text/plain": [
       "                Age  Annual_Income  Monthly_Inhand_Salary  Num_Bank_Accounts  \\\n",
       "count  45190.000000   4.519000e+04           45190.000000       45190.000000   \n",
       "mean      33.814428   1.659418e+05            4016.622552          16.694711   \n",
       "std       10.762992   1.345711e+06            2954.106824         115.915328   \n",
       "min       14.000000   7.005930e+03             303.645417           0.000000   \n",
       "25%       25.000000   1.942898e+04            1791.391667           3.000000   \n",
       "50%       33.000000   3.757083e+04            3086.305000           6.000000   \n",
       "75%       42.000000   7.281486e+04            5337.947500           7.000000   \n",
       "max       56.000000   2.413726e+07           15204.633333        1798.000000   \n",
       "\n",
       "       Num_Credit_Card  Interest_Rate   Num_of_Loan  Delay_from_due_date  \\\n",
       "count     45190.000000   45190.000000  45190.000000         45190.000000   \n",
       "mean         22.792189      14.524098      3.529741            21.054791   \n",
       "std         128.642697       8.753212      2.446495            14.820163   \n",
       "min           0.000000       1.000000      0.000000             0.000000   \n",
       "25%           4.000000       7.000000      2.000000            10.000000   \n",
       "50%           5.000000      13.000000      3.000000            18.000000   \n",
       "75%           7.000000      20.000000      5.000000            28.000000   \n",
       "max        1499.000000      34.000000      9.000000            67.000000   \n",
       "\n",
       "       Num_of_Delayed_Payment  Changed_Credit_Limit  Num_Credit_Inquiries  \\\n",
       "count            45190.000000          45190.000000          45190.000000   \n",
       "mean                13.397898             10.432801             29.867869   \n",
       "std                  6.037027              6.598303            196.146863   \n",
       "min                  0.000000              0.000000              0.000000   \n",
       "25%                  9.000000              5.430000              4.000000   \n",
       "50%                 14.000000              9.410000              7.000000   \n",
       "75%                 18.000000             14.600000             10.000000   \n",
       "max                 28.000000             36.650000           2593.000000   \n",
       "\n",
       "       Outstanding_Debt  Credit_Utilization_Ratio  Total_EMI_per_month  \\\n",
       "count      45190.000000              45190.000000         45190.000000   \n",
       "mean        1424.478437                 32.278691          1483.895882   \n",
       "std         1152.192000                  5.107786          8572.689308   \n",
       "min            0.230000                 20.509652             0.000000   \n",
       "25%          565.260000                 28.063710            32.193352   \n",
       "50%         1167.045000                 32.277403            74.606950   \n",
       "75%         1945.030000                 36.471459           175.377781   \n",
       "max         4998.070000                 48.540663         82398.000000   \n",
       "\n",
       "       Amount_invested_monthly  Monthly_Balance  Credit_History_Age_Month  \n",
       "count             45190.000000     4.519000e+04              45190.000000  \n",
       "mean                615.460048    -4.425758e+22                227.112392  \n",
       "std                2001.306750     3.840689e+24                 95.056473  \n",
       "min                   0.000000    -3.333333e+26                 10.000000  \n",
       "25%                  77.287976     2.706896e+02                161.000000  \n",
       "50%                 135.590430     3.369732e+02                225.000000  \n",
       "75%                 255.905203     4.686204e+02                298.000000  \n",
       "max               10000.000000     1.606518e+03                408.000000  "
      ]
     },
     "execution_count": 211,
     "metadata": {},
     "output_type": "execute_result"
    }
   ],
   "source": [
    "df.describe()"
   ]
  },
  {
   "cell_type": "markdown",
   "id": "f5f989ab",
   "metadata": {},
   "source": [
    "### Encoding data for Catagorical columns"
   ]
  },
  {
   "cell_type": "code",
   "execution_count": 212,
   "id": "75dee513",
   "metadata": {},
   "outputs": [
    {
     "name": "stdout",
     "output_type": "stream",
     "text": [
      "<class 'pandas.core.frame.DataFrame'>\n",
      "Index: 45190 entries, 0 to 49999\n",
      "Data columns (total 23 columns):\n",
      " #   Column                    Non-Null Count  Dtype  \n",
      "---  ------                    --------------  -----  \n",
      " 0   Month                     45190 non-null  object \n",
      " 1   Age                       45190 non-null  float64\n",
      " 2   Occupation                45190 non-null  object \n",
      " 3   Annual_Income             45190 non-null  float64\n",
      " 4   Monthly_Inhand_Salary     45190 non-null  float64\n",
      " 5   Num_Bank_Accounts         45190 non-null  float64\n",
      " 6   Num_Credit_Card           45190 non-null  float64\n",
      " 7   Interest_Rate             45190 non-null  float64\n",
      " 8   Num_of_Loan               45190 non-null  float64\n",
      " 9   Type_of_Loan              45190 non-null  object \n",
      " 10  Delay_from_due_date       45190 non-null  float64\n",
      " 11  Num_of_Delayed_Payment    45190 non-null  float64\n",
      " 12  Changed_Credit_Limit      45190 non-null  float64\n",
      " 13  Num_Credit_Inquiries      45190 non-null  float64\n",
      " 14  Credit_Score              45190 non-null  object \n",
      " 15  Outstanding_Debt          45190 non-null  float64\n",
      " 16  Credit_Utilization_Ratio  45190 non-null  float64\n",
      " 17  Payment_of_Min_Amount     45190 non-null  object \n",
      " 18  Total_EMI_per_month       45190 non-null  float64\n",
      " 19  Amount_invested_monthly   45190 non-null  float64\n",
      " 20  Payment_Behaviour         45190 non-null  object \n",
      " 21  Monthly_Balance           45190 non-null  float64\n",
      " 22  Credit_History_Age_Month  45190 non-null  float64\n",
      "dtypes: float64(17), object(6)\n",
      "memory usage: 8.3+ MB\n"
     ]
    }
   ],
   "source": [
    "df.info()"
   ]
  },
  {
   "cell_type": "markdown",
   "id": "28a59638",
   "metadata": {},
   "source": [
    "### Encoding Methods:\n",
    "\n",
    "#### 1.Label Encoding: \n",
    "Use LabelEncoder from sklearn.preprocessing for label encoding. \n",
    "This method is suitable for ordinal data or when the categorical variable has a meaningful ordering.\n",
    "\n",
    "Example: \"Type_of_Loan\", \"Occupation\", \"Payment_Behaviour\"\n",
    "\n",
    "#### 2.One-Hot Encoding:\n",
    "Use pd.get_dummies for one-hot encoding. This is suitable for nominal data where there is no inherent order among categories.\n",
    "\n",
    "\n",
    "#### 3.Ordinal Encoding:\n",
    "Use OrdinalEncoder from sklearn.preprocessing when categories have a logical order. Define the order explicitly.\n",
    "\n",
    "Example: \"Credit_Mix\""
   ]
  },
  {
   "cell_type": "code",
   "execution_count": 213,
   "id": "3d9cbc0c",
   "metadata": {},
   "outputs": [
    {
     "data": {
      "text/plain": [
       "array(['Scientist', 'Lawyer', 'Teacher', 'Engineer', 'Entrepreneur',\n",
       "       'Developer', 'Media_Manager', 'Doctor', 'Journalist', 'Manager',\n",
       "       'Accountant', 'Musician', 'Mechanic', 'Writer', 'Architect'],\n",
       "      dtype=object)"
      ]
     },
     "execution_count": 213,
     "metadata": {},
     "output_type": "execute_result"
    }
   ],
   "source": [
    "df['Occupation'].unique()"
   ]
  },
  {
   "cell_type": "code",
   "execution_count": 214,
   "id": "632cb154",
   "metadata": {},
   "outputs": [
    {
     "data": {
      "text/plain": [
       "array(['Low_spent_Small_value_payments',\n",
       "       'High_spent_Medium_value_payments',\n",
       "       'Low_spent_Medium_value_payments',\n",
       "       'High_spent_Large_value_payments',\n",
       "       'Low_spent_Large_value_payments',\n",
       "       'High_spent_Small_value_payments'], dtype=object)"
      ]
     },
     "execution_count": 214,
     "metadata": {},
     "output_type": "execute_result"
    }
   ],
   "source": [
    "df['Payment_Behaviour'].unique()"
   ]
  },
  {
   "cell_type": "code",
   "execution_count": 216,
   "id": "59586f24",
   "metadata": {
    "scrolled": true
   },
   "outputs": [
    {
     "data": {
      "text/plain": [
       "array(['Good', 'Standard', 'Bad'], dtype=object)"
      ]
     },
     "execution_count": 216,
     "metadata": {},
     "output_type": "execute_result"
    }
   ],
   "source": [
    "df['Credit_Score'].unique()"
   ]
  },
  {
   "cell_type": "code",
   "execution_count": null,
   "id": "91cf17ca",
   "metadata": {},
   "outputs": [],
   "source": [
    "df['Type_of_Loan'].unique()"
   ]
  },
  {
   "cell_type": "code",
   "execution_count": 142,
   "id": "3d846864",
   "metadata": {},
   "outputs": [
    {
     "data": {
      "text/plain": [
       "43"
      ]
     },
     "execution_count": 142,
     "metadata": {},
     "output_type": "execute_result"
    }
   ],
   "source": [
    "df['Age'].nunique()"
   ]
  },
  {
   "cell_type": "code",
   "execution_count": 143,
   "id": "b0ad878d",
   "metadata": {},
   "outputs": [
    {
     "data": {
      "text/plain": [
       "array(['No', 'Yes', 'NM'], dtype=object)"
      ]
     },
     "execution_count": 143,
     "metadata": {},
     "output_type": "execute_result"
    }
   ],
   "source": [
    "df['Payment_of_Min_Amount'].unique()"
   ]
  },
  {
   "cell_type": "code",
   "execution_count": 223,
   "id": "019b7fca",
   "metadata": {},
   "outputs": [],
   "source": [
    "# Encode \"Age\"\n",
    "from sklearn.preprocessing import LabelEncoder\n",
    "\n",
    "label_encoders = {}\n",
    "for column in ['Age','Payment_Behaviour','Type_of_Loan','Occupation']:\n",
    "    le = LabelEncoder()\n",
    "    df[column] = le.fit_transform(df[column])\n",
    "    label_encoders[column] = le  # Store the encoder for inverse_transform later if needed\n",
    "    "
   ]
  },
  {
   "cell_type": "code",
   "execution_count": 217,
   "id": "0c4d7249",
   "metadata": {},
   "outputs": [],
   "source": [
    "from sklearn.preprocessing import OrdinalEncoder\n",
    "\n",
    "ordinal_order = {\n",
    "    'Credit_Score': ['Good', 'Standard', 'Bad'],\n",
    "    'Month': ['January', 'February', 'March', 'April', 'May', 'June', 'August', 'September', 'October', 'November', 'December'],\n",
    "    'Payment_of_Min_Amount' : ['Yes', 'No', 'NM' ]\n",
    "}\n",
    "\n",
    "# Apply ordinal encoding\n",
    "for column, order in ordinal_order.items():\n",
    "    oe = OrdinalEncoder(categories=[order])\n",
    "    df[column] = oe.fit_transform(df[[column]])\n"
   ]
  },
  {
   "cell_type": "code",
   "execution_count": 224,
   "id": "ba9ede8c",
   "metadata": {
    "scrolled": false
   },
   "outputs": [
    {
     "data": {
      "text/html": [
       "<div>\n",
       "<style scoped>\n",
       "    .dataframe tbody tr th:only-of-type {\n",
       "        vertical-align: middle;\n",
       "    }\n",
       "\n",
       "    .dataframe tbody tr th {\n",
       "        vertical-align: top;\n",
       "    }\n",
       "\n",
       "    .dataframe thead th {\n",
       "        text-align: right;\n",
       "    }\n",
       "</style>\n",
       "<table border=\"1\" class=\"dataframe\">\n",
       "  <thead>\n",
       "    <tr style=\"text-align: right;\">\n",
       "      <th></th>\n",
       "      <th>Month</th>\n",
       "      <th>Age</th>\n",
       "      <th>Occupation</th>\n",
       "      <th>Annual_Income</th>\n",
       "      <th>Monthly_Inhand_Salary</th>\n",
       "      <th>Num_Bank_Accounts</th>\n",
       "      <th>Num_Credit_Card</th>\n",
       "      <th>Interest_Rate</th>\n",
       "      <th>Num_of_Loan</th>\n",
       "      <th>Type_of_Loan</th>\n",
       "      <th>...</th>\n",
       "      <th>Num_Credit_Inquiries</th>\n",
       "      <th>Credit_Score</th>\n",
       "      <th>Outstanding_Debt</th>\n",
       "      <th>Credit_Utilization_Ratio</th>\n",
       "      <th>Payment_of_Min_Amount</th>\n",
       "      <th>Total_EMI_per_month</th>\n",
       "      <th>Amount_invested_monthly</th>\n",
       "      <th>Payment_Behaviour</th>\n",
       "      <th>Monthly_Balance</th>\n",
       "      <th>Credit_History_Age_Month</th>\n",
       "    </tr>\n",
       "  </thead>\n",
       "  <tbody>\n",
       "    <tr>\n",
       "      <th>0</th>\n",
       "      <td>7.0</td>\n",
       "      <td>9</td>\n",
       "      <td>12</td>\n",
       "      <td>19114.12</td>\n",
       "      <td>1824.843333</td>\n",
       "      <td>3.0</td>\n",
       "      <td>4.0</td>\n",
       "      <td>3.0</td>\n",
       "      <td>4.0</td>\n",
       "      <td>0</td>\n",
       "      <td>...</td>\n",
       "      <td>2022.0</td>\n",
       "      <td>0.0</td>\n",
       "      <td>809.98</td>\n",
       "      <td>35.030402</td>\n",
       "      <td>1.0</td>\n",
       "      <td>49.574949</td>\n",
       "      <td>236.642682</td>\n",
       "      <td>5</td>\n",
       "      <td>186.266702</td>\n",
       "      <td>273.0</td>\n",
       "    </tr>\n",
       "    <tr>\n",
       "      <th>1</th>\n",
       "      <td>8.0</td>\n",
       "      <td>10</td>\n",
       "      <td>12</td>\n",
       "      <td>19114.12</td>\n",
       "      <td>1824.843333</td>\n",
       "      <td>3.0</td>\n",
       "      <td>4.0</td>\n",
       "      <td>3.0</td>\n",
       "      <td>4.0</td>\n",
       "      <td>0</td>\n",
       "      <td>...</td>\n",
       "      <td>4.0</td>\n",
       "      <td>0.0</td>\n",
       "      <td>809.98</td>\n",
       "      <td>33.053114</td>\n",
       "      <td>1.0</td>\n",
       "      <td>49.574949</td>\n",
       "      <td>21.465380</td>\n",
       "      <td>1</td>\n",
       "      <td>361.444004</td>\n",
       "      <td>274.0</td>\n",
       "    </tr>\n",
       "    <tr>\n",
       "      <th>2</th>\n",
       "      <td>9.0</td>\n",
       "      <td>10</td>\n",
       "      <td>12</td>\n",
       "      <td>19114.12</td>\n",
       "      <td>1824.843333</td>\n",
       "      <td>3.0</td>\n",
       "      <td>4.0</td>\n",
       "      <td>3.0</td>\n",
       "      <td>4.0</td>\n",
       "      <td>0</td>\n",
       "      <td>...</td>\n",
       "      <td>4.0</td>\n",
       "      <td>0.0</td>\n",
       "      <td>809.98</td>\n",
       "      <td>33.811894</td>\n",
       "      <td>1.0</td>\n",
       "      <td>49.574949</td>\n",
       "      <td>148.233938</td>\n",
       "      <td>4</td>\n",
       "      <td>264.675446</td>\n",
       "      <td>225.0</td>\n",
       "    </tr>\n",
       "    <tr>\n",
       "      <th>3</th>\n",
       "      <td>10.0</td>\n",
       "      <td>10</td>\n",
       "      <td>12</td>\n",
       "      <td>19114.12</td>\n",
       "      <td>3086.305000</td>\n",
       "      <td>3.0</td>\n",
       "      <td>4.0</td>\n",
       "      <td>3.0</td>\n",
       "      <td>4.0</td>\n",
       "      <td>0</td>\n",
       "      <td>...</td>\n",
       "      <td>4.0</td>\n",
       "      <td>0.0</td>\n",
       "      <td>809.98</td>\n",
       "      <td>32.430559</td>\n",
       "      <td>1.0</td>\n",
       "      <td>49.574949</td>\n",
       "      <td>39.082511</td>\n",
       "      <td>1</td>\n",
       "      <td>343.826873</td>\n",
       "      <td>276.0</td>\n",
       "    </tr>\n",
       "    <tr>\n",
       "      <th>4</th>\n",
       "      <td>7.0</td>\n",
       "      <td>14</td>\n",
       "      <td>7</td>\n",
       "      <td>34847.84</td>\n",
       "      <td>3037.986667</td>\n",
       "      <td>2.0</td>\n",
       "      <td>4.0</td>\n",
       "      <td>6.0</td>\n",
       "      <td>1.0</td>\n",
       "      <td>1</td>\n",
       "      <td>...</td>\n",
       "      <td>5.0</td>\n",
       "      <td>0.0</td>\n",
       "      <td>605.03</td>\n",
       "      <td>25.926822</td>\n",
       "      <td>1.0</td>\n",
       "      <td>18.816215</td>\n",
       "      <td>39.684018</td>\n",
       "      <td>0</td>\n",
       "      <td>485.298434</td>\n",
       "      <td>327.0</td>\n",
       "    </tr>\n",
       "  </tbody>\n",
       "</table>\n",
       "<p>5 rows × 23 columns</p>\n",
       "</div>"
      ],
      "text/plain": [
       "   Month  Age  Occupation  Annual_Income  Monthly_Inhand_Salary  \\\n",
       "0    7.0    9          12       19114.12            1824.843333   \n",
       "1    8.0   10          12       19114.12            1824.843333   \n",
       "2    9.0   10          12       19114.12            1824.843333   \n",
       "3   10.0   10          12       19114.12            3086.305000   \n",
       "4    7.0   14           7       34847.84            3037.986667   \n",
       "\n",
       "   Num_Bank_Accounts  Num_Credit_Card  Interest_Rate  Num_of_Loan  \\\n",
       "0                3.0              4.0            3.0          4.0   \n",
       "1                3.0              4.0            3.0          4.0   \n",
       "2                3.0              4.0            3.0          4.0   \n",
       "3                3.0              4.0            3.0          4.0   \n",
       "4                2.0              4.0            6.0          1.0   \n",
       "\n",
       "   Type_of_Loan  ...  Num_Credit_Inquiries  Credit_Score  Outstanding_Debt  \\\n",
       "0             0  ...                2022.0           0.0            809.98   \n",
       "1             0  ...                   4.0           0.0            809.98   \n",
       "2             0  ...                   4.0           0.0            809.98   \n",
       "3             0  ...                   4.0           0.0            809.98   \n",
       "4             1  ...                   5.0           0.0            605.03   \n",
       "\n",
       "   Credit_Utilization_Ratio  Payment_of_Min_Amount  Total_EMI_per_month  \\\n",
       "0                 35.030402                    1.0            49.574949   \n",
       "1                 33.053114                    1.0            49.574949   \n",
       "2                 33.811894                    1.0            49.574949   \n",
       "3                 32.430559                    1.0            49.574949   \n",
       "4                 25.926822                    1.0            18.816215   \n",
       "\n",
       "   Amount_invested_monthly  Payment_Behaviour  Monthly_Balance  \\\n",
       "0               236.642682                  5       186.266702   \n",
       "1                21.465380                  1       361.444004   \n",
       "2               148.233938                  4       264.675446   \n",
       "3                39.082511                  1       343.826873   \n",
       "4                39.684018                  0       485.298434   \n",
       "\n",
       "   Credit_History_Age_Month  \n",
       "0                     273.0  \n",
       "1                     274.0  \n",
       "2                     225.0  \n",
       "3                     276.0  \n",
       "4                     327.0  \n",
       "\n",
       "[5 rows x 23 columns]"
      ]
     },
     "execution_count": 224,
     "metadata": {},
     "output_type": "execute_result"
    }
   ],
   "source": [
    "df.head()"
   ]
  },
  {
   "cell_type": "code",
   "execution_count": 225,
   "id": "004bec48",
   "metadata": {},
   "outputs": [],
   "source": [
    "#df['Credit_Score'] = df['Credit_Score'].round().astype('Int64') # capital I"
   ]
  },
  {
   "cell_type": "markdown",
   "id": "da0a892f",
   "metadata": {},
   "source": [
    "### Develop Model"
   ]
  },
  {
   "cell_type": "code",
   "execution_count": 226,
   "id": "42bc63cd",
   "metadata": {},
   "outputs": [],
   "source": [
    "X = df.drop('Credit_Score', axis=1)\n",
    "y = df['Credit_Score']"
   ]
  },
  {
   "cell_type": "code",
   "execution_count": 227,
   "id": "30c09aa7",
   "metadata": {},
   "outputs": [],
   "source": [
    "# Splitting the dataset\n",
    "X_train, X_test, y_train, y_test = train_test_split(X, y, test_size=0.2, random_state=42)\n"
   ]
  },
  {
   "cell_type": "code",
   "execution_count": 228,
   "id": "6e413e8d",
   "metadata": {},
   "outputs": [],
   "source": [
    "# Scaling\n",
    "scaler = StandardScaler()\n",
    "X_train_scaled = scaler.fit_transform(X_train)\n",
    "X_test_scaled = scaler.transform(X_test)"
   ]
  },
  {
   "cell_type": "markdown",
   "id": "f611da9f",
   "metadata": {},
   "source": [
    "### Training models"
   ]
  },
  {
   "cell_type": "code",
   "execution_count": 229,
   "id": "61e7e551",
   "metadata": {},
   "outputs": [],
   "source": [
    "models = {\n",
    "    'Logistic Regression': LogisticRegression(),\n",
    "    'Random Forest': RandomForestClassifier(),\n",
    "    'SVM': SVC(),\n",
    "    'XGBoost': XGBClassifier()\n",
    "}"
   ]
  },
  {
   "cell_type": "markdown",
   "id": "80e2c947",
   "metadata": {},
   "source": [
    "### Evaluating models"
   ]
  },
  {
   "cell_type": "code",
   "execution_count": 230,
   "id": "0c4b4563",
   "metadata": {},
   "outputs": [
    {
     "name": "stdout",
     "output_type": "stream",
     "text": [
      "---Logistic Regression---\n",
      "Accuracy: 0.8034963487497234\n",
      "Precision: 0.7918877596750719\n",
      "Recall: 0.7933729006672193\n",
      "F1 Score: 0.7925973113375632\n",
      "Confusion Matrix:\n",
      " [[1668  505    0]\n",
      " [ 550 4223  354]\n",
      " [   0  367 1371]]\n",
      "---Random Forest---\n",
      "Accuracy: 0.8714317326842221\n",
      "Precision: 0.8487985899322772\n",
      "Recall: 0.8981637388361952\n",
      "F1 Score: 0.8686591330786654\n",
      "Confusion Matrix:\n",
      " [[2019  154    0]\n",
      " [ 514 4219  394]\n",
      " [   0  100 1638]]\n",
      "---SVM---\n",
      "Accuracy: 0.8344766541270192\n",
      "Precision: 0.8130422458066544\n",
      "Recall: 0.8653175960156091\n",
      "F1 Score: 0.8329334764725175\n",
      "Confusion Matrix:\n",
      " [[1949  224    0]\n",
      " [ 698 3994  435]\n",
      " [   0  139 1599]]\n",
      "---XGBoost---\n",
      "Accuracy: 0.8618057092277053\n",
      "Precision: 0.8396723572707622\n",
      "Recall: 0.8865633653303492\n",
      "F1 Score: 0.8587695759746881\n",
      "Confusion Matrix:\n",
      " [[1979  194    0]\n",
      " [ 533 4191  403]\n",
      " [   0  119 1619]]\n"
     ]
    }
   ],
   "source": [
    "for name, model in models.items():\n",
    "    model.fit(X_train_scaled, y_train)\n",
    "    y_pred = model.predict(X_test_scaled)\n",
    "    print(f\"---{name}---\")\n",
    "    print(f\"Accuracy: {accuracy_score(y_test, y_pred)}\")\n",
    "    print(f\"Precision: {precision_score(y_test, y_pred, average='macro')}\")\n",
    "    print(f\"Recall: {recall_score(y_test, y_pred, average='macro')}\")\n",
    "    print(f\"F1 Score: {f1_score(y_test, y_pred, average='macro')}\")\n",
    "    print(f\"Confusion Matrix:\\n {confusion_matrix(y_test, y_pred)}\")"
   ]
  },
  {
   "cell_type": "markdown",
   "id": "562241bb",
   "metadata": {},
   "source": [
    "### Hyperparameter Tuning"
   ]
  },
  {
   "cell_type": "code",
   "execution_count": 231,
   "id": "5b985743",
   "metadata": {},
   "outputs": [
    {
     "name": "stdout",
     "output_type": "stream",
     "text": [
      "Best Parameters for Random Forest: {'max_depth': 30, 'min_samples_split': 5, 'n_estimators': 300}\n",
      "F1 Score (Best RF): 0.8698781543993489\n"
     ]
    }
   ],
   "source": [
    "from sklearn.model_selection import GridSearchCV\n",
    "\n",
    "# Example with Random Forest\n",
    "param_grid_rf = {\n",
    "    'n_estimators': [100, 200, 300],\n",
    "    'max_depth': [10, 20, 30],\n",
    "    'min_samples_split': [2, 5, 10]\n",
    "}\n",
    "\n",
    "grid_search_rf = GridSearchCV(RandomForestClassifier(), param_grid_rf, cv=3, scoring='f1_macro')\n",
    "grid_search_rf.fit(X_train_scaled, y_train)\n",
    "\n",
    "print(f\"Best Parameters for Random Forest: {grid_search_rf.best_params_}\")\n",
    "best_rf_model = grid_search_rf.best_estimator_\n",
    "\n",
    "# Evaluation of the best model\n",
    "y_pred_best_rf = best_rf_model.predict(X_test_scaled)\n",
    "print(f\"F1 Score (Best RF): {f1_score(y_test, y_pred_best_rf, average='macro')}\")"
   ]
  },
  {
   "cell_type": "markdown",
   "id": "393fb0f7",
   "metadata": {},
   "source": [
    "### Model Evaluation"
   ]
  },
  {
   "cell_type": "code",
   "execution_count": 232,
   "id": "af323725",
   "metadata": {},
   "outputs": [
    {
     "name": "stdout",
     "output_type": "stream",
     "text": [
      "Random Forest - Best Model Metrics\n",
      "Accuracy: 0.8723168842664306\n",
      "Precision: 0.8495205687683294\n",
      "Recall: 0.9004855240292132\n",
      "F1 Score: 0.8698781543993489\n",
      "Confusion Matrix:\n",
      " [[2015  158    0]\n",
      " [ 516 4214  397]\n",
      " [   0   83 1655]]\n"
     ]
    }
   ],
   "source": [
    "# Example: Evaluate Random Forest model\n",
    "\n",
    "print(f\"Random Forest - Best Model Metrics\")\n",
    "print(f\"Accuracy: {accuracy_score(y_test, y_pred_best_rf)}\")\n",
    "print(f\"Precision: {precision_score(y_test, y_pred_best_rf, average='macro')}\")\n",
    "print(f\"Recall: {recall_score(y_test, y_pred_best_rf, average='macro')}\")\n",
    "print(f\"F1 Score: {f1_score(y_test, y_pred_best_rf, average='macro')}\")\n",
    "print(f\"Confusion Matrix:\\n {confusion_matrix(y_test, y_pred_best_rf)}\")\n"
   ]
  },
  {
   "cell_type": "markdown",
   "id": "9c8ad003",
   "metadata": {},
   "source": [
    "### Interpretability"
   ]
  },
  {
   "cell_type": "code",
   "execution_count": 234,
   "id": "84fcf1d7",
   "metadata": {},
   "outputs": [
    {
     "data": {
      "text/html": [
       "<div>\n",
       "<style scoped>\n",
       "    .dataframe tbody tr th:only-of-type {\n",
       "        vertical-align: middle;\n",
       "    }\n",
       "\n",
       "    .dataframe tbody tr th {\n",
       "        vertical-align: top;\n",
       "    }\n",
       "\n",
       "    .dataframe thead th {\n",
       "        text-align: right;\n",
       "    }\n",
       "</style>\n",
       "<table border=\"1\" class=\"dataframe\">\n",
       "  <thead>\n",
       "    <tr style=\"text-align: right;\">\n",
       "      <th></th>\n",
       "      <th>Feature</th>\n",
       "      <th>Importance</th>\n",
       "    </tr>\n",
       "  </thead>\n",
       "  <tbody>\n",
       "    <tr>\n",
       "      <th>7</th>\n",
       "      <td>Interest_Rate</td>\n",
       "      <td>0.126965</td>\n",
       "    </tr>\n",
       "    <tr>\n",
       "      <th>11</th>\n",
       "      <td>Num_of_Delayed_Payment</td>\n",
       "      <td>0.111299</td>\n",
       "    </tr>\n",
       "    <tr>\n",
       "      <th>14</th>\n",
       "      <td>Outstanding_Debt</td>\n",
       "      <td>0.101507</td>\n",
       "    </tr>\n",
       "    <tr>\n",
       "      <th>16</th>\n",
       "      <td>Payment_of_Min_Amount</td>\n",
       "      <td>0.098214</td>\n",
       "    </tr>\n",
       "    <tr>\n",
       "      <th>5</th>\n",
       "      <td>Num_Bank_Accounts</td>\n",
       "      <td>0.078173</td>\n",
       "    </tr>\n",
       "    <tr>\n",
       "      <th>10</th>\n",
       "      <td>Delay_from_due_date</td>\n",
       "      <td>0.076714</td>\n",
       "    </tr>\n",
       "    <tr>\n",
       "      <th>12</th>\n",
       "      <td>Changed_Credit_Limit</td>\n",
       "      <td>0.058852</td>\n",
       "    </tr>\n",
       "    <tr>\n",
       "      <th>8</th>\n",
       "      <td>Num_of_Loan</td>\n",
       "      <td>0.053274</td>\n",
       "    </tr>\n",
       "    <tr>\n",
       "      <th>21</th>\n",
       "      <td>Credit_History_Age_Month</td>\n",
       "      <td>0.044764</td>\n",
       "    </tr>\n",
       "    <tr>\n",
       "      <th>13</th>\n",
       "      <td>Num_Credit_Inquiries</td>\n",
       "      <td>0.030287</td>\n",
       "    </tr>\n",
       "    <tr>\n",
       "      <th>15</th>\n",
       "      <td>Credit_Utilization_Ratio</td>\n",
       "      <td>0.027261</td>\n",
       "    </tr>\n",
       "    <tr>\n",
       "      <th>6</th>\n",
       "      <td>Num_Credit_Card</td>\n",
       "      <td>0.026816</td>\n",
       "    </tr>\n",
       "    <tr>\n",
       "      <th>3</th>\n",
       "      <td>Annual_Income</td>\n",
       "      <td>0.026726</td>\n",
       "    </tr>\n",
       "    <tr>\n",
       "      <th>18</th>\n",
       "      <td>Amount_invested_monthly</td>\n",
       "      <td>0.025446</td>\n",
       "    </tr>\n",
       "    <tr>\n",
       "      <th>4</th>\n",
       "      <td>Monthly_Inhand_Salary</td>\n",
       "      <td>0.024516</td>\n",
       "    </tr>\n",
       "    <tr>\n",
       "      <th>17</th>\n",
       "      <td>Total_EMI_per_month</td>\n",
       "      <td>0.022635</td>\n",
       "    </tr>\n",
       "    <tr>\n",
       "      <th>1</th>\n",
       "      <td>Age</td>\n",
       "      <td>0.020767</td>\n",
       "    </tr>\n",
       "    <tr>\n",
       "      <th>2</th>\n",
       "      <td>Occupation</td>\n",
       "      <td>0.015600</td>\n",
       "    </tr>\n",
       "    <tr>\n",
       "      <th>9</th>\n",
       "      <td>Type_of_Loan</td>\n",
       "      <td>0.012249</td>\n",
       "    </tr>\n",
       "    <tr>\n",
       "      <th>19</th>\n",
       "      <td>Payment_Behaviour</td>\n",
       "      <td>0.009503</td>\n",
       "    </tr>\n",
       "    <tr>\n",
       "      <th>0</th>\n",
       "      <td>Month</td>\n",
       "      <td>0.008387</td>\n",
       "    </tr>\n",
       "    <tr>\n",
       "      <th>20</th>\n",
       "      <td>Monthly_Balance</td>\n",
       "      <td>0.000043</td>\n",
       "    </tr>\n",
       "  </tbody>\n",
       "</table>\n",
       "</div>"
      ],
      "text/plain": [
       "                     Feature  Importance\n",
       "7              Interest_Rate    0.126965\n",
       "11    Num_of_Delayed_Payment    0.111299\n",
       "14          Outstanding_Debt    0.101507\n",
       "16     Payment_of_Min_Amount    0.098214\n",
       "5          Num_Bank_Accounts    0.078173\n",
       "10       Delay_from_due_date    0.076714\n",
       "12      Changed_Credit_Limit    0.058852\n",
       "8                Num_of_Loan    0.053274\n",
       "21  Credit_History_Age_Month    0.044764\n",
       "13      Num_Credit_Inquiries    0.030287\n",
       "15  Credit_Utilization_Ratio    0.027261\n",
       "6            Num_Credit_Card    0.026816\n",
       "3              Annual_Income    0.026726\n",
       "18   Amount_invested_monthly    0.025446\n",
       "4      Monthly_Inhand_Salary    0.024516\n",
       "17       Total_EMI_per_month    0.022635\n",
       "1                        Age    0.020767\n",
       "2                 Occupation    0.015600\n",
       "9               Type_of_Loan    0.012249\n",
       "19         Payment_Behaviour    0.009503\n",
       "0                      Month    0.008387\n",
       "20           Monthly_Balance    0.000043"
      ]
     },
     "execution_count": 234,
     "metadata": {},
     "output_type": "execute_result"
    }
   ],
   "source": [
    "# Get feature importances from the best model\n",
    "importances = best_rf_model.feature_importances_\n",
    "features = X.columns\n",
    "\n",
    "# Create a DataFrame for feature importances\n",
    "feature_importances = pd.DataFrame({'Feature': features, 'Importance': importances})\n",
    "feature_importances = feature_importances.sort_values(by='Importance', ascending=False)\n",
    "\n",
    "# Display feature importances\n",
    "feature_importances\n"
   ]
  },
  {
   "cell_type": "markdown",
   "id": "75604925",
   "metadata": {},
   "source": [
    "### Model Saving"
   ]
  },
  {
   "cell_type": "code",
   "execution_count": 235,
   "id": "48e2d159",
   "metadata": {},
   "outputs": [
    {
     "data": {
      "text/plain": [
       "['best_rf_model.pkl']"
      ]
     },
     "execution_count": 235,
     "metadata": {},
     "output_type": "execute_result"
    }
   ],
   "source": [
    "#import joblib\n",
    "\n",
    "# Save the best model\n",
    "#joblib.dump(best_rf_model, 'best_rf_model.pkl')\n"
   ]
  },
  {
   "cell_type": "code",
   "execution_count": null,
   "id": "0a9a38ff",
   "metadata": {},
   "outputs": [],
   "source": []
  }
 ],
 "metadata": {
  "kernelspec": {
   "display_name": "Python 3 (ipykernel)",
   "language": "python",
   "name": "python3"
  },
  "language_info": {
   "codemirror_mode": {
    "name": "ipython",
    "version": 3
   },
   "file_extension": ".py",
   "mimetype": "text/x-python",
   "name": "python",
   "nbconvert_exporter": "python",
   "pygments_lexer": "ipython3",
   "version": "3.11.5"
  }
 },
 "nbformat": 4,
 "nbformat_minor": 5
}
