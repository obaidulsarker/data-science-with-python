{
 "cells": [
  {
   "cell_type": "code",
   "execution_count": 139,
   "id": "c51e0d99",
   "metadata": {},
   "outputs": [],
   "source": [
    "import pandas as pd\n",
    "import numpy as np\n",
    "import tensorflow as tf\n",
    "from tensorflow.keras.preprocessing.image import load_img, img_to_array\n",
    "#from tensorflow.keras.models import load_model\n",
    "import os"
   ]
  },
  {
   "cell_type": "code",
   "execution_count": 140,
   "id": "a05e38f6",
   "metadata": {},
   "outputs": [],
   "source": [
    "# Load test dataset\n",
    "file_path = 'data/sky_camera.xlsx'\n",
    "test_df = pd.read_excel(file_path)"
   ]
  },
  {
   "cell_type": "code",
   "execution_count": 141,
   "id": "1f5f4049",
   "metadata": {},
   "outputs": [
    {
     "data": {
      "text/plain": [
       "(880, 4)"
      ]
     },
     "execution_count": 141,
     "metadata": {},
     "output_type": "execute_result"
    }
   ],
   "source": [
    "test_df.shape"
   ]
  },
  {
   "cell_type": "code",
   "execution_count": 142,
   "id": "8dcefaf1",
   "metadata": {},
   "outputs": [],
   "source": [
    "image_path='data/images'\n",
    "\n",
    "# Create the new 'image_path' column\n",
    "test_df['image_path'] = test_df['File Name'].apply(lambda x: f'data/images/{x}')"
   ]
  },
  {
   "cell_type": "code",
   "execution_count": 143,
   "id": "7a8f864b",
   "metadata": {},
   "outputs": [
    {
     "data": {
      "text/plain": [
       "Index(['File Name', 'File Name.1', 'Timestamp', 'real GHI', 'image_path'], dtype='object')"
      ]
     },
     "execution_count": 143,
     "metadata": {},
     "output_type": "execute_result"
    }
   ],
   "source": [
    "test_df.columns"
   ]
  },
  {
   "cell_type": "code",
   "execution_count": 144,
   "id": "ae7baf2c",
   "metadata": {},
   "outputs": [
    {
     "data": {
      "text/html": [
       "<div>\n",
       "<style scoped>\n",
       "    .dataframe tbody tr th:only-of-type {\n",
       "        vertical-align: middle;\n",
       "    }\n",
       "\n",
       "    .dataframe tbody tr th {\n",
       "        vertical-align: top;\n",
       "    }\n",
       "\n",
       "    .dataframe thead th {\n",
       "        text-align: right;\n",
       "    }\n",
       "</style>\n",
       "<table border=\"1\" class=\"dataframe\">\n",
       "  <thead>\n",
       "    <tr style=\"text-align: right;\">\n",
       "      <th></th>\n",
       "      <th>File Name</th>\n",
       "      <th>File Name.1</th>\n",
       "      <th>Timestamp</th>\n",
       "      <th>real GHI</th>\n",
       "      <th>image_path</th>\n",
       "    </tr>\n",
       "  </thead>\n",
       "  <tbody>\n",
       "    <tr>\n",
       "      <th>0</th>\n",
       "      <td>20221031013000_0.jpg</td>\n",
       "      <td>130</td>\n",
       "      <td>1:30</td>\n",
       "      <td>0.0</td>\n",
       "      <td>data/images/20221031013000_0.jpg</td>\n",
       "    </tr>\n",
       "    <tr>\n",
       "      <th>1</th>\n",
       "      <td>20221031013100_0.jpg</td>\n",
       "      <td>131</td>\n",
       "      <td>1:31</td>\n",
       "      <td>0.0</td>\n",
       "      <td>data/images/20221031013100_0.jpg</td>\n",
       "    </tr>\n",
       "    <tr>\n",
       "      <th>2</th>\n",
       "      <td>20221031013200_0.jpg</td>\n",
       "      <td>132</td>\n",
       "      <td>1:32</td>\n",
       "      <td>0.0</td>\n",
       "      <td>data/images/20221031013200_0.jpg</td>\n",
       "    </tr>\n",
       "    <tr>\n",
       "      <th>3</th>\n",
       "      <td>20221031013300_0.jpg</td>\n",
       "      <td>133</td>\n",
       "      <td>1:33</td>\n",
       "      <td>0.0</td>\n",
       "      <td>data/images/20221031013300_0.jpg</td>\n",
       "    </tr>\n",
       "    <tr>\n",
       "      <th>4</th>\n",
       "      <td>20221031013400_0.jpg</td>\n",
       "      <td>134</td>\n",
       "      <td>1:34</td>\n",
       "      <td>0.0</td>\n",
       "      <td>data/images/20221031013400_0.jpg</td>\n",
       "    </tr>\n",
       "  </tbody>\n",
       "</table>\n",
       "</div>"
      ],
      "text/plain": [
       "              File Name  File Name.1 Timestamp  real GHI  \\\n",
       "0  20221031013000_0.jpg          130      1:30       0.0   \n",
       "1  20221031013100_0.jpg          131      1:31       0.0   \n",
       "2  20221031013200_0.jpg          132      1:32       0.0   \n",
       "3  20221031013300_0.jpg          133      1:33       0.0   \n",
       "4  20221031013400_0.jpg          134      1:34       0.0   \n",
       "\n",
       "                         image_path  \n",
       "0  data/images/20221031013000_0.jpg  \n",
       "1  data/images/20221031013100_0.jpg  \n",
       "2  data/images/20221031013200_0.jpg  \n",
       "3  data/images/20221031013300_0.jpg  \n",
       "4  data/images/20221031013400_0.jpg  "
      ]
     },
     "execution_count": 144,
     "metadata": {},
     "output_type": "execute_result"
    }
   ],
   "source": [
    "test_df.head()"
   ]
  },
  {
   "cell_type": "code",
   "execution_count": 145,
   "id": "d058cad3",
   "metadata": {},
   "outputs": [],
   "source": [
    "test_df.rename(columns={\n",
    "    'File Name' : 'file_name',\n",
    "    'File Name.1' : 'file_name1',\n",
    "    'Timestamp': 'timestamp',\n",
    "    'real GHI' : 'ghi'\n",
    "}, inplace=True)"
   ]
  },
  {
   "cell_type": "code",
   "execution_count": 146,
   "id": "3cdaab41",
   "metadata": {},
   "outputs": [
    {
     "data": {
      "text/html": [
       "<div>\n",
       "<style scoped>\n",
       "    .dataframe tbody tr th:only-of-type {\n",
       "        vertical-align: middle;\n",
       "    }\n",
       "\n",
       "    .dataframe tbody tr th {\n",
       "        vertical-align: top;\n",
       "    }\n",
       "\n",
       "    .dataframe thead th {\n",
       "        text-align: right;\n",
       "    }\n",
       "</style>\n",
       "<table border=\"1\" class=\"dataframe\">\n",
       "  <thead>\n",
       "    <tr style=\"text-align: right;\">\n",
       "      <th></th>\n",
       "      <th>file_name</th>\n",
       "      <th>file_name1</th>\n",
       "      <th>timestamp</th>\n",
       "      <th>ghi</th>\n",
       "      <th>image_path</th>\n",
       "    </tr>\n",
       "  </thead>\n",
       "  <tbody>\n",
       "    <tr>\n",
       "      <th>0</th>\n",
       "      <td>20221031013000_0.jpg</td>\n",
       "      <td>130</td>\n",
       "      <td>1:30</td>\n",
       "      <td>0.0</td>\n",
       "      <td>data/images/20221031013000_0.jpg</td>\n",
       "    </tr>\n",
       "    <tr>\n",
       "      <th>1</th>\n",
       "      <td>20221031013100_0.jpg</td>\n",
       "      <td>131</td>\n",
       "      <td>1:31</td>\n",
       "      <td>0.0</td>\n",
       "      <td>data/images/20221031013100_0.jpg</td>\n",
       "    </tr>\n",
       "    <tr>\n",
       "      <th>2</th>\n",
       "      <td>20221031013200_0.jpg</td>\n",
       "      <td>132</td>\n",
       "      <td>1:32</td>\n",
       "      <td>0.0</td>\n",
       "      <td>data/images/20221031013200_0.jpg</td>\n",
       "    </tr>\n",
       "    <tr>\n",
       "      <th>3</th>\n",
       "      <td>20221031013300_0.jpg</td>\n",
       "      <td>133</td>\n",
       "      <td>1:33</td>\n",
       "      <td>0.0</td>\n",
       "      <td>data/images/20221031013300_0.jpg</td>\n",
       "    </tr>\n",
       "    <tr>\n",
       "      <th>4</th>\n",
       "      <td>20221031013400_0.jpg</td>\n",
       "      <td>134</td>\n",
       "      <td>1:34</td>\n",
       "      <td>0.0</td>\n",
       "      <td>data/images/20221031013400_0.jpg</td>\n",
       "    </tr>\n",
       "  </tbody>\n",
       "</table>\n",
       "</div>"
      ],
      "text/plain": [
       "              file_name  file_name1 timestamp  ghi  \\\n",
       "0  20221031013000_0.jpg         130      1:30  0.0   \n",
       "1  20221031013100_0.jpg         131      1:31  0.0   \n",
       "2  20221031013200_0.jpg         132      1:32  0.0   \n",
       "3  20221031013300_0.jpg         133      1:33  0.0   \n",
       "4  20221031013400_0.jpg         134      1:34  0.0   \n",
       "\n",
       "                         image_path  \n",
       "0  data/images/20221031013000_0.jpg  \n",
       "1  data/images/20221031013100_0.jpg  \n",
       "2  data/images/20221031013200_0.jpg  \n",
       "3  data/images/20221031013300_0.jpg  \n",
       "4  data/images/20221031013400_0.jpg  "
      ]
     },
     "execution_count": 146,
     "metadata": {},
     "output_type": "execute_result"
    }
   ],
   "source": [
    "test_df.head()"
   ]
  },
  {
   "cell_type": "code",
   "execution_count": 147,
   "id": "5d118255",
   "metadata": {},
   "outputs": [],
   "source": [
    "import os\n",
    "\n",
    "# Function to check if the file exists\n",
    "def check_file_existence(file_path):\n",
    "    return 'Yes' if os.path.exists(file_path) else 'No'"
   ]
  },
  {
   "cell_type": "code",
   "execution_count": 148,
   "id": "b05eb3d1",
   "metadata": {},
   "outputs": [],
   "source": [
    "# Create the new 'file_existance' column\n",
    "test_df['file_existance'] = test_df['image_path'].apply(check_file_existence)"
   ]
  },
  {
   "cell_type": "code",
   "execution_count": 149,
   "id": "33ead793",
   "metadata": {},
   "outputs": [],
   "source": [
    "data_filtered = test_df[test_df['file_existance'] == 'Yes']"
   ]
  },
  {
   "cell_type": "code",
   "execution_count": 150,
   "id": "65fdbdb7",
   "metadata": {},
   "outputs": [
    {
     "data": {
      "text/plain": [
       "(880, 6)"
      ]
     },
     "execution_count": 150,
     "metadata": {},
     "output_type": "execute_result"
    }
   ],
   "source": [
    "data_filtered.shape"
   ]
  },
  {
   "cell_type": "code",
   "execution_count": 151,
   "id": "a5ea4630",
   "metadata": {},
   "outputs": [
    {
     "data": {
      "text/plain": [
       "count    880.000000\n",
       "mean     337.465337\n",
       "std      296.806543\n",
       "min        0.000000\n",
       "25%        0.001200\n",
       "50%      314.072100\n",
       "75%      625.448625\n",
       "max      801.920600\n",
       "Name: ghi, dtype: float64"
      ]
     },
     "execution_count": 151,
     "metadata": {},
     "output_type": "execute_result"
    }
   ],
   "source": [
    "data_filtered['ghi'].describe()"
   ]
  },
  {
   "cell_type": "code",
   "execution_count": 152,
   "id": "dd58b622",
   "metadata": {},
   "outputs": [],
   "source": [
    "# Define image size used in model\n",
    "image_size = (250, 250)  # Adjust based on the size used during model training"
   ]
  },
  {
   "cell_type": "code",
   "execution_count": 153,
   "id": "fa1de019",
   "metadata": {},
   "outputs": [],
   "source": [
    "# Function to load and preprocess images\n",
    "def preprocess_image(img_path):\n",
    "    image = load_img(img_path, target_size=image_size)\n",
    "    image = img_to_array(image)\n",
    "    image = image / 255.0  # Normalize to [0, 1]\n",
    "    return image"
   ]
  },
  {
   "cell_type": "code",
   "execution_count": 154,
   "id": "e7e46dd0",
   "metadata": {},
   "outputs": [],
   "source": [
    "# -- features\n",
    "X_test = np.array([preprocess_image(path) for path in data_filtered['image_path'].values])\n",
    "\n",
    "# -- Target \n",
    "y_test = data_filtered['ghi'].values"
   ]
  },
  {
   "cell_type": "code",
   "execution_count": 155,
   "id": "e76b6569",
   "metadata": {},
   "outputs": [
    {
     "name": "stdout",
     "output_type": "stream",
     "text": [
      "GHI Max = 801.9206\n"
     ]
    }
   ],
   "source": [
    "max_ghi = y_test.max()\n",
    "\n",
    "print(f\"GHI Max = {max_ghi}\")\n",
    "\n",
    "# Normalize GHI values\n",
    "y_test = y_test / max_ghi"
   ]
  },
  {
   "cell_type": "code",
   "execution_count": 156,
   "id": "0a5a2df1",
   "metadata": {},
   "outputs": [],
   "source": [
    "import joblib\n",
    "\n",
    "# Load the saved best model\n",
    "model = joblib.load('models/tuned_ghi_prediction_model.pkl')"
   ]
  },
  {
   "cell_type": "code",
   "execution_count": 157,
   "id": "a594ef33",
   "metadata": {},
   "outputs": [
    {
     "name": "stdout",
     "output_type": "stream",
     "text": [
      "\u001b[1m28/28\u001b[0m \u001b[32m━━━━━━━━━━━━━━━━━━━━\u001b[0m\u001b[37m\u001b[0m \u001b[1m16s\u001b[0m 551ms/step\n"
     ]
    }
   ],
   "source": [
    "# Predict GHI values\n",
    "predicted_ghi = model.predict(X_test)\n"
   ]
  },
  {
   "cell_type": "code",
   "execution_count": 158,
   "id": "f46df195",
   "metadata": {},
   "outputs": [],
   "source": [
    "# Calculate the difference between predicted and actual GHI values\n",
    "difference = y_test*max_ghi - predicted_ghi.flatten()*max_ghi\n"
   ]
  },
  {
   "cell_type": "code",
   "execution_count": 159,
   "id": "71ab7f65",
   "metadata": {},
   "outputs": [
    {
     "data": {
      "text/plain": [
       "Index(['file_name', 'file_name1', 'timestamp', 'ghi', 'image_path',\n",
       "       'file_existance'],\n",
       "      dtype='object')"
      ]
     },
     "execution_count": 159,
     "metadata": {},
     "output_type": "execute_result"
    }
   ],
   "source": [
    "data_filtered.columns"
   ]
  },
  {
   "cell_type": "code",
   "execution_count": 160,
   "id": "c571c5c8",
   "metadata": {},
   "outputs": [],
   "source": [
    "# Create a DataFrame for results\n",
    "results_df = pd.DataFrame({\n",
    "    'file_name': data_filtered['file_name'],\n",
    "    'timestamp': data_filtered['timestamp'],\n",
    "    'image_path': data_filtered['image_path'],\n",
    "    'ghi': y_test * max_ghi,\n",
    "    'predicted_ghi': (predicted_ghi.flatten())*max_ghi,\n",
    "    'difference': difference\n",
    "})\n"
   ]
  },
  {
   "cell_type": "code",
   "execution_count": 161,
   "id": "5d4bc7ff",
   "metadata": {},
   "outputs": [
    {
     "data": {
      "text/html": [
       "<div>\n",
       "<style scoped>\n",
       "    .dataframe tbody tr th:only-of-type {\n",
       "        vertical-align: middle;\n",
       "    }\n",
       "\n",
       "    .dataframe tbody tr th {\n",
       "        vertical-align: top;\n",
       "    }\n",
       "\n",
       "    .dataframe thead th {\n",
       "        text-align: right;\n",
       "    }\n",
       "</style>\n",
       "<table border=\"1\" class=\"dataframe\">\n",
       "  <thead>\n",
       "    <tr style=\"text-align: right;\">\n",
       "      <th></th>\n",
       "      <th>file_name</th>\n",
       "      <th>timestamp</th>\n",
       "      <th>image_path</th>\n",
       "      <th>ghi</th>\n",
       "      <th>predicted_ghi</th>\n",
       "      <th>difference</th>\n",
       "    </tr>\n",
       "  </thead>\n",
       "  <tbody>\n",
       "    <tr>\n",
       "      <th>0</th>\n",
       "      <td>20221031013000_0.jpg</td>\n",
       "      <td>1:30</td>\n",
       "      <td>data/images/20221031013000_0.jpg</td>\n",
       "      <td>0.0</td>\n",
       "      <td>8.125846</td>\n",
       "      <td>-8.125846</td>\n",
       "    </tr>\n",
       "    <tr>\n",
       "      <th>1</th>\n",
       "      <td>20221031013100_0.jpg</td>\n",
       "      <td>1:31</td>\n",
       "      <td>data/images/20221031013100_0.jpg</td>\n",
       "      <td>0.0</td>\n",
       "      <td>7.688019</td>\n",
       "      <td>-7.688019</td>\n",
       "    </tr>\n",
       "    <tr>\n",
       "      <th>2</th>\n",
       "      <td>20221031013200_0.jpg</td>\n",
       "      <td>1:32</td>\n",
       "      <td>data/images/20221031013200_0.jpg</td>\n",
       "      <td>0.0</td>\n",
       "      <td>2.937726</td>\n",
       "      <td>-2.937726</td>\n",
       "    </tr>\n",
       "    <tr>\n",
       "      <th>3</th>\n",
       "      <td>20221031013300_0.jpg</td>\n",
       "      <td>1:33</td>\n",
       "      <td>data/images/20221031013300_0.jpg</td>\n",
       "      <td>0.0</td>\n",
       "      <td>6.921663</td>\n",
       "      <td>-6.921663</td>\n",
       "    </tr>\n",
       "    <tr>\n",
       "      <th>4</th>\n",
       "      <td>20221031013400_0.jpg</td>\n",
       "      <td>1:34</td>\n",
       "      <td>data/images/20221031013400_0.jpg</td>\n",
       "      <td>0.0</td>\n",
       "      <td>10.505911</td>\n",
       "      <td>-10.505911</td>\n",
       "    </tr>\n",
       "  </tbody>\n",
       "</table>\n",
       "</div>"
      ],
      "text/plain": [
       "              file_name timestamp                        image_path  ghi  \\\n",
       "0  20221031013000_0.jpg      1:30  data/images/20221031013000_0.jpg  0.0   \n",
       "1  20221031013100_0.jpg      1:31  data/images/20221031013100_0.jpg  0.0   \n",
       "2  20221031013200_0.jpg      1:32  data/images/20221031013200_0.jpg  0.0   \n",
       "3  20221031013300_0.jpg      1:33  data/images/20221031013300_0.jpg  0.0   \n",
       "4  20221031013400_0.jpg      1:34  data/images/20221031013400_0.jpg  0.0   \n",
       "\n",
       "   predicted_ghi  difference  \n",
       "0       8.125846   -8.125846  \n",
       "1       7.688019   -7.688019  \n",
       "2       2.937726   -2.937726  \n",
       "3       6.921663   -6.921663  \n",
       "4      10.505911  -10.505911  "
      ]
     },
     "execution_count": 161,
     "metadata": {},
     "output_type": "execute_result"
    }
   ],
   "source": [
    "results_df.head()"
   ]
  },
  {
   "cell_type": "code",
   "execution_count": 162,
   "id": "73cf934d",
   "metadata": {},
   "outputs": [],
   "source": [
    "# Save the results to a CSV file\n",
    "results_df.to_csv('data/ghi_predictions.csv', index=False)"
   ]
  },
  {
   "cell_type": "code",
   "execution_count": null,
   "id": "12721f3f",
   "metadata": {},
   "outputs": [],
   "source": []
  }
 ],
 "metadata": {
  "kernelspec": {
   "display_name": "Python 3 (ipykernel)",
   "language": "python",
   "name": "python3"
  },
  "language_info": {
   "codemirror_mode": {
    "name": "ipython",
    "version": 3
   },
   "file_extension": ".py",
   "mimetype": "text/x-python",
   "name": "python",
   "nbconvert_exporter": "python",
   "pygments_lexer": "ipython3",
   "version": "3.11.5"
  }
 },
 "nbformat": 4,
 "nbformat_minor": 5
}
