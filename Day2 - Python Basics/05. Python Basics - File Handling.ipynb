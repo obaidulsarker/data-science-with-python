{
 "cells": [
  {
   "cell_type": "markdown",
   "id": "f23518ae",
   "metadata": {},
   "source": [
    "# Python File Open\n",
    "f = open(filename, mode)\n",
    "\n",
    "mode: \n",
    "    r : open an existing file for a read operation\n",
    "    w : open an existing file for a write operation\n",
    "    a : open an existing file for append operation. It won’t override existing data\n",
    "    r+ : To read and write data into the file.\n",
    "    w+ : To write and read data. It will override existing data\n",
    "    a+ : To append and read data from the file. It won’t override existing data"
   ]
  },
  {
   "cell_type": "markdown",
   "id": "e7d0aa15",
   "metadata": {},
   "source": [
    "## Reading File"
   ]
  },
  {
   "cell_type": "code",
   "execution_count": 1,
   "id": "9c22f38c",
   "metadata": {},
   "outputs": [
    {
     "name": "stdout",
     "output_type": "stream",
     "text": [
      "Hello world\n",
      "\n",
      "GeeksforGeeks\n",
      "\n",
      "123 456\n"
     ]
    }
   ],
   "source": [
    "# a file named \"geek\", will be opened with the reading mode.\n",
    "file = open('sample.txt', 'r')\n",
    "\n",
    "# This will print every line one by one in the file\n",
    "for each in file:\n",
    "\tprint (each)\n"
   ]
  },
  {
   "cell_type": "code",
   "execution_count": 3,
   "id": "b84b3c1b",
   "metadata": {},
   "outputs": [
    {
     "name": "stdout",
     "output_type": "stream",
     "text": [
      "Hello world\n",
      "GeeksforGeeks\n",
      "123 456\n"
     ]
    }
   ],
   "source": [
    "# Python code to illustrate with()\n",
    "with open(\"sample.txt\") as file: \n",
    "\tdata = file.read() \n",
    "\n",
    "print(data)\n"
   ]
  },
  {
   "cell_type": "code",
   "execution_count": 4,
   "id": "b203d19c",
   "metadata": {},
   "outputs": [
    {
     "name": "stdout",
     "output_type": "stream",
     "text": [
      "Hello\n"
     ]
    }
   ],
   "source": [
    "# Python code to illustrate read() mode character wise\n",
    "file = open(\"sample.txt\", \"r\")\n",
    "print (file.read(5))\n"
   ]
  },
  {
   "cell_type": "code",
   "execution_count": 5,
   "id": "5f56d2ee",
   "metadata": {},
   "outputs": [
    {
     "name": "stdout",
     "output_type": "stream",
     "text": [
      "['Hello', 'world']\n",
      "['GeeksforGeeks']\n",
      "['123', '456']\n"
     ]
    }
   ],
   "source": [
    "# Python code to illustrate split() function\n",
    "with open(\"sample.txt\", \"r\") as file:\n",
    "\tdata = file.readlines()\n",
    "\tfor line in data:\n",
    "\t\tword = line.split()\n",
    "\t\tprint (word)\n"
   ]
  },
  {
   "cell_type": "markdown",
   "id": "942b2da8",
   "metadata": {},
   "source": [
    "## Writing File"
   ]
  },
  {
   "cell_type": "code",
   "execution_count": 7,
   "id": "539c6e68",
   "metadata": {},
   "outputs": [],
   "source": [
    "# Python code to create a file\n",
    "file = open('sample.txt','w')\n",
    "file.write(\"This is the write command\")\n",
    "file.write(\"It allows us to write in a particular file\")\n",
    "file.close()\n"
   ]
  },
  {
   "cell_type": "code",
   "execution_count": 8,
   "id": "05630e18",
   "metadata": {},
   "outputs": [],
   "source": [
    "# Python code to illustrate with() alongwith write()\n",
    "with open(\"sample.txt\", \"w\") as f: \n",
    "\tf.write(\"Hello World!!!\")\n"
   ]
  },
  {
   "cell_type": "code",
   "execution_count": 9,
   "id": "5ec93b29",
   "metadata": {},
   "outputs": [
    {
     "name": "stdout",
     "output_type": "stream",
     "text": [
      "File example.txt created successfully.\n",
      "Hello, world!\n",
      "\n",
      "Text appended to file example.txt successfully.\n",
      "Hello, world!\n",
      "This is some additional text.\n",
      "\n",
      "File example.txt renamed to new_example.txt successfully.\n",
      "Hello, world!\n",
      "This is some additional text.\n",
      "\n",
      "File new_example.txt deleted successfully.\n"
     ]
    }
   ],
   "source": [
    "import os\n",
    "\n",
    "def create_file(filename):\n",
    "\ttry:\n",
    "\t\twith open(filename, 'w') as f:\n",
    "\t\t\tf.write('Hello, world!\\n')\n",
    "\t\tprint(\"File \" + filename + \" created successfully.\")\n",
    "\texcept IOError:\n",
    "\t\tprint(\"Error: could not create file \" + filename)\n",
    "\n",
    "def read_file(filename):\n",
    "\ttry:\n",
    "\t\twith open(filename, 'r') as f:\n",
    "\t\t\tcontents = f.read()\n",
    "\t\t\tprint(contents)\n",
    "\texcept IOError:\n",
    "\t\tprint(\"Error: could not read file \" + filename)\n",
    "\n",
    "def append_file(filename, text):\n",
    "\ttry:\n",
    "\t\twith open(filename, 'a') as f:\n",
    "\t\t\tf.write(text)\n",
    "\t\tprint(\"Text appended to file \" + filename + \" successfully.\")\n",
    "\texcept IOError:\n",
    "\t\tprint(\"Error: could not append to file \" + filename)\n",
    "\n",
    "def rename_file(filename, new_filename):\n",
    "\ttry:\n",
    "\t\tos.rename(filename, new_filename)\n",
    "\t\tprint(\"File \" + filename + \" renamed to \" + new_filename + \" successfully.\")\n",
    "\texcept IOError:\n",
    "\t\tprint(\"Error: could not rename file \" + filename)\n",
    "\n",
    "def delete_file(filename):\n",
    "\ttry:\n",
    "\t\tos.remove(filename)\n",
    "\t\tprint(\"File \" + filename + \" deleted successfully.\")\n",
    "\texcept IOError:\n",
    "\t\tprint(\"Error: could not delete file \" + filename)\n",
    "\n",
    "\n",
    "if __name__ == '__main__':\n",
    "\tfilename = \"example.txt\"\n",
    "\tnew_filename = \"new_example.txt\"\n",
    "\n",
    "\tcreate_file(filename)\n",
    "\tread_file(filename)\n",
    "\tappend_file(filename, \"This is some additional text.\\n\")\n",
    "\tread_file(filename)\n",
    "\trename_file(filename, new_filename)\n",
    "\tread_file(new_filename)\n",
    "\tdelete_file(new_filename)\n"
   ]
  },
  {
   "cell_type": "code",
   "execution_count": 10,
   "id": "48fd36c1",
   "metadata": {},
   "outputs": [
    {
     "name": "stdout",
     "output_type": "stream",
     "text": [
      "Hello, world!\n"
     ]
    }
   ],
   "source": [
    "# Open a file for writing and reading\n",
    "file = open('sample.txt', 'w+')\n",
    "\n",
    "# Write some data to the file\n",
    "file.write('Hello, world!')\n",
    "\n",
    "# Move the file pointer back to the beginning of the file\n",
    "file.seek(0)\n",
    "\n",
    "# Read the data from the file\n",
    "data = file.read()\n",
    "\n",
    "# Print the data to the console\n",
    "print(data)\n",
    "\n",
    "# Close the file when you're done\n",
    "file.close()\n"
   ]
  },
  {
   "cell_type": "code",
   "execution_count": 12,
   "id": "3916120f",
   "metadata": {},
   "outputs": [
    {
     "name": "stdout",
     "output_type": "stream",
     "text": [
      "Hello, world!\n"
     ]
    }
   ],
   "source": [
    "# Open a file for reading\n",
    "file = open('sample.txt', 'r')\n",
    "\n",
    "# Read the first line of the file\n",
    "line = file.readline()\n",
    "\n",
    "# Loop through the rest of the file and print each line\n",
    "while line:\n",
    "\tprint(line)\n",
    "\tline = file.readline()\n",
    "\n",
    "# Close the file when you're done\n",
    "file.close()\n"
   ]
  },
  {
   "cell_type": "code",
   "execution_count": 13,
   "id": "d9a9c4d4",
   "metadata": {},
   "outputs": [
    {
     "name": "stdout",
     "output_type": "stream",
     "text": [
      "Output of Read function is \n",
      "Hello \n",
      "This is Delhi \n",
      "This is Paris \n",
      "This is London \n",
      "\n",
      "\n",
      "Output of Readline function is \n",
      "Hello \n",
      "\n",
      "\n",
      "Output of Read(9) function is \n",
      "Hello \n",
      "Th\n",
      "\n",
      "Output of Readline(9) function is \n",
      "Hello \n",
      "\n",
      "\n",
      "Output of Readlines function is \n",
      "['Hello \\n', 'This is Delhi \\n', 'This is Paris \\n', 'This is London \\n']\n",
      "\n"
     ]
    }
   ],
   "source": [
    "# Program to show various ways to \n",
    "# read data from a file. \n",
    "\n",
    "# Creating a file\n",
    "file1 = open(\"myfile.txt\", \"w\")\n",
    "L = [\"This is Delhi \\n\", \"This is Paris \\n\", \"This is London \\n\"]\n",
    "\n",
    "# Writing data to a file\n",
    "file1.write(\"Hello \\n\") \n",
    "file1.writelines(L)\n",
    "file1.close() # to change file access modes\n",
    "\n",
    "file1 = open(\"myfile.txt\", \"r+\")\n",
    "\n",
    "print(\"Output of Read function is \")\n",
    "print(file1.read())\n",
    "print()\n",
    "\n",
    "# seek(n) takes the file handle to the nth\n",
    "# byte from the beginning. \n",
    "file1.seek(0)\n",
    "\n",
    "print(\"Output of Readline function is \")\n",
    "print(file1.readline())\n",
    "print()\n",
    "\n",
    "file1.seek(0)\n",
    "\n",
    "# To show difference between read and readline \n",
    "print(\"Output of Read(9) function is \")\n",
    "print(file1.read(9))\n",
    "print()\n",
    "\n",
    "file1.seek(0)\n",
    "\n",
    "print(\"Output of Readline(9) function is \")\n",
    "print(file1.readline(9))\n",
    "print()\n",
    "\n",
    "file1.seek(0)\n",
    "\n",
    "# readlines function \n",
    "print(\"Output of Readlines function is \")\n",
    "print(file1.readlines())\n",
    "print()\n",
    "file1.close() \n"
   ]
  },
  {
   "cell_type": "code",
   "execution_count": 14,
   "id": "911f095d",
   "metadata": {},
   "outputs": [
    {
     "name": "stdout",
     "output_type": "stream",
     "text": [
      "Hello \n",
      "This is Delhi \n",
      "This is Paris \n",
      "This is London \n",
      "\n"
     ]
    }
   ],
   "source": [
    "# Program to show various ways to\n",
    "# read data from a file.\n",
    "\n",
    "L = [\"This is Delhi \\n\", \"This is Paris \\n\", \"This is London \\n\"]\n",
    "\n",
    "# Creating a file\n",
    "with open(\"myfile.txt\", \"w\") as file1:\n",
    "\t# Writing data to a file\n",
    "\tfile1.write(\"Hello \\n\")\n",
    "\tfile1.writelines(L)\n",
    "\tfile1.close() # to change file access modes\n",
    "\n",
    "with open(\"myfile.txt\", \"r+\") as file1:\n",
    "\t# Reading from a file\n",
    "\tprint(file1.read())\n"
   ]
  },
  {
   "cell_type": "code",
   "execution_count": null,
   "id": "2cd9639c",
   "metadata": {},
   "outputs": [],
   "source": []
  }
 ],
 "metadata": {
  "kernelspec": {
   "display_name": "Python 3 (ipykernel)",
   "language": "python",
   "name": "python3"
  },
  "language_info": {
   "codemirror_mode": {
    "name": "ipython",
    "version": 3
   },
   "file_extension": ".py",
   "mimetype": "text/x-python",
   "name": "python",
   "nbconvert_exporter": "python",
   "pygments_lexer": "ipython3",
   "version": "3.11.5"
  }
 },
 "nbformat": 4,
 "nbformat_minor": 5
}
