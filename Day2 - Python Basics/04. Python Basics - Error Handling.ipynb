{
 "cells": [
  {
   "cell_type": "markdown",
   "id": "a92e1b5b",
   "metadata": {},
   "source": [
    "# Syntax:\n",
    "\n",
    "try:\n",
    "    # Some Code.... \n",
    "\n",
    "except:\n",
    "    # optional block\n",
    "    # Handling of exception (if required)\n",
    "\n",
    "else:\n",
    "    # execute if no exception\n",
    "\n",
    "finally:\n",
    "    # Some code .....(always executed)"
   ]
  },
  {
   "cell_type": "code",
   "execution_count": 1,
   "id": "d5cbc034",
   "metadata": {},
   "outputs": [
    {
     "name": "stdout",
     "output_type": "stream",
     "text": [
      "Can't divide by zero\n",
      "This is always executed\n"
     ]
    }
   ],
   "source": [
    "try:\n",
    "\tk = 5//0\n",
    "\tprint(k)\n",
    "\n",
    "except ZeroDivisionError:\n",
    "\tprint(\"Can't divide by zero\")\n",
    "\n",
    "finally:\n",
    "\tprint('This is always executed')\n"
   ]
  },
  {
   "cell_type": "code",
   "execution_count": 2,
   "id": "8aaf5fa0",
   "metadata": {},
   "outputs": [
    {
     "name": "stdout",
     "output_type": "stream",
     "text": [
      "An exception\n"
     ]
    },
    {
     "ename": "NameError",
     "evalue": "Hi there",
     "output_type": "error",
     "traceback": [
      "\u001b[1;31m---------------------------------------------------------------------------\u001b[0m",
      "\u001b[1;31mNameError\u001b[0m                                 Traceback (most recent call last)",
      "Cell \u001b[1;32mIn[2], line 2\u001b[0m\n\u001b[0;32m      1\u001b[0m \u001b[38;5;28;01mtry\u001b[39;00m: \n\u001b[1;32m----> 2\u001b[0m \t\u001b[38;5;28;01mraise\u001b[39;00m \u001b[38;5;167;01mNameError\u001b[39;00m(\u001b[38;5;124m\"\u001b[39m\u001b[38;5;124mHi there\u001b[39m\u001b[38;5;124m\"\u001b[39m)\n\u001b[0;32m      3\u001b[0m \u001b[38;5;28;01mexcept\u001b[39;00m \u001b[38;5;167;01mNameError\u001b[39;00m:\n\u001b[0;32m      4\u001b[0m \t\u001b[38;5;28mprint\u001b[39m (\u001b[38;5;124m\"\u001b[39m\u001b[38;5;124mAn exception\u001b[39m\u001b[38;5;124m\"\u001b[39m)\n",
      "\u001b[1;31mNameError\u001b[0m: Hi there"
     ]
    }
   ],
   "source": [
    "try: \n",
    "\traise NameError(\"Hi there\")\n",
    "except NameError:\n",
    "\tprint (\"An exception\")\n",
    "\traise\n"
   ]
  },
  {
   "cell_type": "code",
   "execution_count": 3,
   "id": "a884a231",
   "metadata": {},
   "outputs": [
    {
     "name": "stdout",
     "output_type": "stream",
     "text": [
      "The error is:  unsupported operand type(s) for //: 'int' and 'str'\n",
      "The error is:  integer division or modulo by zero\n"
     ]
    }
   ],
   "source": [
    "# code\n",
    "def divide(x, y):\n",
    "\ttry:\n",
    "\t\t# Floor Division : Gives only Fractional Part as Answer\n",
    "\t\tresult = x // y\n",
    "\t\tprint(\"Yeah ! Your answer is :\", result)\n",
    "\texcept Exception as e:\n",
    "\t# By this way we can know about the type of error occurring\n",
    "\t\tprint(\"The error is: \",e)\n",
    "\n",
    "\t\t\n",
    "divide(3, \"GFG\") \n",
    "divide(3,0) \n"
   ]
  },
  {
   "cell_type": "code",
   "execution_count": 4,
   "id": "e4c044c6",
   "metadata": {},
   "outputs": [
    {
     "name": "stdout",
     "output_type": "stream",
     "text": [
      "Can't divide by zero\n",
      "This is always executed\n"
     ]
    }
   ],
   "source": [
    "# Python program to demonstrate finally \n",
    "\t\n",
    "# No exception Exception raised in try block \n",
    "try: \n",
    "\tk = 5//0 # raises divide by zero exception. \n",
    "\tprint(k) \n",
    "\t\n",
    "# handles zerodivision exception\t \n",
    "except ZeroDivisionError: \n",
    "\tprint(\"Can't divide by zero\") \n",
    "\t\t\n",
    "finally: \n",
    "\t# this block is always executed \n",
    "\t# regardless of exception generation. \n",
    "\tprint('This is always executed') \n"
   ]
  },
  {
   "cell_type": "code",
   "execution_count": 5,
   "id": "1d5ec20f",
   "metadata": {},
   "outputs": [
    {
     "name": "stdout",
     "output_type": "stream",
     "text": [
      "Exception occurred:  Not Allowed\n"
     ]
    }
   ],
   "source": [
    "# Deriving Error from Super Class Exception\n",
    "\n",
    "# class Error is derived from super class Exception\n",
    "class Error(Exception):\n",
    "\n",
    "\t# Error is derived class for Exception, but\n",
    "\t# Base class for exceptions in this module\n",
    "\tpass\n",
    "\n",
    "class TransitionError(Error):\n",
    "\n",
    "\t# Raised when an operation attempts a state\n",
    "\t# transition that's not allowed.\n",
    "\tdef __init__(self, prev, nex, msg):\n",
    "\t\tself.prev = prev\n",
    "\t\tself.next = nex\n",
    "\n",
    "\t\t# Error message thrown is saved in msg\n",
    "\t\tself.msg = msg\n",
    "\n",
    "try:\n",
    "\traise(TransitionError(2, 3*2, \"Not Allowed\"))\n",
    "\n",
    "# Value of Exception is stored in error\n",
    "except TransitionError as error:\n",
    "\tprint('Exception occurred: ', error.msg)\n"
   ]
  },
  {
   "cell_type": "code",
   "execution_count": 6,
   "id": "c080ad8e",
   "metadata": {},
   "outputs": [
    {
     "name": "stdout",
     "output_type": "stream",
     "text": [
      "('E', 'r', 'r', 'o', 'r')\n"
     ]
    }
   ],
   "source": [
    "# standard Exceptions as a base class\n",
    "\n",
    "# NetworkError has base RuntimeError\n",
    "# and not Exception\n",
    "class Networkerror(RuntimeError):\n",
    "\tdef __init__(self, arg):\n",
    "\t\tself.args = arg\n",
    "\n",
    "try:\n",
    "\traise Networkerror(\"Error\")\n",
    "\n",
    "except Networkerror as e:\n",
    "\tprint(e.args)\n"
   ]
  },
  {
   "cell_type": "code",
   "execution_count": null,
   "id": "b00a3d39",
   "metadata": {},
   "outputs": [],
   "source": []
  }
 ],
 "metadata": {
  "kernelspec": {
   "display_name": "Python 3 (ipykernel)",
   "language": "python",
   "name": "python3"
  },
  "language_info": {
   "codemirror_mode": {
    "name": "ipython",
    "version": 3
   },
   "file_extension": ".py",
   "mimetype": "text/x-python",
   "name": "python",
   "nbconvert_exporter": "python",
   "pygments_lexer": "ipython3",
   "version": "3.11.5"
  }
 },
 "nbformat": 4,
 "nbformat_minor": 5
}
