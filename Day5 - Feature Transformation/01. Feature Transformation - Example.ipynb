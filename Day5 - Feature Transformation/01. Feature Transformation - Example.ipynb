{
 "cells": [
  {
   "cell_type": "markdown",
   "id": "70c94c7a",
   "metadata": {},
   "source": [
    "## Feature Engineering:\n",
    "<b>\n",
    "Feature engineering is the process of creating new features from existing ones or transforming existing features to improve the performance of a machine learning model. It\n",
    "involves selecting, modifying, or creating features to enhance the model's ability to learn patterns from the data. Effective feature engineering can lead to better model performance,\n",
    "faster training times, and improved interpretability.\n",
    "</b>"
   ]
  },
  {
   "cell_type": "markdown",
   "id": "e158d41d",
   "metadata": {},
   "source": [
    "### Transformation: \n",
    "- It includes transforming data through extraction, scaling, and other techniques to help\n",
    "models capture patterns and relationships.\n",
    "\n",
    "### Selection: \n",
    "- Choosing relevant features improves model simplicity, interpretability, and generalization by\n",
    "reducing noise and redundancy.\n",
    "\n",
    "### Creation: \n",
    "- New features can be engineered to capture important relationships or patterns not apparent in the\n",
    "original data.\n",
    "\n",
    "### Missing Data: \n",
    "- Handling missing values through techniques like imputation maintains data integrity.\n",
    "\n",
    "### Categorical Variables: \n",
    "- Encoding categorical variables as numerical values enables their use in machine\n",
    "learning algorithms.\n",
    "\n",
    "### Interaction Features: \n",
    "- Combining existing features to capture interactions between variables can enhance model performance.\n",
    "\n",
    "### Domain Expertise: \n",
    "- Feature engineering often requires domain knowledge to make informed decisions about creating meaningful features.\n",
    "\n",
    "### Impact: \n",
    "- Effective feature engineering can significantly enhance model accuracy and robustness.\n",
    "\n",
    "### Experimentation: \n",
    "- Iterative experimentation with different feature engineering techniques is key to finding optimal features for a given problem and dataset."
   ]
  },
  {
   "cell_type": "markdown",
   "id": "34f04575",
   "metadata": {},
   "source": [
    "### Data Set"
   ]
  },
  {
   "cell_type": "code",
   "execution_count": null,
   "id": "5062dd89",
   "metadata": {},
   "outputs": [],
   "source": [
    "li = [100, 200, 150, 300,180]"
   ]
  },
  {
   "cell_type": "code",
   "execution_count": 2,
   "id": "93897bfb",
   "metadata": {},
   "outputs": [
    {
     "data": {
      "text/plain": [
       "[100, 200, 150, 300, 180]"
      ]
     },
     "execution_count": 2,
     "metadata": {},
     "output_type": "execute_result"
    }
   ],
   "source": [
    "li"
   ]
  },
  {
   "cell_type": "code",
   "execution_count": 3,
   "id": "624134d9",
   "metadata": {},
   "outputs": [
    {
     "data": {
      "text/html": [
       "<div>\n",
       "<style scoped>\n",
       "    .dataframe tbody tr th:only-of-type {\n",
       "        vertical-align: middle;\n",
       "    }\n",
       "\n",
       "    .dataframe tbody tr th {\n",
       "        vertical-align: top;\n",
       "    }\n",
       "\n",
       "    .dataframe thead th {\n",
       "        text-align: right;\n",
       "    }\n",
       "</style>\n",
       "<table border=\"1\" class=\"dataframe\">\n",
       "  <thead>\n",
       "    <tr style=\"text-align: right;\">\n",
       "      <th></th>\n",
       "      <th>cost</th>\n",
       "    </tr>\n",
       "  </thead>\n",
       "  <tbody>\n",
       "    <tr>\n",
       "      <th>0</th>\n",
       "      <td>100</td>\n",
       "    </tr>\n",
       "    <tr>\n",
       "      <th>1</th>\n",
       "      <td>200</td>\n",
       "    </tr>\n",
       "    <tr>\n",
       "      <th>2</th>\n",
       "      <td>150</td>\n",
       "    </tr>\n",
       "    <tr>\n",
       "      <th>3</th>\n",
       "      <td>300</td>\n",
       "    </tr>\n",
       "    <tr>\n",
       "      <th>4</th>\n",
       "      <td>180</td>\n",
       "    </tr>\n",
       "  </tbody>\n",
       "</table>\n",
       "</div>"
      ],
      "text/plain": [
       "   cost\n",
       "0   100\n",
       "1   200\n",
       "2   150\n",
       "3   300\n",
       "4   180"
      ]
     },
     "execution_count": 3,
     "metadata": {},
     "output_type": "execute_result"
    }
   ],
   "source": [
    "import pandas as pd\n",
    "df = pd.DataFrame(li, columns=['cost'])\n",
    "df"
   ]
  },
  {
   "cell_type": "markdown",
   "id": "fc56e6d0",
   "metadata": {},
   "source": [
    "# Techniques to perform Feature Transformation:"
   ]
  },
  {
   "cell_type": "markdown",
   "id": "ee7065e3",
   "metadata": {},
   "source": [
    "#### Normalization: <b>\n",
    "#### Standardization <br>\n",
    "#### Log Transformation <br>\n",
    "#### Robust Scaler <br>\n",
    "#### Max Absolute Scaler\n"
   ]
  },
  {
   "cell_type": "markdown",
   "id": "36d9b9f0",
   "metadata": {},
   "source": [
    "### Normalization / min max scaler:\n",
    "\n",
    "- Python Implementation:<br>\n",
    "from sklearn.preprocessing import MinMaxScaler<br>\n",
    "scaler = MinMaxScaler() <br>"
   ]
  },
  {
   "attachments": {
    "normalization.PNG": {
     "image/png": "[encoded data removed]"
    }
   },
   "cell_type": "markdown",
   "id": "0b1b7812",
   "metadata": {},
   "source": [
    "![normalization.PNG](attachment:normalization.PNG)"
   ]
  },
  {
   "cell_type": "code",
   "execution_count": 4,
   "id": "c2d9050c",
   "metadata": {},
   "outputs": [],
   "source": [
    "min_cost = df.cost.min()\n",
    "max_cost = df.cost.max()"
   ]
  },
  {
   "cell_type": "code",
   "execution_count": 5,
   "id": "074d3469",
   "metadata": {},
   "outputs": [
    {
     "data": {
      "text/plain": [
       "100"
      ]
     },
     "execution_count": 5,
     "metadata": {},
     "output_type": "execute_result"
    }
   ],
   "source": [
    "min_cost"
   ]
  },
  {
   "cell_type": "code",
   "execution_count": 6,
   "id": "9d988841",
   "metadata": {},
   "outputs": [
    {
     "data": {
      "text/plain": [
       "300"
      ]
     },
     "execution_count": 6,
     "metadata": {},
     "output_type": "execute_result"
    }
   ],
   "source": [
    "max_cost"
   ]
  },
  {
   "cell_type": "code",
   "execution_count": 7,
   "id": "1845e3b3",
   "metadata": {},
   "outputs": [],
   "source": [
    "# Manual equation\n",
    "df['cost_norm_manual'] = (df.cost - min_cost ) / (max_cost - min_cost)"
   ]
  },
  {
   "cell_type": "code",
   "execution_count": 8,
   "id": "ed856fca",
   "metadata": {},
   "outputs": [
    {
     "data": {
      "text/html": [
       "<div>\n",
       "<style scoped>\n",
       "    .dataframe tbody tr th:only-of-type {\n",
       "        vertical-align: middle;\n",
       "    }\n",
       "\n",
       "    .dataframe tbody tr th {\n",
       "        vertical-align: top;\n",
       "    }\n",
       "\n",
       "    .dataframe thead th {\n",
       "        text-align: right;\n",
       "    }\n",
       "</style>\n",
       "<table border=\"1\" class=\"dataframe\">\n",
       "  <thead>\n",
       "    <tr style=\"text-align: right;\">\n",
       "      <th></th>\n",
       "      <th>cost</th>\n",
       "      <th>cost_norm_manual</th>\n",
       "    </tr>\n",
       "  </thead>\n",
       "  <tbody>\n",
       "    <tr>\n",
       "      <th>0</th>\n",
       "      <td>100</td>\n",
       "      <td>0.00</td>\n",
       "    </tr>\n",
       "    <tr>\n",
       "      <th>1</th>\n",
       "      <td>200</td>\n",
       "      <td>0.50</td>\n",
       "    </tr>\n",
       "    <tr>\n",
       "      <th>2</th>\n",
       "      <td>150</td>\n",
       "      <td>0.25</td>\n",
       "    </tr>\n",
       "    <tr>\n",
       "      <th>3</th>\n",
       "      <td>300</td>\n",
       "      <td>1.00</td>\n",
       "    </tr>\n",
       "    <tr>\n",
       "      <th>4</th>\n",
       "      <td>180</td>\n",
       "      <td>0.40</td>\n",
       "    </tr>\n",
       "  </tbody>\n",
       "</table>\n",
       "</div>"
      ],
      "text/plain": [
       "   cost  cost_norm_manual\n",
       "0   100              0.00\n",
       "1   200              0.50\n",
       "2   150              0.25\n",
       "3   300              1.00\n",
       "4   180              0.40"
      ]
     },
     "execution_count": 8,
     "metadata": {},
     "output_type": "execute_result"
    }
   ],
   "source": [
    "df.head()"
   ]
  },
  {
   "cell_type": "code",
   "execution_count": 9,
   "id": "1caf22bc",
   "metadata": {},
   "outputs": [],
   "source": [
    "# Using Python Library\n",
    "from sklearn.preprocessing import MinMaxScaler\n",
    "mmx = MinMaxScaler() #feature_range=(2,5)"
   ]
  },
  {
   "cell_type": "code",
   "execution_count": 10,
   "id": "2f8551ac",
   "metadata": {},
   "outputs": [],
   "source": [
    "df['cost_norm_sklearn'] = mmx.fit_transform(df[['cost']])"
   ]
  },
  {
   "cell_type": "code",
   "execution_count": 11,
   "id": "29ad25ca",
   "metadata": {},
   "outputs": [
    {
     "data": {
      "text/html": [
       "<div>\n",
       "<style scoped>\n",
       "    .dataframe tbody tr th:only-of-type {\n",
       "        vertical-align: middle;\n",
       "    }\n",
       "\n",
       "    .dataframe tbody tr th {\n",
       "        vertical-align: top;\n",
       "    }\n",
       "\n",
       "    .dataframe thead th {\n",
       "        text-align: right;\n",
       "    }\n",
       "</style>\n",
       "<table border=\"1\" class=\"dataframe\">\n",
       "  <thead>\n",
       "    <tr style=\"text-align: right;\">\n",
       "      <th></th>\n",
       "      <th>cost</th>\n",
       "      <th>cost_norm_manual</th>\n",
       "      <th>cost_norm_sklearn</th>\n",
       "    </tr>\n",
       "  </thead>\n",
       "  <tbody>\n",
       "    <tr>\n",
       "      <th>0</th>\n",
       "      <td>100</td>\n",
       "      <td>0.00</td>\n",
       "      <td>0.00</td>\n",
       "    </tr>\n",
       "    <tr>\n",
       "      <th>1</th>\n",
       "      <td>200</td>\n",
       "      <td>0.50</td>\n",
       "      <td>0.50</td>\n",
       "    </tr>\n",
       "    <tr>\n",
       "      <th>2</th>\n",
       "      <td>150</td>\n",
       "      <td>0.25</td>\n",
       "      <td>0.25</td>\n",
       "    </tr>\n",
       "    <tr>\n",
       "      <th>3</th>\n",
       "      <td>300</td>\n",
       "      <td>1.00</td>\n",
       "      <td>1.00</td>\n",
       "    </tr>\n",
       "    <tr>\n",
       "      <th>4</th>\n",
       "      <td>180</td>\n",
       "      <td>0.40</td>\n",
       "      <td>0.40</td>\n",
       "    </tr>\n",
       "  </tbody>\n",
       "</table>\n",
       "</div>"
      ],
      "text/plain": [
       "   cost  cost_norm_manual  cost_norm_sklearn\n",
       "0   100              0.00               0.00\n",
       "1   200              0.50               0.50\n",
       "2   150              0.25               0.25\n",
       "3   300              1.00               1.00\n",
       "4   180              0.40               0.40"
      ]
     },
     "execution_count": 11,
     "metadata": {},
     "output_type": "execute_result"
    }
   ],
   "source": [
    "df.head()"
   ]
  },
  {
   "cell_type": "markdown",
   "id": "c6b6ae13",
   "metadata": {},
   "source": [
    "## Standardization / standard scaler\n",
    "\n",
    "- Python Implementation: <br>\n",
    "from sklearn.preprocessing import StandardScaler <br>\n",
    "scaler = StandardScaler() <br>"
   ]
  },
  {
   "attachments": {
    "Standardization1.PNG": {
     "image/png": "[encoded data removed]"
    }
   },
   "cell_type": "markdown",
   "id": "a4b68153",
   "metadata": {},
   "source": [
    "![Standardization1.PNG](attachment:Standardization1.PNG)"
   ]
  },
  {
   "attachments": {
    "Standardization2.PNG": {
     "image/png": "[encoded data removed]"
    }
   },
   "cell_type": "markdown",
   "id": "3ff1cef1",
   "metadata": {},
   "source": [
    "![Standardization2.PNG](attachment:Standardization2.PNG)\n"
   ]
  },
  {
   "attachments": {
    "Standardization3.PNG": {
     "image/png": "[encoded data removed]"
    }
   },
   "cell_type": "markdown",
   "id": "2b7d510d",
   "metadata": {},
   "source": [
    "![Standardization3.PNG](attachment:Standardization3.PNG)"
   ]
  },
  {
   "cell_type": "code",
   "execution_count": 12,
   "id": "0b0b9a22",
   "metadata": {},
   "outputs": [],
   "source": [
    "mean_cost = df.cost.mean()\n",
    "std = df.cost.std()"
   ]
  },
  {
   "cell_type": "code",
   "execution_count": 14,
   "id": "c755a776",
   "metadata": {},
   "outputs": [],
   "source": [
    "# Using Equation\n",
    "df['cost_std_manual'] = (df['cost'] - mean_cost) / std"
   ]
  },
  {
   "cell_type": "code",
   "execution_count": 15,
   "id": "b5cd28c9",
   "metadata": {},
   "outputs": [
    {
     "data": {
      "text/html": [
       "<div>\n",
       "<style scoped>\n",
       "    .dataframe tbody tr th:only-of-type {\n",
       "        vertical-align: middle;\n",
       "    }\n",
       "\n",
       "    .dataframe tbody tr th {\n",
       "        vertical-align: top;\n",
       "    }\n",
       "\n",
       "    .dataframe thead th {\n",
       "        text-align: right;\n",
       "    }\n",
       "</style>\n",
       "<table border=\"1\" class=\"dataframe\">\n",
       "  <thead>\n",
       "    <tr style=\"text-align: right;\">\n",
       "      <th></th>\n",
       "      <th>cost</th>\n",
       "      <th>cost_norm_manual</th>\n",
       "      <th>cost_norm_sklearn</th>\n",
       "      <th>cost_std_manual</th>\n",
       "    </tr>\n",
       "  </thead>\n",
       "  <tbody>\n",
       "    <tr>\n",
       "      <th>0</th>\n",
       "      <td>100</td>\n",
       "      <td>0.00</td>\n",
       "      <td>0.00</td>\n",
       "      <td>-1.161738</td>\n",
       "    </tr>\n",
       "    <tr>\n",
       "      <th>1</th>\n",
       "      <td>200</td>\n",
       "      <td>0.50</td>\n",
       "      <td>0.50</td>\n",
       "      <td>0.189120</td>\n",
       "    </tr>\n",
       "    <tr>\n",
       "      <th>2</th>\n",
       "      <td>150</td>\n",
       "      <td>0.25</td>\n",
       "      <td>0.25</td>\n",
       "      <td>-0.486309</td>\n",
       "    </tr>\n",
       "    <tr>\n",
       "      <th>3</th>\n",
       "      <td>300</td>\n",
       "      <td>1.00</td>\n",
       "      <td>1.00</td>\n",
       "      <td>1.539978</td>\n",
       "    </tr>\n",
       "    <tr>\n",
       "      <th>4</th>\n",
       "      <td>180</td>\n",
       "      <td>0.40</td>\n",
       "      <td>0.40</td>\n",
       "      <td>-0.081051</td>\n",
       "    </tr>\n",
       "  </tbody>\n",
       "</table>\n",
       "</div>"
      ],
      "text/plain": [
       "   cost  cost_norm_manual  cost_norm_sklearn  cost_std_manual\n",
       "0   100              0.00               0.00        -1.161738\n",
       "1   200              0.50               0.50         0.189120\n",
       "2   150              0.25               0.25        -0.486309\n",
       "3   300              1.00               1.00         1.539978\n",
       "4   180              0.40               0.40        -0.081051"
      ]
     },
     "execution_count": 15,
     "metadata": {},
     "output_type": "execute_result"
    }
   ],
   "source": [
    "df.head()"
   ]
  },
  {
   "cell_type": "code",
   "execution_count": 16,
   "id": "279acad1",
   "metadata": {},
   "outputs": [],
   "source": [
    "# Using Python Library\n",
    "from sklearn.preprocessing import StandardScaler \n",
    "scaler = StandardScaler()"
   ]
  },
  {
   "cell_type": "code",
   "execution_count": 17,
   "id": "e504b654",
   "metadata": {},
   "outputs": [],
   "source": [
    "df['cost_std_sklearn'] = scaler.fit_transform(df[['cost']])"
   ]
  },
  {
   "cell_type": "code",
   "execution_count": 18,
   "id": "49dbb3d8",
   "metadata": {},
   "outputs": [
    {
     "data": {
      "text/html": [
       "<div>\n",
       "<style scoped>\n",
       "    .dataframe tbody tr th:only-of-type {\n",
       "        vertical-align: middle;\n",
       "    }\n",
       "\n",
       "    .dataframe tbody tr th {\n",
       "        vertical-align: top;\n",
       "    }\n",
       "\n",
       "    .dataframe thead th {\n",
       "        text-align: right;\n",
       "    }\n",
       "</style>\n",
       "<table border=\"1\" class=\"dataframe\">\n",
       "  <thead>\n",
       "    <tr style=\"text-align: right;\">\n",
       "      <th></th>\n",
       "      <th>cost</th>\n",
       "      <th>cost_norm_manual</th>\n",
       "      <th>cost_norm_sklearn</th>\n",
       "      <th>cost_std_manual</th>\n",
       "      <th>cost_std_sklearn</th>\n",
       "    </tr>\n",
       "  </thead>\n",
       "  <tbody>\n",
       "    <tr>\n",
       "      <th>0</th>\n",
       "      <td>100</td>\n",
       "      <td>0.00</td>\n",
       "      <td>0.00</td>\n",
       "      <td>-1.161738</td>\n",
       "      <td>-1.298863</td>\n",
       "    </tr>\n",
       "    <tr>\n",
       "      <th>1</th>\n",
       "      <td>200</td>\n",
       "      <td>0.50</td>\n",
       "      <td>0.50</td>\n",
       "      <td>0.189120</td>\n",
       "      <td>0.211443</td>\n",
       "    </tr>\n",
       "    <tr>\n",
       "      <th>2</th>\n",
       "      <td>150</td>\n",
       "      <td>0.25</td>\n",
       "      <td>0.25</td>\n",
       "      <td>-0.486309</td>\n",
       "      <td>-0.543710</td>\n",
       "    </tr>\n",
       "    <tr>\n",
       "      <th>3</th>\n",
       "      <td>300</td>\n",
       "      <td>1.00</td>\n",
       "      <td>1.00</td>\n",
       "      <td>1.539978</td>\n",
       "      <td>1.721748</td>\n",
       "    </tr>\n",
       "    <tr>\n",
       "      <th>4</th>\n",
       "      <td>180</td>\n",
       "      <td>0.40</td>\n",
       "      <td>0.40</td>\n",
       "      <td>-0.081051</td>\n",
       "      <td>-0.090618</td>\n",
       "    </tr>\n",
       "  </tbody>\n",
       "</table>\n",
       "</div>"
      ],
      "text/plain": [
       "   cost  cost_norm_manual  cost_norm_sklearn  cost_std_manual  \\\n",
       "0   100              0.00               0.00        -1.161738   \n",
       "1   200              0.50               0.50         0.189120   \n",
       "2   150              0.25               0.25        -0.486309   \n",
       "3   300              1.00               1.00         1.539978   \n",
       "4   180              0.40               0.40        -0.081051   \n",
       "\n",
       "   cost_std_sklearn  \n",
       "0         -1.298863  \n",
       "1          0.211443  \n",
       "2         -0.543710  \n",
       "3          1.721748  \n",
       "4         -0.090618  "
      ]
     },
     "execution_count": 18,
     "metadata": {},
     "output_type": "execute_result"
    }
   ],
   "source": [
    "df"
   ]
  },
  {
   "cell_type": "code",
   "execution_count": 19,
   "id": "2ccb5fbc",
   "metadata": {},
   "outputs": [],
   "source": [
    "# Standard Deviation When ddof = 0\n",
    "std_dof = df.cost.std(ddof=0)"
   ]
  },
  {
   "cell_type": "code",
   "execution_count": 20,
   "id": "e34a1b42",
   "metadata": {},
   "outputs": [
    {
     "data": {
      "text/plain": [
       "66.2117814289874"
      ]
     },
     "execution_count": 20,
     "metadata": {},
     "output_type": "execute_result"
    }
   ],
   "source": [
    "std_dof"
   ]
  },
  {
   "cell_type": "code",
   "execution_count": 21,
   "id": "535a97f4",
   "metadata": {},
   "outputs": [
    {
     "data": {
      "text/plain": [
       "74.02702209328699"
      ]
     },
     "execution_count": 21,
     "metadata": {},
     "output_type": "execute_result"
    }
   ],
   "source": [
    "# Standard Deviation When ddof = 1\n",
    "std_dof1 = df.cost.std(ddof=1)\n",
    "std_dof1"
   ]
  },
  {
   "cell_type": "code",
   "execution_count": 22,
   "id": "4de81fb5",
   "metadata": {},
   "outputs": [
    {
     "data": {
      "text/html": [
       "<div>\n",
       "<style scoped>\n",
       "    .dataframe tbody tr th:only-of-type {\n",
       "        vertical-align: middle;\n",
       "    }\n",
       "\n",
       "    .dataframe tbody tr th {\n",
       "        vertical-align: top;\n",
       "    }\n",
       "\n",
       "    .dataframe thead th {\n",
       "        text-align: right;\n",
       "    }\n",
       "</style>\n",
       "<table border=\"1\" class=\"dataframe\">\n",
       "  <thead>\n",
       "    <tr style=\"text-align: right;\">\n",
       "      <th></th>\n",
       "      <th>cost</th>\n",
       "      <th>cost_norm_manual</th>\n",
       "      <th>cost_norm_sklearn</th>\n",
       "      <th>cost_std_manual</th>\n",
       "      <th>cost_std_sklearn</th>\n",
       "    </tr>\n",
       "  </thead>\n",
       "  <tbody>\n",
       "    <tr>\n",
       "      <th>0</th>\n",
       "      <td>100</td>\n",
       "      <td>0.00</td>\n",
       "      <td>0.00</td>\n",
       "      <td>-1.161738</td>\n",
       "      <td>-1.298863</td>\n",
       "    </tr>\n",
       "    <tr>\n",
       "      <th>1</th>\n",
       "      <td>200</td>\n",
       "      <td>0.50</td>\n",
       "      <td>0.50</td>\n",
       "      <td>0.189120</td>\n",
       "      <td>0.211443</td>\n",
       "    </tr>\n",
       "    <tr>\n",
       "      <th>2</th>\n",
       "      <td>150</td>\n",
       "      <td>0.25</td>\n",
       "      <td>0.25</td>\n",
       "      <td>-0.486309</td>\n",
       "      <td>-0.543710</td>\n",
       "    </tr>\n",
       "    <tr>\n",
       "      <th>3</th>\n",
       "      <td>300</td>\n",
       "      <td>1.00</td>\n",
       "      <td>1.00</td>\n",
       "      <td>1.539978</td>\n",
       "      <td>1.721748</td>\n",
       "    </tr>\n",
       "    <tr>\n",
       "      <th>4</th>\n",
       "      <td>180</td>\n",
       "      <td>0.40</td>\n",
       "      <td>0.40</td>\n",
       "      <td>-0.081051</td>\n",
       "      <td>-0.090618</td>\n",
       "    </tr>\n",
       "  </tbody>\n",
       "</table>\n",
       "</div>"
      ],
      "text/plain": [
       "   cost  cost_norm_manual  cost_norm_sklearn  cost_std_manual  \\\n",
       "0   100              0.00               0.00        -1.161738   \n",
       "1   200              0.50               0.50         0.189120   \n",
       "2   150              0.25               0.25        -0.486309   \n",
       "3   300              1.00               1.00         1.539978   \n",
       "4   180              0.40               0.40        -0.081051   \n",
       "\n",
       "   cost_std_sklearn  \n",
       "0         -1.298863  \n",
       "1          0.211443  \n",
       "2         -0.543710  \n",
       "3          1.721748  \n",
       "4         -0.090618  "
      ]
     },
     "execution_count": 22,
     "metadata": {},
     "output_type": "execute_result"
    }
   ],
   "source": [
    "df"
   ]
  },
  {
   "cell_type": "code",
   "execution_count": 23,
   "id": "55345811",
   "metadata": {},
   "outputs": [],
   "source": [
    "df['cost_std_manual2'] = (df['cost'] - mean_cost) / std_dof1"
   ]
  },
  {
   "cell_type": "code",
   "execution_count": 24,
   "id": "129adabb",
   "metadata": {},
   "outputs": [
    {
     "data": {
      "text/html": [
       "<div>\n",
       "<style scoped>\n",
       "    .dataframe tbody tr th:only-of-type {\n",
       "        vertical-align: middle;\n",
       "    }\n",
       "\n",
       "    .dataframe tbody tr th {\n",
       "        vertical-align: top;\n",
       "    }\n",
       "\n",
       "    .dataframe thead th {\n",
       "        text-align: right;\n",
       "    }\n",
       "</style>\n",
       "<table border=\"1\" class=\"dataframe\">\n",
       "  <thead>\n",
       "    <tr style=\"text-align: right;\">\n",
       "      <th></th>\n",
       "      <th>cost</th>\n",
       "      <th>cost_norm_manual</th>\n",
       "      <th>cost_norm_sklearn</th>\n",
       "      <th>cost_std_manual</th>\n",
       "      <th>cost_std_sklearn</th>\n",
       "      <th>cost_std_manual2</th>\n",
       "    </tr>\n",
       "  </thead>\n",
       "  <tbody>\n",
       "    <tr>\n",
       "      <th>0</th>\n",
       "      <td>100</td>\n",
       "      <td>0.00</td>\n",
       "      <td>0.00</td>\n",
       "      <td>-1.161738</td>\n",
       "      <td>-1.298863</td>\n",
       "      <td>-1.161738</td>\n",
       "    </tr>\n",
       "    <tr>\n",
       "      <th>1</th>\n",
       "      <td>200</td>\n",
       "      <td>0.50</td>\n",
       "      <td>0.50</td>\n",
       "      <td>0.189120</td>\n",
       "      <td>0.211443</td>\n",
       "      <td>0.189120</td>\n",
       "    </tr>\n",
       "    <tr>\n",
       "      <th>2</th>\n",
       "      <td>150</td>\n",
       "      <td>0.25</td>\n",
       "      <td>0.25</td>\n",
       "      <td>-0.486309</td>\n",
       "      <td>-0.543710</td>\n",
       "      <td>-0.486309</td>\n",
       "    </tr>\n",
       "    <tr>\n",
       "      <th>3</th>\n",
       "      <td>300</td>\n",
       "      <td>1.00</td>\n",
       "      <td>1.00</td>\n",
       "      <td>1.539978</td>\n",
       "      <td>1.721748</td>\n",
       "      <td>1.539978</td>\n",
       "    </tr>\n",
       "    <tr>\n",
       "      <th>4</th>\n",
       "      <td>180</td>\n",
       "      <td>0.40</td>\n",
       "      <td>0.40</td>\n",
       "      <td>-0.081051</td>\n",
       "      <td>-0.090618</td>\n",
       "      <td>-0.081051</td>\n",
       "    </tr>\n",
       "  </tbody>\n",
       "</table>\n",
       "</div>"
      ],
      "text/plain": [
       "   cost  cost_norm_manual  cost_norm_sklearn  cost_std_manual  \\\n",
       "0   100              0.00               0.00        -1.161738   \n",
       "1   200              0.50               0.50         0.189120   \n",
       "2   150              0.25               0.25        -0.486309   \n",
       "3   300              1.00               1.00         1.539978   \n",
       "4   180              0.40               0.40        -0.081051   \n",
       "\n",
       "   cost_std_sklearn  cost_std_manual2  \n",
       "0         -1.298863         -1.161738  \n",
       "1          0.211443          0.189120  \n",
       "2         -0.543710         -0.486309  \n",
       "3          1.721748          1.539978  \n",
       "4         -0.090618         -0.081051  "
      ]
     },
     "execution_count": 24,
     "metadata": {},
     "output_type": "execute_result"
    }
   ],
   "source": [
    "df"
   ]
  },
  {
   "cell_type": "code",
   "execution_count": 25,
   "id": "d3455540",
   "metadata": {},
   "outputs": [],
   "source": [
    "df['cost_std_manual2'] = (df['cost'] - mean_cost) / std_dof"
   ]
  },
  {
   "cell_type": "code",
   "execution_count": 26,
   "id": "0ec0b717",
   "metadata": {},
   "outputs": [
    {
     "data": {
      "text/html": [
       "<div>\n",
       "<style scoped>\n",
       "    .dataframe tbody tr th:only-of-type {\n",
       "        vertical-align: middle;\n",
       "    }\n",
       "\n",
       "    .dataframe tbody tr th {\n",
       "        vertical-align: top;\n",
       "    }\n",
       "\n",
       "    .dataframe thead th {\n",
       "        text-align: right;\n",
       "    }\n",
       "</style>\n",
       "<table border=\"1\" class=\"dataframe\">\n",
       "  <thead>\n",
       "    <tr style=\"text-align: right;\">\n",
       "      <th></th>\n",
       "      <th>cost</th>\n",
       "      <th>cost_norm_manual</th>\n",
       "      <th>cost_norm_sklearn</th>\n",
       "      <th>cost_std_manual</th>\n",
       "      <th>cost_std_sklearn</th>\n",
       "      <th>cost_std_manual2</th>\n",
       "    </tr>\n",
       "  </thead>\n",
       "  <tbody>\n",
       "    <tr>\n",
       "      <th>0</th>\n",
       "      <td>100</td>\n",
       "      <td>0.00</td>\n",
       "      <td>0.00</td>\n",
       "      <td>-1.161738</td>\n",
       "      <td>-1.298863</td>\n",
       "      <td>-1.298863</td>\n",
       "    </tr>\n",
       "    <tr>\n",
       "      <th>1</th>\n",
       "      <td>200</td>\n",
       "      <td>0.50</td>\n",
       "      <td>0.50</td>\n",
       "      <td>0.189120</td>\n",
       "      <td>0.211443</td>\n",
       "      <td>0.211443</td>\n",
       "    </tr>\n",
       "    <tr>\n",
       "      <th>2</th>\n",
       "      <td>150</td>\n",
       "      <td>0.25</td>\n",
       "      <td>0.25</td>\n",
       "      <td>-0.486309</td>\n",
       "      <td>-0.543710</td>\n",
       "      <td>-0.543710</td>\n",
       "    </tr>\n",
       "    <tr>\n",
       "      <th>3</th>\n",
       "      <td>300</td>\n",
       "      <td>1.00</td>\n",
       "      <td>1.00</td>\n",
       "      <td>1.539978</td>\n",
       "      <td>1.721748</td>\n",
       "      <td>1.721748</td>\n",
       "    </tr>\n",
       "    <tr>\n",
       "      <th>4</th>\n",
       "      <td>180</td>\n",
       "      <td>0.40</td>\n",
       "      <td>0.40</td>\n",
       "      <td>-0.081051</td>\n",
       "      <td>-0.090618</td>\n",
       "      <td>-0.090618</td>\n",
       "    </tr>\n",
       "  </tbody>\n",
       "</table>\n",
       "</div>"
      ],
      "text/plain": [
       "   cost  cost_norm_manual  cost_norm_sklearn  cost_std_manual  \\\n",
       "0   100              0.00               0.00        -1.161738   \n",
       "1   200              0.50               0.50         0.189120   \n",
       "2   150              0.25               0.25        -0.486309   \n",
       "3   300              1.00               1.00         1.539978   \n",
       "4   180              0.40               0.40        -0.081051   \n",
       "\n",
       "   cost_std_sklearn  cost_std_manual2  \n",
       "0         -1.298863         -1.298863  \n",
       "1          0.211443          0.211443  \n",
       "2         -0.543710         -0.543710  \n",
       "3          1.721748          1.721748  \n",
       "4         -0.090618         -0.090618  "
      ]
     },
     "execution_count": 26,
     "metadata": {},
     "output_type": "execute_result"
    }
   ],
   "source": [
    "df"
   ]
  },
  {
   "cell_type": "markdown",
   "id": "6630a955",
   "metadata": {},
   "source": [
    "# Log Transformation"
   ]
  },
  {
   "cell_type": "code",
   "execution_count": 27,
   "id": "549ac85e",
   "metadata": {},
   "outputs": [],
   "source": [
    "from sklearn.preprocessing import FunctionTransformer\n",
    "import numpy as np"
   ]
  },
  {
   "cell_type": "code",
   "execution_count": 28,
   "id": "18759057",
   "metadata": {},
   "outputs": [
    {
     "data": {
      "text/html": [
       "<div>\n",
       "<style scoped>\n",
       "    .dataframe tbody tr th:only-of-type {\n",
       "        vertical-align: middle;\n",
       "    }\n",
       "\n",
       "    .dataframe tbody tr th {\n",
       "        vertical-align: top;\n",
       "    }\n",
       "\n",
       "    .dataframe thead th {\n",
       "        text-align: right;\n",
       "    }\n",
       "</style>\n",
       "<table border=\"1\" class=\"dataframe\">\n",
       "  <thead>\n",
       "    <tr style=\"text-align: right;\">\n",
       "      <th></th>\n",
       "      <th>cost</th>\n",
       "      <th>cost_norm_manual</th>\n",
       "      <th>cost_norm_sklearn</th>\n",
       "      <th>cost_std_manual</th>\n",
       "      <th>cost_std_sklearn</th>\n",
       "      <th>cost_std_manual2</th>\n",
       "      <th>cost_fc</th>\n",
       "    </tr>\n",
       "  </thead>\n",
       "  <tbody>\n",
       "    <tr>\n",
       "      <th>0</th>\n",
       "      <td>100</td>\n",
       "      <td>0.00</td>\n",
       "      <td>0.00</td>\n",
       "      <td>-1.161738</td>\n",
       "      <td>-1.298863</td>\n",
       "      <td>-1.298863</td>\n",
       "      <td>4.615121</td>\n",
       "    </tr>\n",
       "    <tr>\n",
       "      <th>1</th>\n",
       "      <td>200</td>\n",
       "      <td>0.50</td>\n",
       "      <td>0.50</td>\n",
       "      <td>0.189120</td>\n",
       "      <td>0.211443</td>\n",
       "      <td>0.211443</td>\n",
       "      <td>5.303305</td>\n",
       "    </tr>\n",
       "    <tr>\n",
       "      <th>2</th>\n",
       "      <td>150</td>\n",
       "      <td>0.25</td>\n",
       "      <td>0.25</td>\n",
       "      <td>-0.486309</td>\n",
       "      <td>-0.543710</td>\n",
       "      <td>-0.543710</td>\n",
       "      <td>5.017280</td>\n",
       "    </tr>\n",
       "    <tr>\n",
       "      <th>3</th>\n",
       "      <td>300</td>\n",
       "      <td>1.00</td>\n",
       "      <td>1.00</td>\n",
       "      <td>1.539978</td>\n",
       "      <td>1.721748</td>\n",
       "      <td>1.721748</td>\n",
       "      <td>5.707110</td>\n",
       "    </tr>\n",
       "    <tr>\n",
       "      <th>4</th>\n",
       "      <td>180</td>\n",
       "      <td>0.40</td>\n",
       "      <td>0.40</td>\n",
       "      <td>-0.081051</td>\n",
       "      <td>-0.090618</td>\n",
       "      <td>-0.090618</td>\n",
       "      <td>5.198497</td>\n",
       "    </tr>\n",
       "  </tbody>\n",
       "</table>\n",
       "</div>"
      ],
      "text/plain": [
       "   cost  cost_norm_manual  cost_norm_sklearn  cost_std_manual  \\\n",
       "0   100              0.00               0.00        -1.161738   \n",
       "1   200              0.50               0.50         0.189120   \n",
       "2   150              0.25               0.25        -0.486309   \n",
       "3   300              1.00               1.00         1.539978   \n",
       "4   180              0.40               0.40        -0.081051   \n",
       "\n",
       "   cost_std_sklearn  cost_std_manual2   cost_fc  \n",
       "0         -1.298863         -1.298863  4.615121  \n",
       "1          0.211443          0.211443  5.303305  \n",
       "2         -0.543710         -0.543710  5.017280  \n",
       "3          1.721748          1.721748  5.707110  \n",
       "4         -0.090618         -0.090618  5.198497  "
      ]
     },
     "execution_count": 28,
     "metadata": {},
     "output_type": "execute_result"
    }
   ],
   "source": [
    "fc = FunctionTransformer(np.log1p)\n",
    "df['cost_fc'] = fc.fit_transform(df[['cost']])\n",
    "df"
   ]
  },
  {
   "cell_type": "code",
   "execution_count": 29,
   "id": "0c267ee7",
   "metadata": {},
   "outputs": [],
   "source": [
    "df['fc_np'] = np.log1p(df[['cost']])"
   ]
  },
  {
   "cell_type": "code",
   "execution_count": 30,
   "id": "8790f265",
   "metadata": {},
   "outputs": [
    {
     "data": {
      "text/html": [
       "<div>\n",
       "<style scoped>\n",
       "    .dataframe tbody tr th:only-of-type {\n",
       "        vertical-align: middle;\n",
       "    }\n",
       "\n",
       "    .dataframe tbody tr th {\n",
       "        vertical-align: top;\n",
       "    }\n",
       "\n",
       "    .dataframe thead th {\n",
       "        text-align: right;\n",
       "    }\n",
       "</style>\n",
       "<table border=\"1\" class=\"dataframe\">\n",
       "  <thead>\n",
       "    <tr style=\"text-align: right;\">\n",
       "      <th></th>\n",
       "      <th>cost</th>\n",
       "      <th>cost_norm_manual</th>\n",
       "      <th>cost_norm_sklearn</th>\n",
       "      <th>cost_std_manual</th>\n",
       "      <th>cost_std_sklearn</th>\n",
       "      <th>cost_std_manual2</th>\n",
       "      <th>cost_fc</th>\n",
       "      <th>fc_np</th>\n",
       "    </tr>\n",
       "  </thead>\n",
       "  <tbody>\n",
       "    <tr>\n",
       "      <th>0</th>\n",
       "      <td>100</td>\n",
       "      <td>0.00</td>\n",
       "      <td>0.00</td>\n",
       "      <td>-1.161738</td>\n",
       "      <td>-1.298863</td>\n",
       "      <td>-1.298863</td>\n",
       "      <td>4.615121</td>\n",
       "      <td>4.615121</td>\n",
       "    </tr>\n",
       "    <tr>\n",
       "      <th>1</th>\n",
       "      <td>200</td>\n",
       "      <td>0.50</td>\n",
       "      <td>0.50</td>\n",
       "      <td>0.189120</td>\n",
       "      <td>0.211443</td>\n",
       "      <td>0.211443</td>\n",
       "      <td>5.303305</td>\n",
       "      <td>5.303305</td>\n",
       "    </tr>\n",
       "    <tr>\n",
       "      <th>2</th>\n",
       "      <td>150</td>\n",
       "      <td>0.25</td>\n",
       "      <td>0.25</td>\n",
       "      <td>-0.486309</td>\n",
       "      <td>-0.543710</td>\n",
       "      <td>-0.543710</td>\n",
       "      <td>5.017280</td>\n",
       "      <td>5.017280</td>\n",
       "    </tr>\n",
       "    <tr>\n",
       "      <th>3</th>\n",
       "      <td>300</td>\n",
       "      <td>1.00</td>\n",
       "      <td>1.00</td>\n",
       "      <td>1.539978</td>\n",
       "      <td>1.721748</td>\n",
       "      <td>1.721748</td>\n",
       "      <td>5.707110</td>\n",
       "      <td>5.707110</td>\n",
       "    </tr>\n",
       "    <tr>\n",
       "      <th>4</th>\n",
       "      <td>180</td>\n",
       "      <td>0.40</td>\n",
       "      <td>0.40</td>\n",
       "      <td>-0.081051</td>\n",
       "      <td>-0.090618</td>\n",
       "      <td>-0.090618</td>\n",
       "      <td>5.198497</td>\n",
       "      <td>5.198497</td>\n",
       "    </tr>\n",
       "  </tbody>\n",
       "</table>\n",
       "</div>"
      ],
      "text/plain": [
       "   cost  cost_norm_manual  cost_norm_sklearn  cost_std_manual  \\\n",
       "0   100              0.00               0.00        -1.161738   \n",
       "1   200              0.50               0.50         0.189120   \n",
       "2   150              0.25               0.25        -0.486309   \n",
       "3   300              1.00               1.00         1.539978   \n",
       "4   180              0.40               0.40        -0.081051   \n",
       "\n",
       "   cost_std_sklearn  cost_std_manual2   cost_fc     fc_np  \n",
       "0         -1.298863         -1.298863  4.615121  4.615121  \n",
       "1          0.211443          0.211443  5.303305  5.303305  \n",
       "2         -0.543710         -0.543710  5.017280  5.017280  \n",
       "3          1.721748          1.721748  5.707110  5.707110  \n",
       "4         -0.090618         -0.090618  5.198497  5.198497  "
      ]
     },
     "execution_count": 30,
     "metadata": {},
     "output_type": "execute_result"
    }
   ],
   "source": [
    "df"
   ]
  },
  {
   "cell_type": "markdown",
   "id": "bca66d85",
   "metadata": {},
   "source": [
    "## Robust Scaler / Max Absolute Scaler:\n",
    "\n",
    "- Python Implementation: <br>\n",
    "from sklearn.preprocessing import MaxAbsScaler <br>\n",
    "scaler = MaxAbsScaler() <br>"
   ]
  },
  {
   "attachments": {
    "Mx_Absolute_Scaler.PNG": {
     "image/png": "[encoded data removed]"
    }
   },
   "cell_type": "markdown",
   "id": "3683dda8",
   "metadata": {},
   "source": [
    "![Mx_Absolute_Scaler.PNG](attachment:Mx_Absolute_Scaler.PNG)"
   ]
  },
  {
   "cell_type": "code",
   "execution_count": 31,
   "id": "6df67c82",
   "metadata": {},
   "outputs": [],
   "source": [
    "from sklearn.preprocessing import MaxAbsScaler"
   ]
  },
  {
   "cell_type": "code",
   "execution_count": 32,
   "id": "dc9765b8",
   "metadata": {},
   "outputs": [],
   "source": [
    "mx = MaxAbsScaler()"
   ]
  },
  {
   "cell_type": "code",
   "execution_count": 33,
   "id": "5ef2b969",
   "metadata": {},
   "outputs": [],
   "source": [
    "df['mx_abs'] = mx.fit_transform(df[['cost']])"
   ]
  },
  {
   "cell_type": "code",
   "execution_count": 34,
   "id": "846b9fdb",
   "metadata": {},
   "outputs": [
    {
     "data": {
      "text/html": [
       "<div>\n",
       "<style scoped>\n",
       "    .dataframe tbody tr th:only-of-type {\n",
       "        vertical-align: middle;\n",
       "    }\n",
       "\n",
       "    .dataframe tbody tr th {\n",
       "        vertical-align: top;\n",
       "    }\n",
       "\n",
       "    .dataframe thead th {\n",
       "        text-align: right;\n",
       "    }\n",
       "</style>\n",
       "<table border=\"1\" class=\"dataframe\">\n",
       "  <thead>\n",
       "    <tr style=\"text-align: right;\">\n",
       "      <th></th>\n",
       "      <th>cost</th>\n",
       "      <th>cost_norm_manual</th>\n",
       "      <th>cost_norm_sklearn</th>\n",
       "      <th>cost_std_manual</th>\n",
       "      <th>cost_std_sklearn</th>\n",
       "      <th>cost_std_manual2</th>\n",
       "      <th>cost_fc</th>\n",
       "      <th>fc_np</th>\n",
       "      <th>mx_abs</th>\n",
       "    </tr>\n",
       "  </thead>\n",
       "  <tbody>\n",
       "    <tr>\n",
       "      <th>0</th>\n",
       "      <td>100</td>\n",
       "      <td>0.00</td>\n",
       "      <td>0.00</td>\n",
       "      <td>-1.161738</td>\n",
       "      <td>-1.298863</td>\n",
       "      <td>-1.298863</td>\n",
       "      <td>4.615121</td>\n",
       "      <td>4.615121</td>\n",
       "      <td>0.333333</td>\n",
       "    </tr>\n",
       "    <tr>\n",
       "      <th>1</th>\n",
       "      <td>200</td>\n",
       "      <td>0.50</td>\n",
       "      <td>0.50</td>\n",
       "      <td>0.189120</td>\n",
       "      <td>0.211443</td>\n",
       "      <td>0.211443</td>\n",
       "      <td>5.303305</td>\n",
       "      <td>5.303305</td>\n",
       "      <td>0.666667</td>\n",
       "    </tr>\n",
       "    <tr>\n",
       "      <th>2</th>\n",
       "      <td>150</td>\n",
       "      <td>0.25</td>\n",
       "      <td>0.25</td>\n",
       "      <td>-0.486309</td>\n",
       "      <td>-0.543710</td>\n",
       "      <td>-0.543710</td>\n",
       "      <td>5.017280</td>\n",
       "      <td>5.017280</td>\n",
       "      <td>0.500000</td>\n",
       "    </tr>\n",
       "    <tr>\n",
       "      <th>3</th>\n",
       "      <td>300</td>\n",
       "      <td>1.00</td>\n",
       "      <td>1.00</td>\n",
       "      <td>1.539978</td>\n",
       "      <td>1.721748</td>\n",
       "      <td>1.721748</td>\n",
       "      <td>5.707110</td>\n",
       "      <td>5.707110</td>\n",
       "      <td>1.000000</td>\n",
       "    </tr>\n",
       "    <tr>\n",
       "      <th>4</th>\n",
       "      <td>180</td>\n",
       "      <td>0.40</td>\n",
       "      <td>0.40</td>\n",
       "      <td>-0.081051</td>\n",
       "      <td>-0.090618</td>\n",
       "      <td>-0.090618</td>\n",
       "      <td>5.198497</td>\n",
       "      <td>5.198497</td>\n",
       "      <td>0.600000</td>\n",
       "    </tr>\n",
       "  </tbody>\n",
       "</table>\n",
       "</div>"
      ],
      "text/plain": [
       "   cost  cost_norm_manual  cost_norm_sklearn  cost_std_manual  \\\n",
       "0   100              0.00               0.00        -1.161738   \n",
       "1   200              0.50               0.50         0.189120   \n",
       "2   150              0.25               0.25        -0.486309   \n",
       "3   300              1.00               1.00         1.539978   \n",
       "4   180              0.40               0.40        -0.081051   \n",
       "\n",
       "   cost_std_sklearn  cost_std_manual2   cost_fc     fc_np    mx_abs  \n",
       "0         -1.298863         -1.298863  4.615121  4.615121  0.333333  \n",
       "1          0.211443          0.211443  5.303305  5.303305  0.666667  \n",
       "2         -0.543710         -0.543710  5.017280  5.017280  0.500000  \n",
       "3          1.721748          1.721748  5.707110  5.707110  1.000000  \n",
       "4         -0.090618         -0.090618  5.198497  5.198497  0.600000  "
      ]
     },
     "execution_count": 34,
     "metadata": {},
     "output_type": "execute_result"
    }
   ],
   "source": [
    "df"
   ]
  },
  {
   "cell_type": "markdown",
   "id": "d8c009f1",
   "metadata": {},
   "source": [
    "# Power Transformer (box cox)"
   ]
  },
  {
   "cell_type": "code",
   "execution_count": 35,
   "id": "68e46912",
   "metadata": {},
   "outputs": [],
   "source": [
    "from scipy.stats import boxcox\n",
    "df['box cox'],_ = boxcox(df['cost']+1)"
   ]
  },
  {
   "cell_type": "code",
   "execution_count": 36,
   "id": "25d03713",
   "metadata": {},
   "outputs": [
    {
     "data": {
      "text/html": [
       "<div>\n",
       "<style scoped>\n",
       "    .dataframe tbody tr th:only-of-type {\n",
       "        vertical-align: middle;\n",
       "    }\n",
       "\n",
       "    .dataframe tbody tr th {\n",
       "        vertical-align: top;\n",
       "    }\n",
       "\n",
       "    .dataframe thead th {\n",
       "        text-align: right;\n",
       "    }\n",
       "</style>\n",
       "<table border=\"1\" class=\"dataframe\">\n",
       "  <thead>\n",
       "    <tr style=\"text-align: right;\">\n",
       "      <th></th>\n",
       "      <th>cost</th>\n",
       "      <th>cost_norm_manual</th>\n",
       "      <th>cost_norm_sklearn</th>\n",
       "      <th>cost_std_manual</th>\n",
       "      <th>cost_std_sklearn</th>\n",
       "      <th>cost_std_manual2</th>\n",
       "      <th>cost_fc</th>\n",
       "      <th>fc_np</th>\n",
       "      <th>mx_abs</th>\n",
       "      <th>box cox</th>\n",
       "    </tr>\n",
       "  </thead>\n",
       "  <tbody>\n",
       "    <tr>\n",
       "      <th>0</th>\n",
       "      <td>100</td>\n",
       "      <td>0.00</td>\n",
       "      <td>0.00</td>\n",
       "      <td>-1.161738</td>\n",
       "      <td>-1.298863</td>\n",
       "      <td>-1.298863</td>\n",
       "      <td>4.615121</td>\n",
       "      <td>4.615121</td>\n",
       "      <td>0.333333</td>\n",
       "      <td>5.609162</td>\n",
       "    </tr>\n",
       "    <tr>\n",
       "      <th>1</th>\n",
       "      <td>200</td>\n",
       "      <td>0.50</td>\n",
       "      <td>0.50</td>\n",
       "      <td>0.189120</td>\n",
       "      <td>0.211443</td>\n",
       "      <td>0.211443</td>\n",
       "      <td>5.303305</td>\n",
       "      <td>5.303305</td>\n",
       "      <td>0.666667</td>\n",
       "      <td>6.642560</td>\n",
       "    </tr>\n",
       "    <tr>\n",
       "      <th>2</th>\n",
       "      <td>150</td>\n",
       "      <td>0.25</td>\n",
       "      <td>0.25</td>\n",
       "      <td>-0.486309</td>\n",
       "      <td>-0.543710</td>\n",
       "      <td>-0.543710</td>\n",
       "      <td>5.017280</td>\n",
       "      <td>5.017280</td>\n",
       "      <td>0.500000</td>\n",
       "      <td>6.205968</td>\n",
       "    </tr>\n",
       "    <tr>\n",
       "      <th>3</th>\n",
       "      <td>300</td>\n",
       "      <td>1.00</td>\n",
       "      <td>1.00</td>\n",
       "      <td>1.539978</td>\n",
       "      <td>1.721748</td>\n",
       "      <td>1.721748</td>\n",
       "      <td>5.707110</td>\n",
       "      <td>5.707110</td>\n",
       "      <td>1.000000</td>\n",
       "      <td>7.276620</td>\n",
       "    </tr>\n",
       "    <tr>\n",
       "      <th>4</th>\n",
       "      <td>180</td>\n",
       "      <td>0.40</td>\n",
       "      <td>0.40</td>\n",
       "      <td>-0.081051</td>\n",
       "      <td>-0.090618</td>\n",
       "      <td>-0.090618</td>\n",
       "      <td>5.198497</td>\n",
       "      <td>5.198497</td>\n",
       "      <td>0.600000</td>\n",
       "      <td>6.481391</td>\n",
       "    </tr>\n",
       "  </tbody>\n",
       "</table>\n",
       "</div>"
      ],
      "text/plain": [
       "   cost  cost_norm_manual  cost_norm_sklearn  cost_std_manual  \\\n",
       "0   100              0.00               0.00        -1.161738   \n",
       "1   200              0.50               0.50         0.189120   \n",
       "2   150              0.25               0.25        -0.486309   \n",
       "3   300              1.00               1.00         1.539978   \n",
       "4   180              0.40               0.40        -0.081051   \n",
       "\n",
       "   cost_std_sklearn  cost_std_manual2   cost_fc     fc_np    mx_abs   box cox  \n",
       "0         -1.298863         -1.298863  4.615121  4.615121  0.333333  5.609162  \n",
       "1          0.211443          0.211443  5.303305  5.303305  0.666667  6.642560  \n",
       "2         -0.543710         -0.543710  5.017280  5.017280  0.500000  6.205968  \n",
       "3          1.721748          1.721748  5.707110  5.707110  1.000000  7.276620  \n",
       "4         -0.090618         -0.090618  5.198497  5.198497  0.600000  6.481391  "
      ]
     },
     "execution_count": 36,
     "metadata": {},
     "output_type": "execute_result"
    }
   ],
   "source": [
    "df"
   ]
  },
  {
   "cell_type": "code",
   "execution_count": null,
   "id": "3838ce0f",
   "metadata": {},
   "outputs": [],
   "source": []
  }
 ],
 "metadata": {
  "kernelspec": {
   "display_name": "Python 3 (ipykernel)",
   "language": "python",
   "name": "python3"
  },
  "language_info": {
   "codemirror_mode": {
    "name": "ipython",
    "version": 3
   },
   "file_extension": ".py",
   "mimetype": "text/x-python",
   "name": "python",
   "nbconvert_exporter": "python",
   "pygments_lexer": "ipython3",
   "version": "3.11.5"
  }
 },
 "nbformat": 4,
 "nbformat_minor": 5
}
